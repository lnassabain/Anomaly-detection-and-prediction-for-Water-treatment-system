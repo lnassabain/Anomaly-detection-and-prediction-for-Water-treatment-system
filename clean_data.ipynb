{
 "cells": [
  {
   "cell_type": "code",
   "execution_count": 1,
   "id": "british-michigan",
   "metadata": {
    "id": "manual-harbor"
   },
   "outputs": [],
   "source": [
    "import pandas as pd\n",
    "import numpy as np\n",
    "import seaborn as sns\n",
    "import matplotlib.pyplot as plt\n",
    "import os\n",
    "import re\n",
    "from datetime import timedelta"
   ]
  },
  {
   "cell_type": "code",
   "execution_count": 2,
   "id": "editorial-production",
   "metadata": {
    "id": "returning-fifty"
   },
   "outputs": [],
   "source": [
    "# from google.colab import drive\n",
    "# drive.mount('/content/drive')"
   ]
  },
  {
   "cell_type": "markdown",
   "id": "fossil-edmonton",
   "metadata": {
    "id": "c1CGMcTy6_ZI"
   },
   "source": [
    "# Importation et familiarisation avec le jeu de données"
   ]
  },
  {
   "cell_type": "code",
   "execution_count": 3,
   "id": "confident-fellowship",
   "metadata": {
    "colab": {
     "base_uri": "https://localhost:8080/"
    },
    "id": "buried-vancouver",
    "outputId": "a7d2582c-1e61-42a6-a7d9-76c46639e51f",
    "tags": []
   },
   "outputs": [
    {
     "name": "stderr",
     "output_type": "stream",
     "text": [
      "/Users/guillaume/opt/miniconda3/lib/python3.8/site-packages/IPython/core/interactiveshell.py:3165: DtypeWarning: Columns (1,2,3,4,5,6,7,8,9,10,15,16,17,18,19,20,21,22,23,24,25,26,27,28,29,30,31,32,33,34,35,36,37,38,39,40,41,43,44,45,46,47,48,49,50,51,52,53,54,55,56,57,58,59,60,61,62,63,64,65,66,67,74,75,76,77) have mixed types.Specify dtype option on import or set low_memory=False.\n",
      "  has_raised = await self.run_ast_nodes(code_ast.body, cell_name,\n"
     ]
    },
    {
     "data": {
      "text/html": [
       "<div>\n",
       "<style scoped>\n",
       "    .dataframe tbody tr th:only-of-type {\n",
       "        vertical-align: middle;\n",
       "    }\n",
       "\n",
       "    .dataframe tbody tr th {\n",
       "        vertical-align: top;\n",
       "    }\n",
       "\n",
       "    .dataframe thead th {\n",
       "        text-align: right;\n",
       "    }\n",
       "</style>\n",
       "<table border=\"1\" class=\"dataframe\">\n",
       "  <thead>\n",
       "    <tr style=\"text-align: right;\">\n",
       "      <th></th>\n",
       "      <th>Unnamed: 0</th>\n",
       "      <th>P1</th>\n",
       "      <th>Unnamed: 2</th>\n",
       "      <th>Unnamed: 3</th>\n",
       "      <th>Unnamed: 4</th>\n",
       "      <th>Unnamed: 5</th>\n",
       "      <th>Unnamed: 6</th>\n",
       "      <th>P2</th>\n",
       "      <th>Unnamed: 8</th>\n",
       "      <th>Unnamed: 9</th>\n",
       "      <th>...</th>\n",
       "      <th>Unnamed: 68</th>\n",
       "      <th>Unnamed: 69</th>\n",
       "      <th>Unnamed: 70</th>\n",
       "      <th>Unnamed: 71</th>\n",
       "      <th>Unnamed: 72</th>\n",
       "      <th>Unnamed: 73</th>\n",
       "      <th>Unnamed: 74</th>\n",
       "      <th>Unnamed: 75</th>\n",
       "      <th>Unnamed: 76</th>\n",
       "      <th>Unnamed: 77</th>\n",
       "    </tr>\n",
       "  </thead>\n",
       "  <tbody>\n",
       "    <tr>\n",
       "      <th>0</th>\n",
       "      <td>GMT +0</td>\n",
       "      <td>FIT 101</td>\n",
       "      <td>LIT 101</td>\n",
       "      <td>MV 101</td>\n",
       "      <td>P1_STATE</td>\n",
       "      <td>P101 Status</td>\n",
       "      <td>P102 Status</td>\n",
       "      <td>AIT 201</td>\n",
       "      <td>AIT 202</td>\n",
       "      <td>AIT 203</td>\n",
       "      <td>...</td>\n",
       "      <td>LSH 601</td>\n",
       "      <td>LSH 602</td>\n",
       "      <td>LSH 603</td>\n",
       "      <td>LSL 601</td>\n",
       "      <td>LSL 602</td>\n",
       "      <td>LSL 603</td>\n",
       "      <td>P6 STATE</td>\n",
       "      <td>P601 Status</td>\n",
       "      <td>P602 Status</td>\n",
       "      <td>P603 Status</td>\n",
       "    </tr>\n",
       "    <tr>\n",
       "      <th>1</th>\n",
       "      <td>timestamp</td>\n",
       "      <td>value</td>\n",
       "      <td>value</td>\n",
       "      <td>value</td>\n",
       "      <td>value</td>\n",
       "      <td>value</td>\n",
       "      <td>value</td>\n",
       "      <td>value</td>\n",
       "      <td>value</td>\n",
       "      <td>value</td>\n",
       "      <td>...</td>\n",
       "      <td>value</td>\n",
       "      <td>value</td>\n",
       "      <td>value</td>\n",
       "      <td>value</td>\n",
       "      <td>value</td>\n",
       "      <td>value</td>\n",
       "      <td>value</td>\n",
       "      <td>value</td>\n",
       "      <td>value</td>\n",
       "      <td>value</td>\n",
       "    </tr>\n",
       "    <tr>\n",
       "      <th>2</th>\n",
       "      <td>2019-07-20T04:30:00Z</td>\n",
       "      <td>0</td>\n",
       "      <td>729.8658</td>\n",
       "      <td>1</td>\n",
       "      <td>3</td>\n",
       "      <td>2</td>\n",
       "      <td>1</td>\n",
       "      <td>142.527557</td>\n",
       "      <td>9.293002</td>\n",
       "      <td>198.077423</td>\n",
       "      <td>...</td>\n",
       "      <td>Active</td>\n",
       "      <td>Active</td>\n",
       "      <td>Inactive</td>\n",
       "      <td>Inactive</td>\n",
       "      <td>Inactive</td>\n",
       "      <td>Active</td>\n",
       "      <td>2</td>\n",
       "      <td>1</td>\n",
       "      <td>1</td>\n",
       "      <td>1</td>\n",
       "    </tr>\n",
       "    <tr>\n",
       "      <th>3</th>\n",
       "      <td>2019-07-20T04:30:01Z</td>\n",
       "      <td>0</td>\n",
       "      <td>729.434</td>\n",
       "      <td>1</td>\n",
       "      <td>3</td>\n",
       "      <td>2</td>\n",
       "      <td>1</td>\n",
       "      <td>142.527557</td>\n",
       "      <td>9.293002</td>\n",
       "      <td>198.385025</td>\n",
       "      <td>...</td>\n",
       "      <td>Active</td>\n",
       "      <td>Active</td>\n",
       "      <td>Inactive</td>\n",
       "      <td>Inactive</td>\n",
       "      <td>Inactive</td>\n",
       "      <td>Active</td>\n",
       "      <td>2</td>\n",
       "      <td>1</td>\n",
       "      <td>1</td>\n",
       "      <td>1</td>\n",
       "    </tr>\n",
       "    <tr>\n",
       "      <th>4</th>\n",
       "      <td>2019-07-20T04:30:02.004013Z</td>\n",
       "      <td>0</td>\n",
       "      <td>729.12</td>\n",
       "      <td>1</td>\n",
       "      <td>3</td>\n",
       "      <td>2</td>\n",
       "      <td>1</td>\n",
       "      <td>142.527557</td>\n",
       "      <td>9.293002</td>\n",
       "      <td>198.4363</td>\n",
       "      <td>...</td>\n",
       "      <td>Active</td>\n",
       "      <td>Active</td>\n",
       "      <td>Inactive</td>\n",
       "      <td>Inactive</td>\n",
       "      <td>Inactive</td>\n",
       "      <td>Active</td>\n",
       "      <td>2</td>\n",
       "      <td>1</td>\n",
       "      <td>1</td>\n",
       "      <td>1</td>\n",
       "    </tr>\n",
       "  </tbody>\n",
       "</table>\n",
       "<p>5 rows × 78 columns</p>\n",
       "</div>"
      ],
      "text/plain": [
       "                    Unnamed: 0       P1 Unnamed: 2 Unnamed: 3 Unnamed: 4  \\\n",
       "0                       GMT +0  FIT 101    LIT 101     MV 101   P1_STATE   \n",
       "1                    timestamp    value      value      value      value   \n",
       "2         2019-07-20T04:30:00Z        0   729.8658          1          3   \n",
       "3         2019-07-20T04:30:01Z        0    729.434          1          3   \n",
       "4  2019-07-20T04:30:02.004013Z        0     729.12          1          3   \n",
       "\n",
       "    Unnamed: 5   Unnamed: 6          P2 Unnamed: 8  Unnamed: 9  ...  \\\n",
       "0  P101 Status  P102 Status     AIT 201    AIT 202     AIT 203  ...   \n",
       "1        value        value       value      value       value  ...   \n",
       "2            2            1  142.527557   9.293002  198.077423  ...   \n",
       "3            2            1  142.527557   9.293002  198.385025  ...   \n",
       "4            2            1  142.527557   9.293002    198.4363  ...   \n",
       "\n",
       "  Unnamed: 68 Unnamed: 69 Unnamed: 70 Unnamed: 71 Unnamed: 72 Unnamed: 73  \\\n",
       "0     LSH 601     LSH 602     LSH 603     LSL 601     LSL 602     LSL 603   \n",
       "1       value       value       value       value       value       value   \n",
       "2      Active      Active    Inactive    Inactive    Inactive      Active   \n",
       "3      Active      Active    Inactive    Inactive    Inactive      Active   \n",
       "4      Active      Active    Inactive    Inactive    Inactive      Active   \n",
       "\n",
       "  Unnamed: 74  Unnamed: 75  Unnamed: 76  Unnamed: 77  \n",
       "0    P6 STATE  P601 Status  P602 Status  P603 Status  \n",
       "1       value        value        value        value  \n",
       "2           2            1            1            1  \n",
       "3           2            1            1            1  \n",
       "4           2            1            1            1  \n",
       "\n",
       "[5 rows x 78 columns]"
      ]
     },
     "execution_count": 3,
     "metadata": {},
     "output_type": "execute_result"
    }
   ],
   "source": [
    "df = pd.read_csv('./SWaT_dataset_Jul_19_v2.csv')\n",
    "#df = pd.read_csv('drive/MyDrive/PDD/SWaT_dataset_Jul_19_v2.csv')\n",
    "#df = pd.read_csv('drive/MyDrive/ProtectionDeDonnees/SWaT_dataset_Jul_19_v2.csv')\n",
    "\n",
    "df.head()"
   ]
  },
  {
   "cell_type": "code",
   "execution_count": 4,
   "id": "unusual-improvement",
   "metadata": {
    "id": "false-stomach"
   },
   "outputs": [
    {
     "data": {
      "text/html": [
       "<div>\n",
       "<style scoped>\n",
       "    .dataframe tbody tr th:only-of-type {\n",
       "        vertical-align: middle;\n",
       "    }\n",
       "\n",
       "    .dataframe tbody tr th {\n",
       "        vertical-align: top;\n",
       "    }\n",
       "\n",
       "    .dataframe thead th {\n",
       "        text-align: right;\n",
       "    }\n",
       "</style>\n",
       "<table border=\"1\" class=\"dataframe\">\n",
       "  <thead>\n",
       "    <tr style=\"text-align: right;\">\n",
       "      <th></th>\n",
       "      <th>timestamp</th>\n",
       "      <th>FIT 101</th>\n",
       "      <th>LIT 101</th>\n",
       "      <th>MV 101</th>\n",
       "      <th>P1_STATE</th>\n",
       "      <th>P101 Status</th>\n",
       "      <th>P102 Status</th>\n",
       "      <th>AIT 201</th>\n",
       "      <th>AIT 202</th>\n",
       "      <th>AIT 203</th>\n",
       "      <th>...</th>\n",
       "      <th>LSH 601</th>\n",
       "      <th>LSH 602</th>\n",
       "      <th>LSH 603</th>\n",
       "      <th>LSL 601</th>\n",
       "      <th>LSL 602</th>\n",
       "      <th>LSL 603</th>\n",
       "      <th>P6 STATE</th>\n",
       "      <th>P601 Status</th>\n",
       "      <th>P602 Status</th>\n",
       "      <th>P603 Status</th>\n",
       "    </tr>\n",
       "  </thead>\n",
       "  <tbody>\n",
       "    <tr>\n",
       "      <th>0</th>\n",
       "      <td>4:30:00</td>\n",
       "      <td>0</td>\n",
       "      <td>729.8658</td>\n",
       "      <td>1</td>\n",
       "      <td>3</td>\n",
       "      <td>2</td>\n",
       "      <td>1</td>\n",
       "      <td>142.527557</td>\n",
       "      <td>9.293002</td>\n",
       "      <td>198.077423</td>\n",
       "      <td>...</td>\n",
       "      <td>Active</td>\n",
       "      <td>Active</td>\n",
       "      <td>Inactive</td>\n",
       "      <td>Inactive</td>\n",
       "      <td>Inactive</td>\n",
       "      <td>Active</td>\n",
       "      <td>2</td>\n",
       "      <td>1</td>\n",
       "      <td>1</td>\n",
       "      <td>1</td>\n",
       "    </tr>\n",
       "    <tr>\n",
       "      <th>1</th>\n",
       "      <td>4:30:01</td>\n",
       "      <td>0</td>\n",
       "      <td>729.434</td>\n",
       "      <td>1</td>\n",
       "      <td>3</td>\n",
       "      <td>2</td>\n",
       "      <td>1</td>\n",
       "      <td>142.527557</td>\n",
       "      <td>9.293002</td>\n",
       "      <td>198.385025</td>\n",
       "      <td>...</td>\n",
       "      <td>Active</td>\n",
       "      <td>Active</td>\n",
       "      <td>Inactive</td>\n",
       "      <td>Inactive</td>\n",
       "      <td>Inactive</td>\n",
       "      <td>Active</td>\n",
       "      <td>2</td>\n",
       "      <td>1</td>\n",
       "      <td>1</td>\n",
       "      <td>1</td>\n",
       "    </tr>\n",
       "    <tr>\n",
       "      <th>2</th>\n",
       "      <td>4:30:02</td>\n",
       "      <td>0</td>\n",
       "      <td>729.12</td>\n",
       "      <td>1</td>\n",
       "      <td>3</td>\n",
       "      <td>2</td>\n",
       "      <td>1</td>\n",
       "      <td>142.527557</td>\n",
       "      <td>9.293002</td>\n",
       "      <td>198.4363</td>\n",
       "      <td>...</td>\n",
       "      <td>Active</td>\n",
       "      <td>Active</td>\n",
       "      <td>Inactive</td>\n",
       "      <td>Inactive</td>\n",
       "      <td>Inactive</td>\n",
       "      <td>Active</td>\n",
       "      <td>2</td>\n",
       "      <td>1</td>\n",
       "      <td>1</td>\n",
       "      <td>1</td>\n",
       "    </tr>\n",
       "    <tr>\n",
       "      <th>3</th>\n",
       "      <td>4:30:03</td>\n",
       "      <td>0</td>\n",
       "      <td>728.6882</td>\n",
       "      <td>1</td>\n",
       "      <td>3</td>\n",
       "      <td>2</td>\n",
       "      <td>1</td>\n",
       "      <td>142.527557</td>\n",
       "      <td>9.289157</td>\n",
       "      <td>198.667</td>\n",
       "      <td>...</td>\n",
       "      <td>Active</td>\n",
       "      <td>Active</td>\n",
       "      <td>Inactive</td>\n",
       "      <td>Inactive</td>\n",
       "      <td>Inactive</td>\n",
       "      <td>Active</td>\n",
       "      <td>2</td>\n",
       "      <td>1</td>\n",
       "      <td>1</td>\n",
       "      <td>1</td>\n",
       "    </tr>\n",
       "    <tr>\n",
       "      <th>4</th>\n",
       "      <td>4:30:04</td>\n",
       "      <td>0</td>\n",
       "      <td>727.7069</td>\n",
       "      <td>1</td>\n",
       "      <td>3</td>\n",
       "      <td>2</td>\n",
       "      <td>1</td>\n",
       "      <td>142.527557</td>\n",
       "      <td>9.289157</td>\n",
       "      <td>198.89772</td>\n",
       "      <td>...</td>\n",
       "      <td>Active</td>\n",
       "      <td>Active</td>\n",
       "      <td>Inactive</td>\n",
       "      <td>Inactive</td>\n",
       "      <td>Inactive</td>\n",
       "      <td>Active</td>\n",
       "      <td>2</td>\n",
       "      <td>1</td>\n",
       "      <td>1</td>\n",
       "      <td>1</td>\n",
       "    </tr>\n",
       "  </tbody>\n",
       "</table>\n",
       "<p>5 rows × 78 columns</p>\n",
       "</div>"
      ],
      "text/plain": [
       "0 timestamp FIT 101   LIT 101 MV 101 P1_STATE P101 Status P102 Status  \\\n",
       "0   4:30:00       0  729.8658      1        3           2           1   \n",
       "1   4:30:01       0   729.434      1        3           2           1   \n",
       "2   4:30:02       0    729.12      1        3           2           1   \n",
       "3   4:30:03       0  728.6882      1        3           2           1   \n",
       "4   4:30:04       0  727.7069      1        3           2           1   \n",
       "\n",
       "0     AIT 201   AIT 202     AIT 203  ... LSH 601 LSH 602   LSH 603   LSL 601  \\\n",
       "0  142.527557  9.293002  198.077423  ...  Active  Active  Inactive  Inactive   \n",
       "1  142.527557  9.293002  198.385025  ...  Active  Active  Inactive  Inactive   \n",
       "2  142.527557  9.293002    198.4363  ...  Active  Active  Inactive  Inactive   \n",
       "3  142.527557  9.289157     198.667  ...  Active  Active  Inactive  Inactive   \n",
       "4  142.527557  9.289157   198.89772  ...  Active  Active  Inactive  Inactive   \n",
       "\n",
       "0   LSL 602 LSL 603 P6 STATE P601 Status P602 Status P603 Status  \n",
       "0  Inactive  Active        2           1           1           1  \n",
       "1  Inactive  Active        2           1           1           1  \n",
       "2  Inactive  Active        2           1           1           1  \n",
       "3  Inactive  Active        2           1           1           1  \n",
       "4  Inactive  Active        2           1           1           1  \n",
       "\n",
       "[5 rows x 78 columns]"
      ]
     },
     "execution_count": 4,
     "metadata": {},
     "output_type": "execute_result"
    }
   ],
   "source": [
    "# On met les bons noms de colones\n",
    "df.columns = df.loc[0]\n",
    "\n",
    "# On supprime les lignes inutiles\n",
    "df = df.drop([0,1], axis=0)\n",
    "\n",
    "# Mise a jour des index\n",
    "df.reset_index(inplace=True, drop=True)\n",
    "\n",
    "# On modifie la colone temps en ne gardant que l'heure, les minutes et les secondes\n",
    "# et on stocke sous format timedelta\n",
    "df = df.rename(columns={\"GMT +0\":\"timestamp\"})\n",
    "\n",
    "date_pattern = '[0-9]{2}:[0-9]{2}:[0-9]*'\n",
    "i=0\n",
    "for date in df['timestamp']:\n",
    "    hour = re.findall(date_pattern, date)\n",
    "    h = str(hour)[2:10]\n",
    "    n = h.split(':')\n",
    "    df['timestamp'][i] = timedelta(hours=int(n[0]), minutes=int(n[1]), seconds=int(n[2]))\n",
    "    i+=1\n",
    "\n",
    "df.head()"
   ]
  },
  {
   "cell_type": "markdown",
   "id": "affiliated-amsterdam",
   "metadata": {
    "id": "sorted-congress"
   },
   "source": [
    "# Data Observation"
   ]
  },
  {
   "cell_type": "code",
   "execution_count": 5,
   "id": "expressed-memorabilia",
   "metadata": {
    "colab": {
     "base_uri": "https://localhost:8080/"
    },
    "id": "criminal-reader",
    "outputId": "c468fb05-f043-448d-f05b-d50d6caaadb3"
   },
   "outputs": [
    {
     "name": "stdout",
     "output_type": "stream",
     "text": [
      "La taille du dataset est: 14996\n",
      "Nombre de colonnes dans le dataset: 78\n"
     ]
    }
   ],
   "source": [
    "print(\"La taille du dataset est: \" + str(len(df)))\n",
    "nbCols = len(df.columns)\n",
    "print(\"Nombre de colonnes dans le dataset: \" + str(nbCols))"
   ]
  },
  {
   "cell_type": "code",
   "execution_count": 6,
   "id": "written-chance",
   "metadata": {
    "colab": {
     "base_uri": "https://localhost:8080/"
    },
    "id": "american-surge",
    "outputId": "02a35e5c-de14-4377-ef1e-d195fa391e50"
   },
   "outputs": [
    {
     "name": "stdout",
     "output_type": "stream",
     "text": [
      "timestamp, type: object\n",
      "FIT 101, type: object\n",
      "LIT 101, type: object\n",
      "MV 101, type: object\n",
      "P1_STATE, type: object\n",
      "P101 Status, type: object\n",
      "P102 Status, type: object\n",
      "AIT 201, type: object\n",
      "AIT 202, type: object\n",
      "AIT 203, type: object\n",
      "FIT 201, type: object\n",
      "LS 201, type: object\n",
      "LS 202, type: object\n",
      "LSL 203, type: object\n",
      "LSLL 203, type: object\n",
      "MV201, type: object\n",
      "P2_STATE, type: object\n",
      "P201 Status, type: object\n",
      "P202 Status, type: object\n",
      "P203 Status, type: object\n",
      "P204 Status, type: object\n",
      "P205 Status, type: object\n",
      "P206 Status, type: object\n",
      "P207 Status, type: object\n",
      "P208 Status, type: object\n",
      "AIT 301, type: object\n",
      "AIT 302, type: object\n",
      "AIT 303, type: object\n",
      "DPIT 301, type: object\n",
      "FIT 301, type: object\n",
      "LIT 301, type: object\n",
      "MV 301, type: object\n",
      "MV 302, type: object\n",
      "MV 303, type: object\n",
      "MV 304, type: object\n",
      "P3_STATE, type: object\n",
      "P301 Status, type: object\n",
      "P302 Status, type: object\n",
      "AIT 401, type: object\n",
      "AIT 402, type: object\n",
      "FIT 401, type: object\n",
      "LIT 401, type: object\n",
      "LS 401, type: object\n",
      "P4_STATE, type: object\n",
      "P401 Status, type: object\n",
      "P402 Status, type: object\n",
      "P403 Status, type: object\n",
      "P404 Status, type: object\n",
      "UV401, type: object\n",
      "AIT 501, type: object\n",
      "AIT 502, type: object\n",
      "AIT 503, type: object\n",
      "AIT 504, type: object\n",
      "FIT 501, type: object\n",
      "FIT 502, type: object\n",
      "FIT 503, type: object\n",
      "FIT 504, type: object\n",
      "MV 501, type: object\n",
      "MV 502, type: object\n",
      "MV 503, type: object\n",
      "MV 504, type: object\n",
      "P5_STATE, type: object\n",
      "P501 Status, type: object\n",
      "P502 Status, type: object\n",
      "PIT 501, type: object\n",
      "PIT 502, type: object\n",
      "PIT 503, type: object\n",
      "FIT 601, type: object\n",
      "LSH 601, type: object\n",
      "LSH 602, type: object\n",
      "LSH 603, type: object\n",
      "LSL 601, type: object\n",
      "LSL 602, type: object\n",
      "LSL 603, type: object\n",
      "P6 STATE, type: object\n",
      "P601 Status, type: object\n",
      "P602 Status, type: object\n",
      "P603 Status, type: object\n"
     ]
    }
   ],
   "source": [
    "# Noms des colonnes et leur type\n",
    "for i in df.columns:\n",
    "  print(i + \", type: \" + str(df.dtypes[i]))"
   ]
  },
  {
   "cell_type": "markdown",
   "id": "vertical-extra",
   "metadata": {},
   "source": [
    "Quels sont les attributs catégoriques?\n",
    "\n",
    "Dans le jeu de données original, toutes les colonnes avaient le type 'object'\n",
    "Mais en examinant les differentes valeurs possibles dans chacune des colonnes il nous semble que certaines colonnes sont bien catégoriques mais qu'il en existe qui sont numériques"
   ]
  },
  {
   "cell_type": "code",
   "execution_count": 7,
   "id": "empty-mileage",
   "metadata": {
    "id": "atlantic-ontario"
   },
   "outputs": [],
   "source": [
    "# Liste de colonnes qui nous semblent être catégoriques\n",
    "cat_list = ['MV 101','P1_STATE','P101 Status','P102 Status','LS 201','LS 202',\\\n",
    "            'LSL 203','LSLL 203','MV201','P2_STATE','P201 Status','P202 Status',\\\n",
    "            'P203 Status','P204 Status','P205 Status','P206 Status','P207 Status',\\\n",
    "            'P208 Status','MV 301','MV 302','MV 303','MV 304','P3_STATE',\\\n",
    "            'P301 Status','P302 Status','LS 401','P4_STATE','P401 Status',\\\n",
    "            'P402 Status','P403 Status','P404 Status','UV401','MV 501','MV 502',\\\n",
    "            'MV 503','MV 504','P5_STATE','P501 Status','P502 Status','LSH 601',\\\n",
    "            'LSH 602','LSH 603','LSL 601','LSL 602','LSL 603','P6 STATE',\\\n",
    "            'P601 Status','P602 Status','P603 Status']\n",
    "\n",
    "# Liste de colonnes numériques\n",
    "num_list = list(set(list(df.columns)) - set(cat_list))\n",
    "\n",
    "# On enleve de la liste de colonnes numériques la colonne décrivant le temps\n",
    "num_list.remove('timestamp')"
   ]
  },
  {
   "cell_type": "code",
   "execution_count": 8,
   "id": "alive-breathing",
   "metadata": {
    "colab": {
     "base_uri": "https://localhost:8080/"
    },
    "id": "intimate-minnesota",
    "outputId": "5acd2af7-fdc6-42bd-b50d-e989254c53d5"
   },
   "outputs": [
    {
     "name": "stdout",
     "output_type": "stream",
     "text": [
      "Valeurs possibles de MV 101: ['1' '0' '2']\n",
      "Valeurs possibles de P1_STATE: ['3' '2']\n",
      "Valeurs possibles de P101 Status: ['2' '1']\n",
      "Valeurs possibles de P102 Status: ['1']\n",
      "Valeurs possibles de LS 201: ['Inactive']\n",
      "Valeurs possibles de LS 202: ['Inactive']\n",
      "Valeurs possibles de LSL 203: ['Inactive']\n",
      "Valeurs possibles de LSLL 203: ['Inactive']\n",
      "Valeurs possibles de MV201: ['2' '0' '1']\n",
      "Valeurs possibles de P2_STATE: ['2']\n",
      "Valeurs possibles de P201 Status: ['1']\n",
      "Valeurs possibles de P202 Status: ['1']\n",
      "Valeurs possibles de P203 Status: ['2' '1']\n",
      "Valeurs possibles de P204 Status: ['1']\n",
      "Valeurs possibles de P205 Status: ['2' '1']\n",
      "Valeurs possibles de P206 Status: ['1']\n",
      "Valeurs possibles de P207 Status: ['1']\n",
      "Valeurs possibles de P208 Status: ['1']\n",
      "Valeurs possibles de MV 301: ['1' '0' '2']\n",
      "Valeurs possibles de MV 302: ['1' '0' '2']\n",
      "Valeurs possibles de MV 303: ['1' '0' '2']\n",
      "Valeurs possibles de MV 304: ['1' '0' '2']\n",
      "Valeurs possibles de P3_STATE: ['99' '2' '4' '5' '6' '7' '9' '10' '14' '15' '16']\n",
      "Valeurs possibles de P301 Status: ['1' '2']\n",
      "Valeurs possibles de P302 Status: ['1']\n",
      "Valeurs possibles de LS 401: ['Inactive']\n",
      "Valeurs possibles de P4_STATE: ['4']\n",
      "Valeurs possibles de P401 Status: ['2' '1']\n",
      "Valeurs possibles de P402 Status: ['1']\n",
      "Valeurs possibles de P403 Status: ['1']\n",
      "Valeurs possibles de P404 Status: ['1']\n",
      "Valeurs possibles de UV401: ['2' '1']\n",
      "Valeurs possibles de MV 501: ['2' '0' '1']\n",
      "Valeurs possibles de MV 502: ['2']\n",
      "Valeurs possibles de MV 503: ['1']\n",
      "Valeurs possibles de MV 504: ['1']\n",
      "Valeurs possibles de P5_STATE: ['12']\n",
      "Valeurs possibles de P501 Status: ['2']\n",
      "Valeurs possibles de P502 Status: ['1']\n",
      "Valeurs possibles de LSH 601: ['Active' 'Inactive']\n",
      "Valeurs possibles de LSH 602: ['Active']\n",
      "Valeurs possibles de LSH 603: ['Inactive']\n",
      "Valeurs possibles de LSL 601: ['Inactive']\n",
      "Valeurs possibles de LSL 602: ['Inactive']\n",
      "Valeurs possibles de LSL 603: ['Active']\n",
      "Valeurs possibles de P6 STATE: ['2']\n",
      "Valeurs possibles de P601 Status: ['1' '2']\n",
      "Valeurs possibles de P602 Status: ['1']\n",
      "Valeurs possibles de P603 Status: ['1']\n"
     ]
    }
   ],
   "source": [
    "# Pour chaque colonne catégorique on affiche les valeurs possibles\n",
    "for i in cat_list:\n",
    "  df[i] = df[i].astype(str).astype(object)\n",
    "  print(\"Valeurs possibles de \"+ str(i) + \": \" + str(df[i].unique()))"
   ]
  },
  {
   "cell_type": "markdown",
   "id": "international-ordinary",
   "metadata": {},
   "source": [
    "Parmi les colonnes categoriques, nous allons enlever les colonnes ayant uniquement une valeur"
   ]
  },
  {
   "cell_type": "code",
   "execution_count": 9,
   "id": "bacterial-standard",
   "metadata": {
    "colab": {
     "base_uri": "https://localhost:8080/"
    },
    "id": "UjR3EDTluFOj",
    "outputId": "658e8cb1-7a57-416e-8071-09d6493cffd3"
   },
   "outputs": [
    {
     "name": "stdout",
     "output_type": "stream",
     "text": [
      "P102 Status, et la valeur est: ['1']\n",
      "LS 201, et la valeur est: ['Inactive']\n",
      "LS 202, et la valeur est: ['Inactive']\n",
      "LSL 203, et la valeur est: ['Inactive']\n",
      "LSLL 203, et la valeur est: ['Inactive']\n",
      "P2_STATE, et la valeur est: ['2']\n",
      "P201 Status, et la valeur est: ['1']\n",
      "P202 Status, et la valeur est: ['1']\n",
      "P204 Status, et la valeur est: ['1']\n",
      "P206 Status, et la valeur est: ['1']\n",
      "P207 Status, et la valeur est: ['1']\n",
      "P208 Status, et la valeur est: ['1']\n",
      "P302 Status, et la valeur est: ['1']\n",
      "LS 401, et la valeur est: ['Inactive']\n",
      "P4_STATE, et la valeur est: ['4']\n",
      "P402 Status, et la valeur est: ['1']\n",
      "P403 Status, et la valeur est: ['1']\n",
      "P404 Status, et la valeur est: ['1']\n",
      "MV 502, et la valeur est: ['2']\n",
      "MV 503, et la valeur est: ['1']\n",
      "MV 504, et la valeur est: ['1']\n",
      "P5_STATE, et la valeur est: ['12']\n",
      "P501 Status, et la valeur est: ['2']\n",
      "P502 Status, et la valeur est: ['1']\n",
      "LSH 602, et la valeur est: ['Active']\n",
      "LSH 603, et la valeur est: ['Inactive']\n",
      "LSL 601, et la valeur est: ['Inactive']\n",
      "LSL 602, et la valeur est: ['Inactive']\n",
      "LSL 603, et la valeur est: ['Active']\n",
      "P6 STATE, et la valeur est: ['2']\n",
      "P602 Status, et la valeur est: ['1']\n",
      "P603 Status, et la valeur est: ['1']\n"
     ]
    }
   ],
   "source": [
    "const_cat = []\n",
    "for i in cat_list:\n",
    "  l = len(df[i].unique())\n",
    "  if (l == 1):\n",
    "    print(str(i) + \", et la valeur est: \" + str(df[i].unique()))\n",
    "    df = df.drop(i, axis=1)\n",
    "    const_cat.append(i)\n",
    "\n",
    "#On enleve de la liste de colonnes categoriques toutes les colonnes constantes\n",
    "cat_list = list(set(cat_list) - set(const_cat))"
   ]
  },
  {
   "cell_type": "markdown",
   "id": "possible-politics",
   "metadata": {},
   "source": [
    "Ensuite pour les colonnes numériques nous aimerions afficher pour chaque colonne, le minmum, le maximum, la moyenne, la mediane et l'ecart-type.\n",
    "Pour faire cela, nous devons d'abord changer le type de la colonne en float"
   ]
  },
  {
   "cell_type": "code",
   "execution_count": 10,
   "id": "superb-measurement",
   "metadata": {
    "colab": {
     "base_uri": "https://localhost:8080/"
    },
    "id": "quality-morning",
    "outputId": "6ab66306-7fd9-439f-a9c3-9590dab3165b"
   },
   "outputs": [
    {
     "name": "stdout",
     "output_type": "stream",
     "text": [
      "count    14996.000000\n",
      "mean       247.985162\n",
      "std         11.806186\n",
      "min        198.077423\n",
      "25%        239.887200\n",
      "50%        246.218918\n",
      "75%        257.190460\n",
      "max        272.289154\n",
      "Name: AIT 203, dtype: float64\n",
      "count    14996.000000\n",
      "mean      1016.263990\n",
      "std          0.028943\n",
      "min       1016.053590\n",
      "25%       1016.277890\n",
      "50%       1016.277890\n",
      "75%       1016.277890\n",
      "max       1016.438110\n",
      "Name: AIT 503, dtype: float64\n",
      "count    14996.000000\n",
      "mean         0.740876\n",
      "std          1.634632\n",
      "min          0.000000\n",
      "25%          0.000000\n",
      "50%          0.000000\n",
      "75%          0.000000\n",
      "max          4.403484\n",
      "Name: FIT 101, dtype: float64\n",
      "count    14996.000000\n",
      "mean       142.095907\n",
      "std          3.166724\n",
      "min        134.131500\n",
      "25%        142.710800\n",
      "50%        143.383057\n",
      "75%        143.863235\n",
      "max        153.787048\n",
      "Name: AIT 303, dtype: float64\n",
      "count    14996.000000\n",
      "mean        69.268478\n",
      "std          8.878605\n",
      "min         61.394516\n",
      "25%         65.957440\n",
      "50%         68.982315\n",
      "75%         69.982056\n",
      "max        147.398100\n",
      "Name: AIT 502, dtype: float64\n",
      "count    14996.000000\n",
      "mean       733.960251\n",
      "std        110.960185\n",
      "min        491.169769\n",
      "25%        640.595184\n",
      "50%        819.636841\n",
      "75%        820.971436\n",
      "max        825.092957\n",
      "Name: LIT 101, dtype: float64\n",
      "count    14996.000000\n",
      "mean         0.000402\n",
      "std          0.003317\n",
      "min          0.000000\n",
      "25%          0.000256\n",
      "50%          0.000320\n",
      "75%          0.000320\n",
      "max          0.137315\n",
      "Name: FIT 601, dtype: float64\n",
      "count    14996.000000\n",
      "mean         0.794251\n",
      "std          0.040510\n",
      "min          0.462386\n",
      "25%          0.797746\n",
      "50%          0.799411\n",
      "75%          0.801972\n",
      "max          0.818490\n",
      "Name: FIT 401, dtype: float64\n",
      "count    14996.000000\n",
      "mean       115.157048\n",
      "std          5.324942\n",
      "min        111.654060\n",
      "25%        114.233528\n",
      "50%        114.714172\n",
      "75%        115.002563\n",
      "max        170.565247\n",
      "Name: PIT 503, dtype: float64\n",
      "count    14996.000000\n",
      "mean         0.340819\n",
      "std          0.041552\n",
      "min          0.001793\n",
      "25%          0.327270\n",
      "50%          0.346868\n",
      "75%          0.365441\n",
      "max          0.515307\n",
      "Name: FIT 502, dtype: float64\n",
      "count    14996.000000\n",
      "mean       138.766501\n",
      "std          8.265845\n",
      "min        113.849014\n",
      "25%        131.536789\n",
      "50%        143.713150\n",
      "75%        144.033585\n",
      "max        146.821335\n",
      "Name: AIT 201, dtype: float64\n",
      "count    14996.000000\n",
      "mean        14.032767\n",
      "std         14.145882\n",
      "min          3.332479\n",
      "25%          5.075622\n",
      "50%          9.741092\n",
      "75%         15.790823\n",
      "max         87.951805\n",
      "Name: AIT 402, dtype: float64\n",
      "count    14996.000000\n",
      "mean         8.718149\n",
      "std          0.102093\n",
      "min          8.339394\n",
      "25%          8.665143\n",
      "50%          8.745566\n",
      "75%          8.790512\n",
      "max          8.895800\n",
      "Name: AIT 301, dtype: float64\n",
      "count    14996.000000\n",
      "mean         0.798153\n",
      "std          0.033274\n",
      "min          0.457703\n",
      "25%          0.799539\n",
      "50%          0.801589\n",
      "75%          0.802871\n",
      "max          0.827736\n",
      "Name: FIT 501, dtype: float64\n",
      "count    14996.000000\n",
      "mean         6.510505\n",
      "std          5.556797\n",
      "min          0.918753\n",
      "25%          1.206863\n",
      "50%          1.498175\n",
      "75%         12.520008\n",
      "max         12.913759\n",
      "Name: DPIT 301, dtype: float64\n",
      "count    14996.000000\n",
      "mean         0.824523\n",
      "std          0.856954\n",
      "min          0.000000\n",
      "25%          0.000512\n",
      "50%          0.000641\n",
      "75%          1.718220\n",
      "max          1.856452\n",
      "Name: FIT 301, dtype: float64\n",
      "count    14996.000000\n",
      "mean       160.706744\n",
      "std          5.707502\n",
      "min        158.132523\n",
      "25%        159.526400\n",
      "50%        160.231354\n",
      "75%        160.695969\n",
      "max        219.014359\n",
      "Name: PIT 501, dtype: float64\n",
      "count    14996.000000\n",
      "mean       946.637019\n",
      "std         92.168566\n",
      "min        730.702100\n",
      "25%        858.103317\n",
      "50%        981.158700\n",
      "75%       1009.156310\n",
      "max       1112.775630\n",
      "Name: LIT 301, dtype: float64\n",
      "count    14996.000000\n",
      "mean       283.695239\n",
      "std          8.547831\n",
      "min        256.431274\n",
      "25%        277.303284\n",
      "50%        281.656952\n",
      "75%        292.285034\n",
      "max        299.020416\n",
      "Name: AIT 302, dtype: float64\n",
      "count    14996.000000\n",
      "mean         4.673115\n",
      "std         18.183883\n",
      "min          2.450902\n",
      "25%          2.851376\n",
      "50%          2.883414\n",
      "75%          2.963509\n",
      "max        192.371765\n",
      "Name: PIT 502, dtype: float64\n",
      "count    14996.000000\n",
      "mean         7.710572\n",
      "std          0.059549\n",
      "min          7.483530\n",
      "25%          7.696296\n",
      "50%          7.733146\n",
      "75%          7.749808\n",
      "max          7.768393\n",
      "Name: AIT 501, dtype: float64\n",
      "count    14996.000000\n",
      "mean         9.210022\n",
      "std          0.175812\n",
      "min          8.768457\n",
      "25%          9.090170\n",
      "50%          9.233082\n",
      "75%          9.345873\n",
      "max          9.490067\n",
      "Name: AIT 202, dtype: float64\n",
      "count    14996.0\n",
      "mean         0.0\n",
      "std          0.0\n",
      "min          0.0\n",
      "25%          0.0\n",
      "50%          0.0\n",
      "75%          0.0\n",
      "max          0.0\n",
      "Name: AIT 401, dtype: float64\n",
      "count    14996.000000\n",
      "mean         0.611743\n",
      "std          0.015349\n",
      "min          0.583043\n",
      "25%          0.608264\n",
      "50%          0.610441\n",
      "75%          0.611465\n",
      "max          0.769324\n",
      "Name: FIT 503, dtype: float64\n",
      "count    14996.000000\n",
      "mean         0.211526\n",
      "std          0.006174\n",
      "min          0.198059\n",
      "25%          0.209909\n",
      "50%          0.211126\n",
      "75%          0.211895\n",
      "max          0.275694\n",
      "Name: FIT 504, dtype: float64\n",
      "count    14996.000000\n",
      "mean        25.231166\n",
      "std          1.862370\n",
      "min         23.647783\n",
      "25%         24.609074\n",
      "50%         24.839785\n",
      "75%         25.032044\n",
      "max         47.103306\n",
      "Name: AIT 504, dtype: float64\n",
      "count    14996.000000\n",
      "mean         0.869760\n",
      "std          1.121283\n",
      "min          0.000000\n",
      "25%          0.000384\n",
      "50%          0.000513\n",
      "75%          2.320187\n",
      "max          2.342357\n",
      "Name: FIT 201, dtype: float64\n",
      "count    14996.000000\n",
      "mean       886.224353\n",
      "std         63.100612\n",
      "min        756.921300\n",
      "25%        832.132800\n",
      "50%        881.274048\n",
      "75%        940.230069\n",
      "max       1003.550350\n",
      "Name: LIT 401, dtype: float64\n"
     ]
    }
   ],
   "source": [
    "for i in num_list:\n",
    "    df[i] = df[i].astype(float)\n",
    "\n",
    "for i in num_list:\n",
    "    print(df[i].describe())"
   ]
  },
  {
   "cell_type": "markdown",
   "id": "grand-transparency",
   "metadata": {},
   "source": [
    "Parmi les colonnes numériques, nous allons enlever les colonnes ayant uniquement une valeur"
   ]
  },
  {
   "cell_type": "code",
   "execution_count": 11,
   "id": "coral-implement",
   "metadata": {
    "colab": {
     "base_uri": "https://localhost:8080/"
    },
    "id": "6Tssvo-YzbCt",
    "outputId": "59a3e1cd-f8df-4933-d0b9-f129ebe7fcf4"
   },
   "outputs": [
    {
     "name": "stdout",
     "output_type": "stream",
     "text": [
      "AIT 401, et la valeur est: [0.]\n"
     ]
    }
   ],
   "source": [
    "const_num = []\n",
    "for i in num_list:\n",
    "  l = len(df[i].unique())\n",
    "  if (l == 1):\n",
    "    print(str(i) + \", et la valeur est: \" + str(df[i].unique()))\n",
    "    df = df.drop(i, axis=1)\n",
    "    const_num.append(i)\n",
    "\n",
    "#On enleve de la liste de colonnes numeriques toutes les colonnes constantes\n",
    "num_list = list(set(num_list) - set(const_num))"
   ]
  },
  {
   "cell_type": "markdown",
   "id": "individual-spyware",
   "metadata": {},
   "source": [
    "On vérifie qu'il n'y ait pas de NaN dans les colonnes pour eventuellement les éliminer."
   ]
  },
  {
   "cell_type": "code",
   "execution_count": 12,
   "id": "killing-cosmetic",
   "metadata": {
    "colab": {
     "base_uri": "https://localhost:8080/"
    },
    "id": "actual-joshua",
    "outputId": "daae95ae-12b7-4cd9-f0ee-3fd19732492e"
   },
   "outputs": [
    {
     "name": "stdout",
     "output_type": "stream",
     "text": [
      "Il n'y a pas de données manquantes\n"
     ]
    }
   ],
   "source": [
    "nan = False\n",
    "cols = list(df.columns)\n",
    "for i in cols:\n",
    "    nan_number = df[i].isna().sum()\n",
    "    if (nan_number > 0):\n",
    "        print(str((nan_number/df.shape[0])*100)+'%')\n",
    "        nan = True\n",
    "        \n",
    "if (nan == False):\n",
    "    print('Il n\\'y a pas de données manquantes')"
   ]
  },
  {
   "cell_type": "code",
   "execution_count": 13,
   "id": "greater-remedy",
   "metadata": {
    "colab": {
     "base_uri": "https://localhost:8080/"
    },
    "id": "iXtewpr-8bLe",
    "outputId": "7a5083a4-2ae8-4d22-f976-35fdeb14a231"
   },
   "outputs": [
    {
     "name": "stdout",
     "output_type": "stream",
     "text": [
      "Le jeu de données comporte maintenant 45 colonnes\n"
     ]
    }
   ],
   "source": [
    "print('Le jeu de données comporte maintenant ' + str(len(df.columns)) + ' colonnes')"
   ]
  },
  {
   "cell_type": "markdown",
   "id": "meaning-cigarette",
   "metadata": {
    "id": "focal-flavor"
   },
   "source": [
    "# Labelisation des données representant les 6 attaques selon pdf\n",
    "\n",
    "On déclare les debuts et fins des differentes attaques\n",
    "A noter que les heures indiqué dans le pdf expliquant le déroulement des attaques sont à GMT +8 de celles du csv"
   ]
  },
  {
   "cell_type": "markdown",
   "id": "bottom-seller",
   "metadata": {
    "id": "chicken-lebanon"
   },
   "source": [
    "On creer les colones qui serviront pour labeliser les attaques\n",
    "Pour l'instant que des 0"
   ]
  },
  {
   "cell_type": "code",
   "execution_count": 14,
   "id": "wrapped-textbook",
   "metadata": {
    "id": "considerable-patent"
   },
   "outputs": [
    {
     "data": {
      "text/html": [
       "<div>\n",
       "<style scoped>\n",
       "    .dataframe tbody tr th:only-of-type {\n",
       "        vertical-align: middle;\n",
       "    }\n",
       "\n",
       "    .dataframe tbody tr th {\n",
       "        vertical-align: top;\n",
       "    }\n",
       "\n",
       "    .dataframe thead th {\n",
       "        text-align: right;\n",
       "    }\n",
       "</style>\n",
       "<table border=\"1\" class=\"dataframe\">\n",
       "  <thead>\n",
       "    <tr style=\"text-align: right;\">\n",
       "      <th></th>\n",
       "      <th>timestamp</th>\n",
       "      <th>FIT 101</th>\n",
       "      <th>LIT 101</th>\n",
       "      <th>MV 101</th>\n",
       "      <th>P1_STATE</th>\n",
       "      <th>P101 Status</th>\n",
       "      <th>AIT 201</th>\n",
       "      <th>AIT 202</th>\n",
       "      <th>AIT 203</th>\n",
       "      <th>FIT 201</th>\n",
       "      <th>...</th>\n",
       "      <th>PIT 503</th>\n",
       "      <th>FIT 601</th>\n",
       "      <th>LSH 601</th>\n",
       "      <th>P601 Status</th>\n",
       "      <th>FIT401_attack</th>\n",
       "      <th>LIT301_attack</th>\n",
       "      <th>P601_attack</th>\n",
       "      <th>MultiPoint_attack</th>\n",
       "      <th>MV501_attack</th>\n",
       "      <th>P301_attack</th>\n",
       "    </tr>\n",
       "  </thead>\n",
       "  <tbody>\n",
       "    <tr>\n",
       "      <th>0</th>\n",
       "      <td>4:30:00</td>\n",
       "      <td>0.0</td>\n",
       "      <td>729.8658</td>\n",
       "      <td>1</td>\n",
       "      <td>3</td>\n",
       "      <td>2</td>\n",
       "      <td>142.527557</td>\n",
       "      <td>9.293002</td>\n",
       "      <td>198.077423</td>\n",
       "      <td>2.335437</td>\n",
       "      <td>...</td>\n",
       "      <td>119.921173</td>\n",
       "      <td>0.00032</td>\n",
       "      <td>Active</td>\n",
       "      <td>1</td>\n",
       "      <td>0</td>\n",
       "      <td>0</td>\n",
       "      <td>0</td>\n",
       "      <td>0</td>\n",
       "      <td>0</td>\n",
       "      <td>0</td>\n",
       "    </tr>\n",
       "    <tr>\n",
       "      <th>1</th>\n",
       "      <td>4:30:01</td>\n",
       "      <td>0.0</td>\n",
       "      <td>729.4340</td>\n",
       "      <td>1</td>\n",
       "      <td>3</td>\n",
       "      <td>2</td>\n",
       "      <td>142.527557</td>\n",
       "      <td>9.293002</td>\n",
       "      <td>198.385025</td>\n",
       "      <td>2.335437</td>\n",
       "      <td>...</td>\n",
       "      <td>119.921173</td>\n",
       "      <td>0.00032</td>\n",
       "      <td>Active</td>\n",
       "      <td>1</td>\n",
       "      <td>0</td>\n",
       "      <td>0</td>\n",
       "      <td>0</td>\n",
       "      <td>0</td>\n",
       "      <td>0</td>\n",
       "      <td>0</td>\n",
       "    </tr>\n",
       "    <tr>\n",
       "      <th>2</th>\n",
       "      <td>4:30:02</td>\n",
       "      <td>0.0</td>\n",
       "      <td>729.1200</td>\n",
       "      <td>1</td>\n",
       "      <td>3</td>\n",
       "      <td>2</td>\n",
       "      <td>142.527557</td>\n",
       "      <td>9.293002</td>\n",
       "      <td>198.436300</td>\n",
       "      <td>2.335437</td>\n",
       "      <td>...</td>\n",
       "      <td>119.921173</td>\n",
       "      <td>0.00032</td>\n",
       "      <td>Active</td>\n",
       "      <td>1</td>\n",
       "      <td>0</td>\n",
       "      <td>0</td>\n",
       "      <td>0</td>\n",
       "      <td>0</td>\n",
       "      <td>0</td>\n",
       "      <td>0</td>\n",
       "    </tr>\n",
       "    <tr>\n",
       "      <th>3</th>\n",
       "      <td>4:30:03</td>\n",
       "      <td>0.0</td>\n",
       "      <td>728.6882</td>\n",
       "      <td>1</td>\n",
       "      <td>3</td>\n",
       "      <td>2</td>\n",
       "      <td>142.527557</td>\n",
       "      <td>9.289157</td>\n",
       "      <td>198.667000</td>\n",
       "      <td>2.335437</td>\n",
       "      <td>...</td>\n",
       "      <td>119.921173</td>\n",
       "      <td>0.00032</td>\n",
       "      <td>Active</td>\n",
       "      <td>1</td>\n",
       "      <td>0</td>\n",
       "      <td>0</td>\n",
       "      <td>0</td>\n",
       "      <td>0</td>\n",
       "      <td>0</td>\n",
       "      <td>0</td>\n",
       "    </tr>\n",
       "    <tr>\n",
       "      <th>4</th>\n",
       "      <td>4:30:04</td>\n",
       "      <td>0.0</td>\n",
       "      <td>727.7069</td>\n",
       "      <td>1</td>\n",
       "      <td>3</td>\n",
       "      <td>2</td>\n",
       "      <td>142.527557</td>\n",
       "      <td>9.289157</td>\n",
       "      <td>198.897720</td>\n",
       "      <td>2.335437</td>\n",
       "      <td>...</td>\n",
       "      <td>119.921173</td>\n",
       "      <td>0.00032</td>\n",
       "      <td>Active</td>\n",
       "      <td>1</td>\n",
       "      <td>0</td>\n",
       "      <td>0</td>\n",
       "      <td>0</td>\n",
       "      <td>0</td>\n",
       "      <td>0</td>\n",
       "      <td>0</td>\n",
       "    </tr>\n",
       "  </tbody>\n",
       "</table>\n",
       "<p>5 rows × 51 columns</p>\n",
       "</div>"
      ],
      "text/plain": [
       "0 timestamp  FIT 101   LIT 101 MV 101 P1_STATE P101 Status     AIT 201  \\\n",
       "0   4:30:00      0.0  729.8658      1        3           2  142.527557   \n",
       "1   4:30:01      0.0  729.4340      1        3           2  142.527557   \n",
       "2   4:30:02      0.0  729.1200      1        3           2  142.527557   \n",
       "3   4:30:03      0.0  728.6882      1        3           2  142.527557   \n",
       "4   4:30:04      0.0  727.7069      1        3           2  142.527557   \n",
       "\n",
       "0   AIT 202     AIT 203   FIT 201  ...     PIT 503  FIT 601 LSH 601  \\\n",
       "0  9.293002  198.077423  2.335437  ...  119.921173  0.00032  Active   \n",
       "1  9.293002  198.385025  2.335437  ...  119.921173  0.00032  Active   \n",
       "2  9.293002  198.436300  2.335437  ...  119.921173  0.00032  Active   \n",
       "3  9.289157  198.667000  2.335437  ...  119.921173  0.00032  Active   \n",
       "4  9.289157  198.897720  2.335437  ...  119.921173  0.00032  Active   \n",
       "\n",
       "0  P601 Status  FIT401_attack  LIT301_attack  P601_attack  MultiPoint_attack  \\\n",
       "0            1              0              0            0                  0   \n",
       "1            1              0              0            0                  0   \n",
       "2            1              0              0            0                  0   \n",
       "3            1              0              0            0                  0   \n",
       "4            1              0              0            0                  0   \n",
       "\n",
       "0  MV501_attack P301_attack  \n",
       "0             0           0  \n",
       "1             0           0  \n",
       "2             0           0  \n",
       "3             0           0  \n",
       "4             0           0  \n",
       "\n",
       "[5 rows x 51 columns]"
      ]
     },
     "execution_count": 14,
     "metadata": {},
     "output_type": "execute_result"
    }
   ],
   "source": [
    "df['FIT401_attack'] = pd.Series(np.zeros(len(df)).astype(int))\n",
    "df['LIT301_attack'] = pd.Series(np.zeros(len(df)).astype(int))\n",
    "df['P601_attack'] = pd.Series(np.zeros(len(df)).astype(int))\n",
    "df['MultiPoint_attack'] = pd.Series(np.zeros(len(df)).astype(int))\n",
    "df['MV501_attack'] = pd.Series(np.zeros(len(df)).astype(int))\n",
    "df['P301_attack'] = pd.Series(np.zeros(len(df)).astype(int))\n",
    "\n",
    "df.head()"
   ]
  },
  {
   "cell_type": "code",
   "execution_count": 15,
   "id": "consecutive-laser",
   "metadata": {
    "id": "alien-today"
   },
   "outputs": [],
   "source": [
    "deb_FIT401 = timedelta(hours=7, minutes=8, seconds=46)\n",
    "fin_FIT401 = timedelta(hours=7, minutes=10, seconds=31)\n",
    "\n",
    "deb_LIT301 = timedelta(hours=7, minutes=15, seconds=0)\n",
    "fin_LIT301 = timedelta(hours=7, minutes=19, seconds=32)\n",
    "\n",
    "deb_P601 = timedelta(hours=7, minutes=26, seconds=57)\n",
    "fin_P601 = timedelta(hours=7, minutes=30, seconds=48)\n",
    "\n",
    "deb_MultiPoint = timedelta(hours=7, minutes=38, seconds=50)\n",
    "fin_MultiPoint = timedelta(hours=7, minutes=46, seconds=20)\n",
    "\n",
    "deb_MV501 = timedelta(hours=7, minutes=54, seconds=0)\n",
    "fin_MV501 = timedelta(hours=7, minutes=56, seconds=0)\n",
    "\n",
    "deb_P301 = timedelta(hours=8, minutes=2, seconds=56)\n",
    "fin_P301 = timedelta(hours=8, minutes=16, seconds=18)"
   ]
  },
  {
   "cell_type": "markdown",
   "id": "thick-investigation",
   "metadata": {
    "id": "innocent-affect"
   },
   "source": [
    "Parcourt du dataframe pour labeliser les données selon les attaques"
   ]
  },
  {
   "cell_type": "code",
   "execution_count": 16,
   "id": "affiliated-washington",
   "metadata": {
    "colab": {
     "base_uri": "https://localhost:8080/"
    },
    "id": "cardiovascular-lemon",
    "outputId": "0de9396e-e217-4b89-a9df-a900ae3c6e01"
   },
   "outputs": [
    {
     "name": "stderr",
     "output_type": "stream",
     "text": [
      "<ipython-input-16-b9ef0f40c976>:4: SettingWithCopyWarning: \n",
      "A value is trying to be set on a copy of a slice from a DataFrame\n",
      "\n",
      "See the caveats in the documentation: https://pandas.pydata.org/pandas-docs/stable/user_guide/indexing.html#returning-a-view-versus-a-copy\n",
      "  df['FIT401_attack'][i] = 1\n",
      "<ipython-input-16-b9ef0f40c976>:6: SettingWithCopyWarning: \n",
      "A value is trying to be set on a copy of a slice from a DataFrame\n",
      "\n",
      "See the caveats in the documentation: https://pandas.pydata.org/pandas-docs/stable/user_guide/indexing.html#returning-a-view-versus-a-copy\n",
      "  df['LIT301_attack'][i] = 1\n",
      "<ipython-input-16-b9ef0f40c976>:8: SettingWithCopyWarning: \n",
      "A value is trying to be set on a copy of a slice from a DataFrame\n",
      "\n",
      "See the caveats in the documentation: https://pandas.pydata.org/pandas-docs/stable/user_guide/indexing.html#returning-a-view-versus-a-copy\n",
      "  df['P601_attack'][i] = 1\n",
      "<ipython-input-16-b9ef0f40c976>:10: SettingWithCopyWarning: \n",
      "A value is trying to be set on a copy of a slice from a DataFrame\n",
      "\n",
      "See the caveats in the documentation: https://pandas.pydata.org/pandas-docs/stable/user_guide/indexing.html#returning-a-view-versus-a-copy\n",
      "  df['MultiPoint_attack'][i] = 1\n",
      "<ipython-input-16-b9ef0f40c976>:12: SettingWithCopyWarning: \n",
      "A value is trying to be set on a copy of a slice from a DataFrame\n",
      "\n",
      "See the caveats in the documentation: https://pandas.pydata.org/pandas-docs/stable/user_guide/indexing.html#returning-a-view-versus-a-copy\n",
      "  df['MV501_attack'][i] = 1\n",
      "<ipython-input-16-b9ef0f40c976>:14: SettingWithCopyWarning: \n",
      "A value is trying to be set on a copy of a slice from a DataFrame\n",
      "\n",
      "See the caveats in the documentation: https://pandas.pydata.org/pandas-docs/stable/user_guide/indexing.html#returning-a-view-versus-a-copy\n",
      "  df['P301_attack'][i] = 1\n"
     ]
    }
   ],
   "source": [
    "i = 0\n",
    "for date in df['timestamp']:\n",
    "    if(date > deb_FIT401 and date < fin_FIT401):\n",
    "        df['FIT401_attack'][i] = 1\n",
    "    if(date > deb_LIT301 and date < fin_LIT301):\n",
    "        df['LIT301_attack'][i] = 1\n",
    "    if(date > deb_P601 and date < fin_P601):\n",
    "        df['P601_attack'][i] = 1\n",
    "    if(date > deb_MultiPoint and date < fin_MultiPoint):\n",
    "        df['MultiPoint_attack'][i] = 1\n",
    "    if(date > deb_MV501 and date < fin_MV501):\n",
    "        df['MV501_attack'][i] = 1\n",
    "    if(date > deb_P301 and date < fin_P301):\n",
    "        df['P301_attack'][i] = 1\n",
    "\n",
    "    i += 1"
   ]
  },
  {
   "cell_type": "code",
   "execution_count": 17,
   "id": "vital-christopher",
   "metadata": {
    "colab": {
     "base_uri": "https://localhost:8080/"
    },
    "id": "alike-friendly",
    "outputId": "e085f2ef-923e-4ae8-fee8-34b16431bb6e"
   },
   "outputs": [
    {
     "name": "stdout",
     "output_type": "stream",
     "text": [
      "Nombre de données avec attaque sur FIT401 : 104\n",
      "Nombre de données avec attaque sur LIT301 : 271\n",
      "Nombre de données avec attaque sur P601 : 230\n",
      "Nombre de données avec attaque multi point : 449\n",
      "Nombre de données avec attaque sur MV501 : 119\n",
      "Nombre de données avec attaque sur P301 : 801\n"
     ]
    }
   ],
   "source": [
    "print(\"Nombre de données avec attaque sur FIT401 : \" + str(len(df.loc[df['FIT401_attack'] == 1])))\n",
    "print(\"Nombre de données avec attaque sur LIT301 : \" + str(len(df.loc[df['LIT301_attack'] == 1])))\n",
    "print(\"Nombre de données avec attaque sur P601 : \" + str(len(df.loc[df['P601_attack'] == 1])))\n",
    "print(\"Nombre de données avec attaque multi point : \" + str(len(df.loc[df['MultiPoint_attack'] == 1])))\n",
    "print(\"Nombre de données avec attaque sur MV501 : \" + str(len(df.loc[df['MV501_attack'] == 1])))\n",
    "print(\"Nombre de données avec attaque sur P301 : \" + str(len(df.loc[df['P301_attack'] == 1])))"
   ]
  },
  {
   "cell_type": "markdown",
   "id": "twelve-withdrawal",
   "metadata": {
    "id": "substantial-explorer"
   },
   "source": [
    "# Plot des graphiques avec affichages des timezones d'attaques (données décalées)\n",
    "\n",
    "Nous créons un dossier ou les graphiques décalés seront stockés"
   ]
  },
  {
   "cell_type": "code",
   "execution_count": 18,
   "id": "demanding-envelope",
   "metadata": {},
   "outputs": [],
   "source": [
    "if not os.path.exists('./bad_timezones'):\n",
    "  os.mkdir('./bad_timezones')\n",
    "\n",
    "folderImg = './bad_timezones'"
   ]
  },
  {
   "cell_type": "code",
   "execution_count": 19,
   "id": "strange-wrestling",
   "metadata": {
    "colab": {
     "base_uri": "https://localhost:8080/",
     "height": 0
    },
    "id": "verified-gathering",
    "outputId": "a41d2f23-02c5-41d3-e0b3-d9c55d1baa05"
   },
   "outputs": [
    {
     "name": "stdout",
     "output_type": "stream",
     "text": [
      "27\n"
     ]
    },
    {
     "name": "stderr",
     "output_type": "stream",
     "text": [
      "<ipython-input-19-7ea46208fb5a>:21: FutureWarning: The pandas.datetime class is deprecated and will be removed from pandas in a future version. Import from datetime module instead.\n",
      "  zero = pd.datetime(1,1,1)\n"
     ]
    }
   ],
   "source": [
    "import matplotlib.dates as mdates\n",
    "_deb_FIT401 = deb_FIT401\n",
    "_fin_FIT401 = fin_FIT401\n",
    "\n",
    "_deb_LIT301 = deb_LIT301\n",
    "_fin_LIT301 = fin_LIT301\n",
    "\n",
    "_deb_P601 = deb_P601\n",
    "_fin_P601 = fin_P601\n",
    "\n",
    "_deb_MultiPoint = deb_MultiPoint\n",
    "_fin_MultiPoint = fin_MultiPoint\n",
    "\n",
    "_deb_MV501 = deb_MV501\n",
    "_fin_MV501 = fin_MV501\n",
    "\n",
    "_deb_P301 = deb_P301\n",
    "_fin_P301 = fin_P301\n",
    "\n",
    "# specify a date to use for the times\n",
    "zero = pd.datetime(1,1,1)\n",
    "time = [zero + t for t in df['timestamp']]\n",
    "\n",
    "\n",
    "_deb_FIT401 += zero\n",
    "_fin_FIT401 += zero\n",
    "\n",
    "_deb_LIT301 += zero\n",
    "_fin_LIT301 += zero\n",
    "\n",
    "_deb_P601 += zero\n",
    "_fin_P601 += zero\n",
    "\n",
    "_deb_MultiPoint += zero\n",
    "_fin_MultiPoint += zero\n",
    "\n",
    "_deb_MV501 += zero\n",
    "_fin_MV501 += zero\n",
    "\n",
    "_deb_P301 += zero\n",
    "_fin_P301 += zero\n",
    "\n",
    "# convert datetimes to numbers\n",
    "zero = mdates.date2num(zero)\n",
    "time = [t-zero for t in mdates.date2num(time)]\n",
    "_deb_FIT401 = mdates.date2num(_deb_FIT401) - zero\n",
    "_fin_FIT401 = mdates.date2num(_fin_FIT401) - zero\n",
    "\n",
    "_deb_LIT301 = mdates.date2num(_deb_LIT301) - zero\n",
    "_fin_LIT301 = mdates.date2num(_fin_LIT301) - zero\n",
    "\n",
    "_deb_P601 = mdates.date2num(_deb_P601) - zero\n",
    "_fin_P601 = mdates.date2num(_fin_P601) - zero\n",
    "\n",
    "_deb_MultiPoint = mdates.date2num(_deb_MultiPoint) - zero\n",
    "_fin_MultiPoint = mdates.date2num(_fin_MultiPoint) - zero\n",
    "\n",
    "_deb_MV501 = mdates.date2num(_deb_MV501) - zero\n",
    "_fin_MV501 = mdates.date2num(_fin_MV501) - zero\n",
    "\n",
    "_deb_P301 = mdates.date2num(_deb_P301) - zero\n",
    "_fin_P301 = mdates.date2num(_fin_P301) - zero\n",
    "\n",
    "print(len(num_list))\n",
    "#add data to plots\n",
    "for i in range(0,len(num_list)):\n",
    "    fig, axs = plt.subplots()\n",
    "    axs.title.set_text(num_list[i])\n",
    "    axs.plot_date(time, df[num_list[i]],'b-')\n",
    "    axs.axvspan(_deb_FIT401,_fin_FIT401, facecolor='pink',alpha=0.5)# FIT401 atk\n",
    "    axs.axvspan(_deb_LIT301,_fin_LIT301, facecolor='pink',alpha=0.5)# LIT301_atk\n",
    "    axs.axvspan(_deb_P601,_fin_P601, facecolor='pink',alpha=0.5)# P601_atk\n",
    "    axs.axvspan(_deb_MultiPoint,_fin_MultiPoint, facecolor='pink',alpha=0.5)# Multipoint_atk\n",
    "    axs.axvspan(_deb_MV501,_fin_MV501, facecolor='pink',alpha=0.5)# MV501_atk\n",
    "    axs.axvspan(_deb_P301,_fin_P301, facecolor='pink',alpha=0.5)# P301_atk\n",
    "    plt.xticks(rotation=-35, ha='left', rotation_mode='anchor')\n",
    "    plt.savefig('./bad_timezones/' + num_list[i] + '.jpg', dpi=150, bbox_inches='tight')\n",
    "    plt.close(fig)"
   ]
  },
  {
   "cell_type": "markdown",
   "id": "controlled-madrid",
   "metadata": {
    "id": "pEUJGknTTNCh"
   },
   "source": [
    "# Correction des labels avec determination du bon debut et fin de chaque attaque\n",
    "\n",
    "Les vrais débuts et fins des attaques ont été trouvées à la main"
   ]
  },
  {
   "cell_type": "code",
   "execution_count": 20,
   "id": "lined-kinase",
   "metadata": {},
   "outputs": [],
   "source": [
    "# Attaque sur FIT 401\n",
    "# Debut ligne 9416, fin ligne 9520\n",
    "real_deb_FIT401 = timedelta(hours=7, minutes=6, seconds=59)\n",
    "real_fin_FIT401 = timedelta(hours=7, minutes=8, seconds=45)\n",
    "\n",
    "# Attaque sur LIT 301\n",
    "# Debut ligne 9803, fin ligne 10063\n",
    "real_deb_LIT301 = timedelta(hours=7, minutes=13, seconds=26)\n",
    "real_fin_LIT301 = timedelta(hours=7, minutes=17, seconds=48)\n",
    "\n",
    "# Attaque sur P601\n",
    "# Debut ligne 10509, fin ligne 10738\n",
    "real_deb_P601 = timedelta(hours=7, minutes=25, seconds=12)\n",
    "real_fin_P601 = timedelta(hours=7, minutes=29, seconds=3)\n",
    "\n",
    "# Attaque Multi Point\n",
    "# Debut ligne 11228, fin ligne 11691\n",
    "real_deb_MultiPoint = timedelta(hours=7, minutes=37, seconds=11)\n",
    "real_fin_MultiPoint = timedelta(hours=7, minutes=44, seconds=56)\n",
    "\n",
    "# Attaque sur MV 501\n",
    "# Debut ligne 12141, fin ligne 12291\n",
    "real_deb_MV501 = timedelta(hours=7, minutes=52, seconds=24)\n",
    "real_fin_MV501 = timedelta(hours=7, minutes=54, seconds=56)\n",
    "\n",
    "# Attaque sur P301\n",
    "# Debut ligne 12662, fin ligne 13503\n",
    "real_deb_P301 = timedelta(hours=8, minutes=1, seconds=5)\n",
    "real_fin_P301 = timedelta(hours=8, minutes=15, seconds=8)"
   ]
  },
  {
   "cell_type": "markdown",
   "id": "stainless-grade",
   "metadata": {},
   "source": [
    "On relabelise les données, cette fois ci correctement"
   ]
  },
  {
   "cell_type": "code",
   "execution_count": 21,
   "id": "hired-midwest",
   "metadata": {},
   "outputs": [
    {
     "name": "stderr",
     "output_type": "stream",
     "text": [
      "<ipython-input-21-5b4c2b2c953d>:13: SettingWithCopyWarning: \n",
      "A value is trying to be set on a copy of a slice from a DataFrame\n",
      "\n",
      "See the caveats in the documentation: https://pandas.pydata.org/pandas-docs/stable/user_guide/indexing.html#returning-a-view-versus-a-copy\n",
      "  df['FIT401_attack'][i] = 1\n",
      "<ipython-input-21-5b4c2b2c953d>:15: SettingWithCopyWarning: \n",
      "A value is trying to be set on a copy of a slice from a DataFrame\n",
      "\n",
      "See the caveats in the documentation: https://pandas.pydata.org/pandas-docs/stable/user_guide/indexing.html#returning-a-view-versus-a-copy\n",
      "  df['LIT301_attack'][i] = 1\n",
      "<ipython-input-21-5b4c2b2c953d>:17: SettingWithCopyWarning: \n",
      "A value is trying to be set on a copy of a slice from a DataFrame\n",
      "\n",
      "See the caveats in the documentation: https://pandas.pydata.org/pandas-docs/stable/user_guide/indexing.html#returning-a-view-versus-a-copy\n",
      "  df['P601_attack'][i] = 1\n",
      "<ipython-input-21-5b4c2b2c953d>:19: SettingWithCopyWarning: \n",
      "A value is trying to be set on a copy of a slice from a DataFrame\n",
      "\n",
      "See the caveats in the documentation: https://pandas.pydata.org/pandas-docs/stable/user_guide/indexing.html#returning-a-view-versus-a-copy\n",
      "  df['MultiPoint_attack'][i] = 1\n",
      "<ipython-input-21-5b4c2b2c953d>:21: SettingWithCopyWarning: \n",
      "A value is trying to be set on a copy of a slice from a DataFrame\n",
      "\n",
      "See the caveats in the documentation: https://pandas.pydata.org/pandas-docs/stable/user_guide/indexing.html#returning-a-view-versus-a-copy\n",
      "  df['MV501_attack'][i] = 1\n",
      "<ipython-input-21-5b4c2b2c953d>:23: SettingWithCopyWarning: \n",
      "A value is trying to be set on a copy of a slice from a DataFrame\n",
      "\n",
      "See the caveats in the documentation: https://pandas.pydata.org/pandas-docs/stable/user_guide/indexing.html#returning-a-view-versus-a-copy\n",
      "  df['P301_attack'][i] = 1\n"
     ]
    }
   ],
   "source": [
    "cat_attack = ['FIT401_attack','LIT301_attack','P601_attack',\\\n",
    "              'MultiPoint_attack','MV501_attack','P301_attack']\n",
    "\n",
    "# On transforme chaque colonne XXX_attack en colonne de 0\n",
    "for c in cat_attack:\n",
    "  df[c] = pd.Series(np.zeros(len(df)).astype(int))\n",
    "\n",
    "\n",
    "# On relabelise\n",
    "i = 0\n",
    "for date in df['timestamp']:\n",
    "    if(date > real_deb_FIT401 and date < real_fin_FIT401):\n",
    "        df['FIT401_attack'][i] = 1\n",
    "    if(date > real_deb_LIT301 and date < real_fin_LIT301):\n",
    "        df['LIT301_attack'][i] = 1\n",
    "    if(date > real_deb_P601 and date < real_fin_P601):\n",
    "        df['P601_attack'][i] = 1\n",
    "    if(date > real_deb_MultiPoint and date < real_fin_MultiPoint):\n",
    "        df['MultiPoint_attack'][i] = 1\n",
    "    if(date > real_deb_MV501 and date < real_fin_MV501):\n",
    "        df['MV501_attack'][i] = 1\n",
    "    if(date > real_deb_P301 and date < real_fin_P301):\n",
    "        df['P301_attack'][i] = 1\n",
    "\n",
    "    i += 1\n",
    "\n",
    "\n",
    "# Pour finir, on change le type de colonnes de int vers object\n",
    "for c in cat_attack:\n",
    "  df[c] = df[c].astype(str).astype(object)"
   ]
  },
  {
   "cell_type": "markdown",
   "id": "adapted-command",
   "metadata": {
    "id": "golden-specification"
   },
   "source": [
    "# Matrices de correlation\n",
    "\n",
    "Nous créons un dossier ou les matrices de correlation seront stockées"
   ]
  },
  {
   "cell_type": "code",
   "execution_count": 22,
   "id": "outstanding-sleep",
   "metadata": {
    "id": "7iJWxXqP2gYY"
   },
   "outputs": [],
   "source": [
    "if not os.path.exists('./corrMat'):\n",
    "  os.mkdir('./corrMat')\n",
    "\n",
    "folderImg = './corrMat'"
   ]
  },
  {
   "cell_type": "code",
   "execution_count": 23,
   "id": "divine-equipment",
   "metadata": {
    "id": "intended-malaysia"
   },
   "outputs": [],
   "source": [
    "pre_attack = df.loc[df['timestamp'] < deb_FIT401]\n",
    "\n",
    "pre_attack_correlation_mat = pre_attack.corr()\n",
    "plt.figure(figsize=(11,9))\n",
    "sns.heatmap(pre_attack_correlation_mat)\n",
    "\n",
    "img = 'preAttack.png'\n",
    "plt.savefig(os.path.join(folderImg, img))\n",
    "\n",
    "# Pour ne pas afficher directement la matrice de correlation, on fait:\n",
    "plt.close()"
   ]
  },
  {
   "cell_type": "code",
   "execution_count": 24,
   "id": "green-power",
   "metadata": {
    "id": "monetary-investment"
   },
   "outputs": [],
   "source": [
    "# Matrice de correlation pendant l'attaque sur FIT 401\n",
    "pdtFit401Attack = df.loc[(df['timestamp'] > deb_FIT401) &\\\n",
    "                         (df['timestamp'] < fin_FIT401)]\n",
    "\n",
    "pdtFit401Attack_corr = pdtFit401Attack.corr()\n",
    "plt.figure(figsize=(11,9))\n",
    "sns.heatmap(pdtFit401Attack_corr)\n",
    "\n",
    "img = 'pdtFit401Attack.png'\n",
    "plt.savefig(os.path.join(folderImg, img))\n",
    "\n",
    "plt.close()"
   ]
  },
  {
   "cell_type": "code",
   "execution_count": 25,
   "id": "diverse-lemon",
   "metadata": {
    "id": "static-utility"
   },
   "outputs": [],
   "source": [
    "# Matrice de correlation entre l'attaque sur FIT 401 et LIT 301\n",
    "entreFit401_Lit301 = df.loc[(df['timestamp'] > fin_FIT401) &\\\n",
    "                            (df['timestamp'] < deb_LIT301)]\n",
    "                        \n",
    "entreFit401_Lit301_corr = entreFit401_Lit301.corr()\n",
    "plt.figure(figsize=(11,9))\n",
    "sns.heatmap(entreFit401_Lit301_corr)\n",
    "\n",
    "img = 'entreFit401_Lit301.png'\n",
    "plt.savefig(os.path.join(folderImg, img))\n",
    "\n",
    "plt.close()"
   ]
  },
  {
   "cell_type": "code",
   "execution_count": 26,
   "id": "subjective-facial",
   "metadata": {
    "id": "conventional-arthur"
   },
   "outputs": [],
   "source": [
    "# Matrice de correlation pendant l'attaque sur LIT 301\n",
    "pdtLit301Attack = df.loc[(df['timestamp'] > deb_LIT301) &\\\n",
    "                         (df['timestamp'] < fin_LIT301)]\n",
    "\n",
    "pdtLit301Attack_corr = pdtLit301Attack.corr()\n",
    "plt.figure(figsize=(11,9))\n",
    "sns.heatmap(pdtLit301Attack_corr)\n",
    "\n",
    "img = 'pdtLit301Attack.png'\n",
    "plt.savefig(os.path.join(folderImg, img))\n",
    "\n",
    "plt.close()"
   ]
  },
  {
   "cell_type": "code",
   "execution_count": 27,
   "id": "trained-minority",
   "metadata": {
    "id": "turkish-plain"
   },
   "outputs": [],
   "source": [
    "# Matrice de correlation entre l'attaque sur LIT 301 et P601\n",
    "entreLit301_P601 = df.loc[(df['timestamp'] > fin_LIT301) &\\\n",
    "                            (df['timestamp'] < deb_P601)]\n",
    "                        \n",
    "entreLit301_P601_corr = entreLit301_P601.corr()\n",
    "plt.figure(figsize=(11,9))\n",
    "sns.heatmap(entreLit301_P601_corr)\n",
    "\n",
    "img = 'entreLit301_P601.png'\n",
    "plt.savefig(os.path.join(folderImg, img))\n",
    "\n",
    "plt.close()"
   ]
  },
  {
   "cell_type": "code",
   "execution_count": 28,
   "id": "nervous-catalog",
   "metadata": {
    "id": "eligible-reynolds"
   },
   "outputs": [],
   "source": [
    "# Matrice de correlation pendant l'attaque sur P601\n",
    "pdtP601Attack = df.loc[(df['timestamp'] > deb_P601) &\\\n",
    "                         (df['timestamp'] < fin_P601)]\n",
    "\n",
    "pdtP601Attack_corr = pdtP601Attack.corr()\n",
    "plt.figure(figsize=(11,9))\n",
    "sns.heatmap(pdtP601Attack_corr)\n",
    "\n",
    "img = 'pdtP601Attack.png'\n",
    "plt.savefig(os.path.join(folderImg, img))\n",
    "\n",
    "plt.close()"
   ]
  },
  {
   "cell_type": "code",
   "execution_count": 29,
   "id": "administrative-drain",
   "metadata": {
    "id": "proud-member"
   },
   "outputs": [],
   "source": [
    "# Matrice de correlation entre l'attaque sur P601 et l'ataque MultiPoint\n",
    "entreP601_Mp = df.loc[(df['timestamp'] > fin_P601) &\\\n",
    "                            (df['timestamp'] < deb_MultiPoint)]\n",
    "                        \n",
    "entreP601_Mp_corr = entreP601_Mp.corr()\n",
    "plt.figure(figsize=(11,9))\n",
    "sns.heatmap(entreP601_Mp_corr)\n",
    "\n",
    "img = 'entreP601_Mp.png'\n",
    "plt.savefig(os.path.join(folderImg, img))\n",
    "\n",
    "plt.close()"
   ]
  },
  {
   "cell_type": "code",
   "execution_count": 30,
   "id": "intellectual-employee",
   "metadata": {
    "id": "orange-september"
   },
   "outputs": [],
   "source": [
    "# Matrice de correlation pendant l'attaque MultiPoint\n",
    "pdtMultiPointAttack = df.loc[(df['timestamp'] > deb_MultiPoint) &\\\n",
    "                         (df['timestamp'] < fin_MultiPoint)]\n",
    "\n",
    "pdtMultiPointAttack_corr = pdtMultiPointAttack.corr()\n",
    "plt.figure(figsize=(11,9))\n",
    "sns.heatmap(pdtMultiPointAttack_corr)\n",
    "\n",
    "img = 'pdtMultiPointAttack.png'\n",
    "plt.savefig(os.path.join(folderImg, img))\n",
    "\n",
    "plt.close()"
   ]
  },
  {
   "cell_type": "code",
   "execution_count": 31,
   "id": "cooperative-athletics",
   "metadata": {
    "id": "bearing-smooth"
   },
   "outputs": [],
   "source": [
    "# Matrice de correlation entre l'attaque Multi Point et l'attaque sur MV501\n",
    "entreMp_MV501 = df.loc[(df['timestamp'] > fin_MultiPoint) &\\\n",
    "                            (df['timestamp'] < deb_MV501)]\n",
    "                        \n",
    "entreMp_MV501_corr = entreMp_MV501.corr()\n",
    "plt.figure(figsize=(11,9))\n",
    "sns.heatmap(entreMp_MV501_corr)\n",
    "\n",
    "img = 'entreMp_MV501.png'\n",
    "plt.savefig(os.path.join(folderImg, img))\n",
    "\n",
    "plt.close()"
   ]
  },
  {
   "cell_type": "code",
   "execution_count": 32,
   "id": "reliable-release",
   "metadata": {
    "id": "postal-limitation"
   },
   "outputs": [],
   "source": [
    "# Matrice de correlation pendant l'attaque MV501\n",
    "pdtMV501Attack = df.loc[(df['timestamp'] > deb_MV501) &\\\n",
    "                         (df['timestamp'] < fin_MV501)]\n",
    "\n",
    "pdtMV501Attack_corr = pdtMV501Attack.corr()\n",
    "plt.figure(figsize=(11,9))\n",
    "sns.heatmap(pdtMV501Attack_corr)\n",
    "\n",
    "img = 'pdtMV501Attack.png'\n",
    "plt.savefig(os.path.join(folderImg, img))\n",
    "\n",
    "plt.close()"
   ]
  },
  {
   "cell_type": "code",
   "execution_count": 33,
   "id": "through-attention",
   "metadata": {
    "id": "aggressive-times"
   },
   "outputs": [],
   "source": [
    "# Matrice de correlation entre l'attaque sur MV501 et sur P301\n",
    "entreMV501_P301 = df.loc[(df['timestamp'] > fin_MV501) &\\\n",
    "                            (df['timestamp'] < deb_P301)]\n",
    "                        \n",
    "entreMV501_P301_corr = entreMV501_P301.corr()\n",
    "plt.figure(figsize=(11,9))\n",
    "sns.heatmap(entreMV501_P301_corr)\n",
    "\n",
    "img = 'entreMV501_P301.png'\n",
    "plt.savefig(os.path.join(folderImg, img))\n",
    "\n",
    "plt.close()"
   ]
  },
  {
   "cell_type": "code",
   "execution_count": 34,
   "id": "wanted-pennsylvania",
   "metadata": {
    "id": "registered-sherman"
   },
   "outputs": [],
   "source": [
    "# Matrice de correlation pendant l'attaque sur P301\n",
    "pdtP301Attack = df.loc[(df['timestamp'] > deb_P301) &\\\n",
    "                         (df['timestamp'] < fin_P301)]\n",
    "\n",
    "pdtP301Attack_corr = pdtP301Attack.corr()\n",
    "plt.figure(figsize=(11,9))\n",
    "sns.heatmap(pdtP301Attack_corr)\n",
    "\n",
    "img = 'pdtP301Attack.png'\n",
    "plt.savefig(os.path.join(folderImg, img))\n",
    "\n",
    "plt.close()"
   ]
  },
  {
   "cell_type": "code",
   "execution_count": 35,
   "id": "appreciated-three",
   "metadata": {
    "id": "olive-failing"
   },
   "outputs": [],
   "source": [
    "# Matrice de correlation apres toutes les attaques\n",
    "apresAttack = df.loc[df['timestamp']> fin_P301]\n",
    "\n",
    "apresAttack_corr = apresAttack.corr()\n",
    "plt.figure(figsize=(11,9))\n",
    "sns.heatmap(apresAttack_corr)\n",
    "\n",
    "img = 'apresAttack.png'\n",
    "plt.savefig(os.path.join(folderImg, img))\n",
    "\n",
    "plt.close()"
   ]
  },
  {
   "cell_type": "code",
   "execution_count": 36,
   "id": "reverse-polymer",
   "metadata": {
    "colab": {
     "base_uri": "https://localhost:8080/"
    },
    "id": "healthy-dayton",
    "outputId": "3ed3abbb-792e-4dc8-edf7-0ff73b8e4b30"
   },
   "outputs": [
    {
     "name": "stdout",
     "output_type": "stream",
     "text": [
      "float64\n"
     ]
    }
   ],
   "source": [
    "# Matrice de correlation, toutes les données avec les labels d'attaques\n",
    "bla = df.copy()\n",
    "bla['FIT401_attack'] = bla['FIT401_attack'].astype(float)\n",
    "bla['LIT301_attack'] = bla['LIT301_attack'].astype(float)\n",
    "bla['P601_attack'] = bla['P601_attack'].astype(float)\n",
    "bla['MultiPoint_attack'] = bla['MultiPoint_attack'].astype(float)\n",
    "bla['MV501_attack'] = bla['MV501_attack'].astype(float)\n",
    "bla['P301_attack'] = bla['P301_attack'].astype(float)\n",
    "\n",
    "print(bla['FIT401_attack'].dtypes)\n",
    "bla_corr = bla.corr()\n",
    "plt.figure(figsize=(11,9))\n",
    "sns.heatmap(bla_corr)\n",
    "\n",
    "img = 'toutesDonnesAvecLabel.png'\n",
    "plt.savefig(os.path.join(folderImg, img))\n",
    "\n",
    "plt.close()"
   ]
  },
  {
   "cell_type": "markdown",
   "id": "coral-gather",
   "metadata": {
    "id": "HHJKq6_cgjbS"
   },
   "source": [
    "## Plot des graphiques avec affichages des timezones d'attaques (données correctes)\n",
    "\n",
    "Nous créons un dossier ou les bonnes timezones seront stockées"
   ]
  },
  {
   "cell_type": "code",
   "execution_count": 37,
   "id": "simplified-decision",
   "metadata": {},
   "outputs": [],
   "source": [
    "if not os.path.exists('./good_timezones'):\n",
    "  os.mkdir('./good_timezones')\n",
    "\n",
    "folderImg = './good_timezones'"
   ]
  },
  {
   "cell_type": "code",
   "execution_count": 38,
   "id": "israeli-moldova",
   "metadata": {
    "colab": {
     "base_uri": "https://localhost:8080/",
     "height": 0
    },
    "id": "4O_2ioVug7Zd",
    "outputId": "6cc7a290-237d-4d0b-f996-89e4ef7867bc"
   },
   "outputs": [
    {
     "name": "stderr",
     "output_type": "stream",
     "text": [
      "<ipython-input-38-b1a204a3f02b>:20: FutureWarning: The pandas.datetime class is deprecated and will be removed from pandas in a future version. Import from datetime module instead.\n",
      "  zero = pd.datetime(1,1,1)\n"
     ]
    },
    {
     "name": "stdout",
     "output_type": "stream",
     "text": [
      "27\n"
     ]
    }
   ],
   "source": [
    "_deb_FIT401 = real_deb_FIT401\n",
    "_fin_FIT401 = real_fin_FIT401\n",
    "\n",
    "_deb_LIT301 = real_deb_LIT301\n",
    "_fin_LIT301 = real_fin_LIT301\n",
    "\n",
    "_deb_P601 = real_deb_P601\n",
    "_fin_P601 = real_fin_P601\n",
    "\n",
    "_deb_MultiPoint = real_deb_MultiPoint\n",
    "_fin_MultiPoint = real_fin_MultiPoint\n",
    "\n",
    "_deb_MV501 = real_deb_MV501\n",
    "_fin_MV501 = real_fin_MV501\n",
    "\n",
    "_deb_P301 = real_deb_P301\n",
    "_fin_P301 = real_fin_P301\n",
    "\n",
    "# specify a date to use for the times\n",
    "zero = pd.datetime(1,1,1)\n",
    "time = [zero + t for t in df['timestamp']]\n",
    "\n",
    "\n",
    "_deb_FIT401 += zero\n",
    "_fin_FIT401 += zero\n",
    "\n",
    "_deb_LIT301 += zero\n",
    "_fin_LIT301 += zero\n",
    "\n",
    "_deb_P601 += zero\n",
    "_fin_P601 += zero\n",
    "\n",
    "_deb_MultiPoint += zero\n",
    "_fin_MultiPoint += zero\n",
    "\n",
    "_deb_MV501 += zero\n",
    "_fin_MV501 += zero\n",
    "\n",
    "_deb_P301 += zero\n",
    "_fin_P301 += zero\n",
    "\n",
    "# convert datetimes to numbers\n",
    "zero = mdates.date2num(zero)\n",
    "time = [t-zero for t in mdates.date2num(time)]\n",
    "_deb_FIT401 = mdates.date2num(_deb_FIT401) - zero\n",
    "_fin_FIT401 = mdates.date2num(_fin_FIT401) - zero\n",
    "\n",
    "_deb_LIT301 = mdates.date2num(_deb_LIT301) - zero\n",
    "_fin_LIT301 = mdates.date2num(_fin_LIT301) - zero\n",
    "\n",
    "_deb_P601 = mdates.date2num(_deb_P601) - zero\n",
    "_fin_P601 = mdates.date2num(_fin_P601) - zero\n",
    "\n",
    "_deb_MultiPoint = mdates.date2num(_deb_MultiPoint) - zero\n",
    "_fin_MultiPoint = mdates.date2num(_fin_MultiPoint) - zero\n",
    "\n",
    "_deb_MV501 = mdates.date2num(_deb_MV501) - zero\n",
    "_fin_MV501 = mdates.date2num(_fin_MV501) - zero\n",
    "\n",
    "_deb_P301 = mdates.date2num(_deb_P301) - zero\n",
    "_fin_P301 = mdates.date2num(_fin_P301) - zero\n",
    "\n",
    "#add data to plots\n",
    "print(len(num_list))\n",
    "for i in range(0,len(num_list)):\n",
    "    fig, axs = plt.subplots()\n",
    "    axs.title.set_text(num_list[i])\n",
    "    axs.plot_date(time, df[num_list[i]],'b-')\n",
    "    axs.axvspan(_deb_FIT401,_fin_FIT401, facecolor='pink',alpha=0.5)# FIT401 atk\n",
    "    axs.axvspan(_deb_LIT301,_fin_LIT301, facecolor='pink',alpha=0.5)# LIT301_atk\n",
    "    axs.axvspan(_deb_P601,_fin_P601, facecolor='pink',alpha=0.5)# P601_atk\n",
    "    axs.axvspan(_deb_MultiPoint,_fin_MultiPoint, facecolor='pink',alpha=0.5)# Multipoint_atk\n",
    "    axs.axvspan(_deb_MV501,_fin_MV501, facecolor='pink',alpha=0.5)# MV501_atk\n",
    "    axs.axvspan(_deb_P301,_fin_P301, facecolor='pink',alpha=0.5)# P301_atk\n",
    "    \n",
    "    plt.xticks(rotation=-35, ha='left', rotation_mode='anchor')\n",
    "    plt.savefig('./good_timezones/' + num_list[i] + '.jpg', dpi=150, bbox_inches='tight')\n",
    "    plt.close(fig)"
   ]
  },
  {
   "cell_type": "markdown",
   "id": "comprehensive-depth",
   "metadata": {
    "id": "uVQv-DlZikeJ"
   },
   "source": [
    "# Algorithmes de detection d'anomalies"
   ]
  },
  {
   "cell_type": "markdown",
   "id": "solar-radius",
   "metadata": {},
   "source": [
    "## - Isolation Forest\n",
    "\n",
    "On ajoute une colonne isAttack qui servira de label pour généraliser les attaques. Si lors de l'observation, le systeme est attaqué (FIT401, LIT301 etc.), isAttack sera à 1, 0 sinon."
   ]
  },
  {
   "cell_type": "code",
   "execution_count": 39,
   "id": "cultural-shipping",
   "metadata": {
    "id": "5g_Bk36Km825"
   },
   "outputs": [],
   "source": [
    "df['isAttack'] = ((df['FIT401_attack']=='1') | (df['LIT301_attack']=='1') | \\\n",
    "                  (df['P601_attack']=='1') | (df['MultiPoint_attack']=='1') |\\\n",
    "                  (df['MV501_attack']=='1') | (df['P301_attack']=='1'))\n",
    "                                               \n",
    "df['isAttack'] = df['isAttack'].replace({True:1, False:0})\n",
    "df['isAttack'] = df['isAttack'].astype(str).astype(object)\n"
   ]
  },
  {
   "cell_type": "code",
   "execution_count": 40,
   "id": "canadian-halifax",
   "metadata": {
    "id": "AseulgUI2Jb1"
   },
   "outputs": [],
   "source": [
    "# On définit X et Y qu'on utilisera pour fit le classifieur\n",
    "X = df.drop(['timestamp','FIT401_attack','LIT301_attack','P601_attack','MultiPoint_attack',\\\n",
    "             'MV501_attack','P301_attack','isAttack'], axis=1)\n",
    "Y = df[['isAttack']]\n",
    "\n",
    "# On replace tous les espaces dans les noms des colonnes par des '_'\n",
    "X.rename(columns = lambda x: x.replace(' ', '_'), inplace=True)"
   ]
  },
  {
   "cell_type": "code",
   "execution_count": 41,
   "id": "public-monitoring",
   "metadata": {
    "id": "ZWVeGqG22av0"
   },
   "outputs": [],
   "source": [
    "# On one-hot toutes les colonnes catégoriques de X\n",
    "cat_list_X = X.select_dtypes(include=['object'])\n",
    "\n",
    "for i in cat_list_X:\n",
    "  oneHotEnc = pd.get_dummies(X[i], prefix=i)\n",
    "  X = pd.concat([X, oneHotEnc], axis=1)\n",
    "  X = X.drop(i, axis=1)"
   ]
  },
  {
   "cell_type": "markdown",
   "id": "contained-applicant",
   "metadata": {},
   "source": [
    "### Definition des paramètres du modèle"
   ]
  },
  {
   "cell_type": "code",
   "execution_count": 42,
   "id": "extra-illustration",
   "metadata": {
    "id": "lKuPLbGTiwrz"
   },
   "outputs": [],
   "source": [
    "from sklearn.ensemble import IsolationForest\n",
    "\n",
    "rng = np.random.RandomState(99)\n",
    "#Dans le jeu de données, on a 2053 observations qui sont labélisées 1 sur\n",
    "#'isAttack' et en tout nous avons 14996 observations donc ça fait \n",
    "#13.69032% de outliers\n",
    "outlier_fraction=0.1369\n",
    "nb_samples = len(df)\n",
    "\n",
    "clf = IsolationForest(max_samples = nb_samples, contamination=outlier_fraction,\\\n",
    "                      random_state=rng)"
   ]
  },
  {
   "cell_type": "markdown",
   "id": "posted-abuse",
   "metadata": {},
   "source": [
    "### Entrainement et prédiction du modèle"
   ]
  },
  {
   "cell_type": "code",
   "execution_count": 43,
   "id": "welcome-silver",
   "metadata": {
    "id": "yVYO11zJ1Jx8"
   },
   "outputs": [],
   "source": [
    "clf.fit(X)\n",
    "ifOutliers = clf.predict(X)"
   ]
  },
  {
   "cell_type": "markdown",
   "id": "foreign-collect",
   "metadata": {},
   "source": [
    "### Evaluation de l'éfficacité d'isolation forest"
   ]
  },
  {
   "cell_type": "code",
   "execution_count": 44,
   "id": "macro-approval",
   "metadata": {
    "colab": {
     "base_uri": "https://localhost:8080/"
    },
    "id": "3shLTWlh5ObG",
    "outputId": "fb50dff0-cd38-4aaa-a367-3e8fc86e71c8"
   },
   "outputs": [
    {
     "name": "stdout",
     "output_type": "stream",
     "text": [
      "Le nombre d'anomalies au total est: 2053\n",
      "\n",
      "Le nombre de vrais positifs est: 660\n",
      "\n",
      "Le taux de detections correctes est de: 32.14807598636142%\n",
      "\n"
     ]
    }
   ],
   "source": [
    "compTab =  Y.copy()\n",
    "compTab['ifOutliers'] = ifOutliers\n",
    "\n",
    "nbAnomalies = len(compTab.loc[compTab['isAttack']=='1'])\n",
    "nbTruePos = len(compTab.loc[(compTab['isAttack']=='1') &\\\n",
    "                            (compTab['ifOutliers']==-1)])\n",
    "print(\"Le nombre d'anomalies au total est: \" + str(nbAnomalies)+\"\\n\")\n",
    "print(\"Le nombre de vrais positifs est: \" + str(nbTruePos)+ \"\\n\")\n",
    "print(\"Le taux de detections correctes est de: \" + \\\n",
    "      str(nbTruePos*100/nbAnomalies) +\"%\\n\")"
   ]
  },
  {
   "cell_type": "markdown",
   "id": "outstanding-enforcement",
   "metadata": {
    "id": "h8A6hTBG8IGD"
   },
   "source": [
    "## Local Outlier Factor (LOF)\n",
    "### Definition des paramètres du modèle"
   ]
  },
  {
   "cell_type": "code",
   "execution_count": 45,
   "id": "opponent-pierre",
   "metadata": {
    "id": "XmGMGGoP8cKV"
   },
   "outputs": [],
   "source": [
    "from sklearn.neighbors import LocalOutlierFactor\n",
    "\n",
    "# On peut faire varier n_neighbors pour obtenir des taux de detection\n",
    "# differents, pour 5000 le taux de detection etait le plus elevé\n",
    "clf = LocalOutlierFactor(n_neighbors=5000)"
   ]
  },
  {
   "cell_type": "markdown",
   "id": "healthy-collection",
   "metadata": {},
   "source": [
    "### Entrainement et prédiction du modèle"
   ]
  },
  {
   "cell_type": "code",
   "execution_count": 46,
   "id": "false-spiritual",
   "metadata": {
    "id": "HdXOkg829FCp"
   },
   "outputs": [],
   "source": [
    "lofOutliers = clf.fit_predict(X)"
   ]
  },
  {
   "cell_type": "markdown",
   "id": "alleged-contemporary",
   "metadata": {},
   "source": [
    "### Evaluation de l'éfficacité d'isolation forest"
   ]
  },
  {
   "cell_type": "code",
   "execution_count": 47,
   "id": "relevant-fields",
   "metadata": {
    "colab": {
     "base_uri": "https://localhost:8080/"
    },
    "id": "hbmroNo79RRY",
    "outputId": "3b7d92d3-1d7e-4384-8a13-7e673f8e0293"
   },
   "outputs": [
    {
     "name": "stdout",
     "output_type": "stream",
     "text": [
      "Le nombre d'anomalies au total est: 2053\n",
      "\n",
      "Le nombre de vrais positifs est: 283\n",
      "\n",
      "Le taux de detections correctes est de: 13.784705309303458%\n",
      "\n"
     ]
    }
   ],
   "source": [
    "compTab['lofOutliers'] = lofOutliers\n",
    "\n",
    "nbTruePos = len(compTab.loc[(compTab['isAttack']=='1') &\\\n",
    "                            (compTab['lofOutliers']==-1)])\n",
    "print(\"Le nombre d'anomalies au total est: \" + str(nbAnomalies)+\"\\n\")\n",
    "print(\"Le nombre de vrais positifs est: \" + str(nbTruePos)+ \"\\n\")\n",
    "print(\"Le taux de detections correctes est de: \" + \\\n",
    "      str(nbTruePos*100/nbAnomalies) +\"%\\n\")"
   ]
  },
  {
   "cell_type": "markdown",
   "id": "superior-elimination",
   "metadata": {},
   "source": [
    "## Random Forest\n",
    "\n",
    "On modifie la profondeur maximale des arbres de decisions."
   ]
  },
  {
   "cell_type": "code",
   "execution_count": 50,
   "id": "italic-photographer",
   "metadata": {},
   "outputs": [
    {
     "name": "stderr",
     "output_type": "stream",
     "text": [
      "<ipython-input-50-124a9869c020>:8: DataConversionWarning: A column-vector y was passed when a 1d array was expected. Please change the shape of y to (n_samples,), for example using ravel().\n",
      "  clf.fit(X_train, y_train)\n"
     ]
    },
    {
     "name": "stdout",
     "output_type": "stream",
     "text": [
      "----- Profondeur maximale des arbres de decisions = 2 -----\n",
      "Le nombre d'anomalies au total est: 384\n",
      "\n",
      "Le nombre de vrais positifs est: 156\n",
      "\n",
      "Le taux de detections correctes est de: 40.625%\n",
      "\n",
      "Le score est de: 0.924\n"
     ]
    },
    {
     "name": "stderr",
     "output_type": "stream",
     "text": [
      "<ipython-input-50-124a9869c020>:8: DataConversionWarning: A column-vector y was passed when a 1d array was expected. Please change the shape of y to (n_samples,), for example using ravel().\n",
      "  clf.fit(X_train, y_train)\n"
     ]
    },
    {
     "name": "stdout",
     "output_type": "stream",
     "text": [
      "----- Profondeur maximale des arbres de decisions = 3 -----\n",
      "Le nombre d'anomalies au total est: 384\n",
      "\n",
      "Le nombre de vrais positifs est: 306\n",
      "\n",
      "Le taux de detections correctes est de: 79.6875%\n",
      "\n",
      "Le score est de: 0.9736666666666667\n"
     ]
    },
    {
     "name": "stderr",
     "output_type": "stream",
     "text": [
      "<ipython-input-50-124a9869c020>:8: DataConversionWarning: A column-vector y was passed when a 1d array was expected. Please change the shape of y to (n_samples,), for example using ravel().\n",
      "  clf.fit(X_train, y_train)\n"
     ]
    },
    {
     "name": "stdout",
     "output_type": "stream",
     "text": [
      "----- Profondeur maximale des arbres de decisions = 4 -----\n",
      "Le nombre d'anomalies au total est: 384\n",
      "\n",
      "Le nombre de vrais positifs est: 369\n",
      "\n",
      "Le taux de detections correctes est de: 96.09375%\n",
      "\n",
      "Le score est de: 0.9946666666666667\n"
     ]
    },
    {
     "name": "stderr",
     "output_type": "stream",
     "text": [
      "<ipython-input-50-124a9869c020>:8: DataConversionWarning: A column-vector y was passed when a 1d array was expected. Please change the shape of y to (n_samples,), for example using ravel().\n",
      "  clf.fit(X_train, y_train)\n"
     ]
    },
    {
     "name": "stdout",
     "output_type": "stream",
     "text": [
      "----- Profondeur maximale des arbres de decisions = 5 -----\n",
      "Le nombre d'anomalies au total est: 384\n",
      "\n",
      "Le nombre de vrais positifs est: 376\n",
      "\n",
      "Le taux de detections correctes est de: 97.91666666666667%\n",
      "\n",
      "Le score est de: 0.9973333333333333\n"
     ]
    }
   ],
   "source": [
    "from sklearn.model_selection import train_test_split\n",
    "from sklearn.ensemble import RandomForestClassifier\n",
    "\n",
    "X_train, X_test, y_train, y_test = train_test_split(X, Y, test_size = 0.2,\\\n",
    "                                                    random_state=5)\n",
    "for i in range(2, 6):\n",
    "    clf = RandomForestClassifier(max_depth=i, random_state=0)\n",
    "    clf.fit(X_train, y_train)\n",
    "\n",
    "    RFOutliers = clf.predict(X_test)\n",
    "    compTab =  y_test.copy()\n",
    "    compTab['RFOutliers'] = RFOutliers\n",
    "    \n",
    "    nbAnomaliesTest = len(y_test.loc[y_test['isAttack']=='1'])\n",
    "\n",
    "    nbTruePos = len(compTab.loc[(compTab['isAttack']=='1') &\\\n",
    "                            (compTab['RFOutliers']=='1')])\n",
    "    print(\"----- Profondeur maximale des arbres de decisions = \" + str(i) + \" -----\")\n",
    "    print(\"Le nombre d'anomalies au total est: \" + str(nbAnomaliesTest)+\"\\n\")\n",
    "    print(\"Le nombre de vrais positifs est: \" + str(nbTruePos)+ \"\\n\")\n",
    "    print(\"Le taux de detections correctes est de: \" + \\\n",
    "          str(nbTruePos*100/nbAnomaliesTest) +\"%\\n\")\n",
    "    print(\"Le score est de: \" + \\\n",
    "          str(clf.score(X_test, y_test)))"
   ]
  },
  {
   "cell_type": "markdown",
   "id": "infrared-voice",
   "metadata": {
    "id": "T7lPdAft_vGf"
   },
   "source": [
    "## XGBoost"
   ]
  },
  {
   "cell_type": "markdown",
   "id": "phantom-fitness",
   "metadata": {
    "id": "suFUjW4eXCXQ"
   },
   "source": [
    "### Préparation des données"
   ]
  },
  {
   "cell_type": "code",
   "execution_count": 51,
   "id": "spatial-cleaner",
   "metadata": {
    "id": "2pPT9TDe_2nY"
   },
   "outputs": [],
   "source": [
    "from sklearn.model_selection import train_test_split\n",
    "\n",
    "X_train, X_test, y_train, y_test = train_test_split(X, Y, test_size = 0.2,\\\n",
    "                                                    random_state=5)"
   ]
  },
  {
   "cell_type": "markdown",
   "id": "printable-final",
   "metadata": {},
   "source": [
    "### Définition des paramétres du modèle\n",
    "\n",
    "On ajoute un poids pour équilibrer les données car dans notre jeu de donnés nous avons 2053 observations qui ont isAttack=1 et 12943 observations qui ont isAttack = 0."
   ]
  },
  {
   "cell_type": "code",
   "execution_count": 52,
   "id": "sixth-evening",
   "metadata": {
    "colab": {
     "base_uri": "https://localhost:8080/"
    },
    "id": "xSKVu4RfJUXn",
    "outputId": "bb9a8efc-c305-4120-a821-2133574131c2"
   },
   "outputs": [
    {
     "name": "stderr",
     "output_type": "stream",
     "text": [
      "/Users/guillaume/opt/miniconda3/lib/python3.8/site-packages/xgboost/sklearn.py:1146: UserWarning: The use of label encoder in XGBClassifier is deprecated and will be removed in a future release. To remove this warning, do the following: 1) Pass option use_label_encoder=False when constructing XGBClassifier object; and 2) Encode your labels (y) as integers starting with 0, i.e. 0, 1, 2, ..., [num_class - 1].\n",
      "  warnings.warn(label_encoder_deprecation_msg, UserWarning)\n",
      "/Users/guillaume/opt/miniconda3/lib/python3.8/site-packages/sklearn/utils/validation.py:63: DataConversionWarning: A column-vector y was passed when a 1d array was expected. Please change the shape of y to (n_samples, ), for example using ravel().\n",
      "  return f(*args, **kwargs)\n"
     ]
    },
    {
     "name": "stdout",
     "output_type": "stream",
     "text": [
      "[17:28:02] WARNING: /Users/travis/build/dmlc/xgboost/src/learner.cc:1095: Starting in XGBoost 1.3.0, the default evaluation metric used with the objective 'binary:logistic' was changed from 'error' to 'logloss'. Explicitly set eval_metric if you'd like to restore the old behavior.\n"
     ]
    }
   ],
   "source": [
    "from xgboost import XGBClassifier\n",
    "# nbr d'observations non attaque divisé par le nombre d'observations lors d'une attaque\n",
    "weights = (Y['isAttack']=='0').sum() / (1.0 * (Y['isAttack']=='1').sum())\n",
    "clf = XGBClassifier(max_depth = 3, scale_pos_weight=weights, n_jobs = 4)\n",
    "xgbTestOutliers = clf.fit(X_train,y_train).predict(X_test)\n",
    "probabilities = clf.predict_proba(X_test)"
   ]
  },
  {
   "cell_type": "markdown",
   "id": "grateful-hygiene",
   "metadata": {},
   "source": [
    "### Evaluation de l'éfficacité d'isolation forest"
   ]
  },
  {
   "cell_type": "code",
   "execution_count": 53,
   "id": "charged-garage",
   "metadata": {
    "colab": {
     "base_uri": "https://localhost:8080/"
    },
    "id": "lcEZXJbxMqxf",
    "outputId": "7a0d6513-d22c-416a-ff95-0c306e10d4bc"
   },
   "outputs": [
    {
     "name": "stdout",
     "output_type": "stream",
     "text": [
      "Le nombre d'elements dans y_test est: 3000\n",
      "\n",
      "Le nombre d'anomalies dans y_test est: 384\n",
      "\n",
      "Le nombre d'anomalies detectées par XGBoost: 384\n",
      "\n"
     ]
    }
   ],
   "source": [
    "compTab2 = y_test.copy()\n",
    "compTab2['xgbTestOutliers'] = xgbTestOutliers\n",
    "\n",
    "nbElts = len(y_test)\n",
    "nbAnomaliesTest = len(y_test.loc[y_test['isAttack']=='1'])\n",
    "nbTruePos = len(compTab2.loc[(compTab2['isAttack']=='1') &\\\n",
    "                             (compTab2['xgbTestOutliers']=='1')])\n",
    "print(\"Le nombre d'elements dans y_test est: \" + str(nbElts) +\"\\n\")\n",
    "print(\"Le nombre d'anomalies dans y_test est: \" + str(nbAnomaliesTest) + \"\\n\")\n",
    "print(\"Le nombre d'anomalies detectées par XGBoost: \" + str(nbTruePos) + \"\\n\")"
   ]
  },
  {
   "cell_type": "code",
   "execution_count": 54,
   "id": "infinite-christian",
   "metadata": {
    "colab": {
     "base_uri": "https://localhost:8080/"
    },
    "id": "VJId2egnAc4z",
    "outputId": "fd3dc48b-ae74-46c6-f860-a26b6ea8a0ed"
   },
   "outputs": [
    {
     "name": "stdout",
     "output_type": "stream",
     "text": [
      "Pourcentage d'anomalies détectées par XGBoost par rapport au nombre réel d'anomalie : 100.0%\n"
     ]
    }
   ],
   "source": [
    "print(\"Pourcentage d'anomalies détectées par XGBoost par rapport au nombre réel d'anomalie : \" + str((nbTruePos/nbAnomaliesTest)*100) + \"%\")"
   ]
  },
  {
   "cell_type": "markdown",
   "id": "polar-jersey",
   "metadata": {
    "id": "MqzbiI_lWWnC"
   },
   "source": [
    "# Visualisation des resultats et interpretation"
   ]
  },
  {
   "cell_type": "markdown",
   "id": "dressed-intensity",
   "metadata": {
    "id": "RtMyzdpXWk89"
   },
   "source": [
    "### Cover"
   ]
  },
  {
   "cell_type": "code",
   "execution_count": 55,
   "id": "loved-starter",
   "metadata": {
    "colab": {
     "base_uri": "https://localhost:8080/",
     "height": 577
    },
    "id": "bPcRpHfbQ76g",
    "outputId": "a30af45f-4afc-495e-a4df-0c02df900218"
   },
   "outputs": [
    {
     "data": {
      "image/png": "[encoded data removed]",
      "text/plain": [
       "<Figure size 1008x648 with 1 Axes>"
      ]
     },
     "metadata": {
      "needs_background": "light"
     },
     "output_type": "display_data"
    }
   ],
   "source": [
    "from xgboost import plot_importance,  plot_tree\n",
    "\n",
    "# Affichage de l'importance des colonnes selon le cover\n",
    "fig = plt.figure(figsize=(14,9))\n",
    "ax = fig.add_subplot(111)\n",
    "\n",
    "colours = plt.cm.Set1(np.linspace(0,1,9))\n",
    "ax = plot_importance(clf, height=1, color=colours, grid=False, \\\n",
    "                     show_values=False, importance_type='cover', ax=ax)\n",
    "\n",
    "for axis in ['top', 'bottom', 'left', 'right']:\n",
    "  ax.spines[axis].set_linewidth(2)\n",
    "\n",
    "ax.set_xlabel('Importance score', size=16);\n",
    "ax.set_ylabel('Features', size=16);\n",
    "ax.set_yticklabels(ax.get_yticklabels(), size=12);\n",
    "ax.set_title('Ordering of features by importance to the model learnt ' \\\n",
    "             'using cover', size=20);"
   ]
  },
  {
   "cell_type": "markdown",
   "id": "sized-apparel",
   "metadata": {
    "id": "nPGX87G-Wnys"
   },
   "source": [
    "### Gain"
   ]
  },
  {
   "cell_type": "code",
   "execution_count": 56,
   "id": "static-canal",
   "metadata": {
    "colab": {
     "base_uri": "https://localhost:8080/",
     "height": 577
    },
    "id": "EEF-tDv4R1SW",
    "outputId": "bd1f31e7-f85a-4e79-fb34-bc8754bcf69b"
   },
   "outputs": [
    {
     "data": {
      "image/png": "[encoded data removed]",
      "text/plain": [
       "<Figure size 1008x648 with 1 Axes>"
      ]
     },
     "metadata": {
      "needs_background": "light"
     },
     "output_type": "display_data"
    }
   ],
   "source": [
    "# Affichage de l'importance des colonnes selon le gain\n",
    "fig = plt.figure(figsize=(14,9))\n",
    "ax = fig.add_subplot(111)\n",
    "\n",
    "colours = plt.cm.Set1(np.linspace(0,1,9))\n",
    "ax = plot_importance(clf, height=1, color=colours, grid=False, \\\n",
    "                     show_values=False, importance_type='gain', ax=ax)\n",
    "\n",
    "for axis in ['top', 'bottom', 'left', 'right']:\n",
    "  ax.spines[axis].set_linewidth(2)\n",
    "\n",
    "ax.set_xlabel('Importance score', size=16);\n",
    "ax.set_ylabel('Features', size=16);\n",
    "ax.set_yticklabels(ax.get_yticklabels(), size=12);\n",
    "ax.set_title('Ordering of features by importance to the model learnt ' \\\n",
    "             'using gain', size=20);"
   ]
  },
  {
   "cell_type": "markdown",
   "id": "increased-explosion",
   "metadata": {
    "id": "_3H2b3kOWpvw"
   },
   "source": [
    "### Weight"
   ]
  },
  {
   "cell_type": "code",
   "execution_count": 57,
   "id": "naval-lancaster",
   "metadata": {
    "colab": {
     "base_uri": "https://localhost:8080/",
     "height": 577
    },
    "id": "-76XSCtgSIbr",
    "outputId": "51b59793-4616-48fe-beae-f7eed8acc95a"
   },
   "outputs": [
    {
     "data": {
      "image/png": "[encoded data removed]",
      "text/plain": [
       "<Figure size 1008x648 with 1 Axes>"
      ]
     },
     "metadata": {
      "needs_background": "light"
     },
     "output_type": "display_data"
    }
   ],
   "source": [
    "# Affichage de l'importance des colonnes selon le weight\n",
    "fig = plt.figure(figsize=(14,9))\n",
    "ax = fig.add_subplot(111)\n",
    "\n",
    "colours = plt.cm.Set1(np.linspace(0,1,9))\n",
    "ax = plot_importance(clf, height=1, color=colours, grid=False, \\\n",
    "                     show_values=False, importance_type='weight', ax=ax)\n",
    "\n",
    "for axis in ['top', 'bottom', 'left', 'right']:\n",
    "  ax.spines[axis].set_linewidth(2)\n",
    "\n",
    "ax.set_xlabel('Importance score', size=16);\n",
    "ax.set_ylabel('Features', size=16);\n",
    "ax.set_yticklabels(ax.get_yticklabels(), size=12);\n",
    "ax.set_title('Ordering of features by importance to the model learnt ' \\\n",
    "             'using weight', size=20);"
   ]
  },
  {
   "cell_type": "markdown",
   "id": "acknowledged-poland",
   "metadata": {
    "id": "3ceIez2I_T2z"
   },
   "source": [
    "# Arbre du classifieur"
   ]
  },
  {
   "cell_type": "code",
   "execution_count": 58,
   "id": "technical-genetics",
   "metadata": {
    "colab": {
     "base_uri": "https://localhost:8080/",
     "height": 428
    },
    "id": "1KoC0fv-_VP6",
    "outputId": "637127d9-95b0-4e10-c6c9-564e1d250a93"
   },
   "outputs": [
    {
     "data": {
      "image/svg+xml": [
       "<?xml version=\"1.0\" encoding=\"UTF-8\" standalone=\"no\"?>\n",
       "<!DOCTYPE svg PUBLIC \"-//W3C//DTD SVG 1.1//EN\"\n",
       " \"http://www.w3.org/Graphics/SVG/1.1/DTD/svg11.dtd\">\n",
       "<!-- Generated by graphviz version 2.44.1 (20200629.0846)\n",
       " -->\n",
       "<!-- Pages: 1 -->\n",
       "<svg width=\"1036pt\" height=\"305pt\"\n",
       " viewBox=\"0.00 0.00 1036.04 305.00\" xmlns=\"http://www.w3.org/2000/svg\" xmlns:xlink=\"http://www.w3.org/1999/xlink\">\n",
       "<g id=\"graph0\" class=\"graph\" transform=\"scale(1 1) rotate(0) translate(4 301)\">\n",
       "<polygon fill=\"white\" stroke=\"transparent\" points=\"-4,4 -4,-301 1032.04,-301 1032.04,4 -4,4\"/>\n",
       "<!-- 0 -->\n",
       "<g id=\"node1\" class=\"node\">\n",
       "<title>0</title>\n",
       "<ellipse fill=\"none\" stroke=\"black\" cx=\"361.39\" cy=\"-279\" rx=\"85.29\" ry=\"18\"/>\n",
       "<text text-anchor=\"middle\" x=\"361.39\" y=\"-275.3\" font-family=\"Times,serif\" font-size=\"14.00\">LIT_301&lt;1010.8186</text>\n",
       "</g>\n",
       "<!-- 1 -->\n",
       "<g id=\"node2\" class=\"node\">\n",
       "<title>1</title>\n",
       "<ellipse fill=\"none\" stroke=\"black\" cx=\"261.39\" cy=\"-192\" rx=\"79.89\" ry=\"18\"/>\n",
       "<text text-anchor=\"middle\" x=\"261.39\" y=\"-188.3\" font-family=\"Times,serif\" font-size=\"14.00\">P601_Status_1&lt;0.5</text>\n",
       "</g>\n",
       "<!-- 0&#45;&gt;1 -->\n",
       "<g id=\"edge1\" class=\"edge\">\n",
       "<title>0&#45;&gt;1</title>\n",
       "<path fill=\"none\" stroke=\"#0000ff\" d=\"M341.64,-261.21C326.47,-248.32 305.36,-230.38 288.6,-216.13\"/>\n",
       "<polygon fill=\"#0000ff\" stroke=\"#0000ff\" points=\"290.65,-213.28 280.77,-209.47 286.12,-218.61 290.65,-213.28\"/>\n",
       "<text text-anchor=\"middle\" x=\"351.89\" y=\"-231.8\" font-family=\"Times,serif\" font-size=\"14.00\">yes, missing</text>\n",
       "</g>\n",
       "<!-- 2 -->\n",
       "<g id=\"node3\" class=\"node\">\n",
       "<title>2</title>\n",
       "<ellipse fill=\"none\" stroke=\"black\" cx=\"518.39\" cy=\"-192\" rx=\"90.18\" ry=\"18\"/>\n",
       "<text text-anchor=\"middle\" x=\"518.39\" y=\"-188.3\" font-family=\"Times,serif\" font-size=\"14.00\">AIT_302&lt;294.218567</text>\n",
       "</g>\n",
       "<!-- 0&#45;&gt;2 -->\n",
       "<g id=\"edge2\" class=\"edge\">\n",
       "<title>0&#45;&gt;2</title>\n",
       "<path fill=\"none\" stroke=\"#ff0000\" d=\"M390.92,-262.01C416.06,-248.4 452.36,-228.75 479.79,-213.9\"/>\n",
       "<polygon fill=\"#ff0000\" stroke=\"#ff0000\" points=\"481.6,-216.9 488.73,-209.06 478.27,-210.74 481.6,-216.9\"/>\n",
       "<text text-anchor=\"middle\" x=\"456.39\" y=\"-231.8\" font-family=\"Times,serif\" font-size=\"14.00\">no</text>\n",
       "</g>\n",
       "<!-- 3 -->\n",
       "<g id=\"node4\" class=\"node\">\n",
       "<title>3</title>\n",
       "<ellipse fill=\"none\" stroke=\"black\" cx=\"75.39\" cy=\"-105\" rx=\"75.29\" ry=\"18\"/>\n",
       "<text text-anchor=\"middle\" x=\"75.39\" y=\"-101.3\" font-family=\"Times,serif\" font-size=\"14.00\">leaf=0.597992539</text>\n",
       "</g>\n",
       "<!-- 1&#45;&gt;3 -->\n",
       "<g id=\"edge3\" class=\"edge\">\n",
       "<title>1&#45;&gt;3</title>\n",
       "<path fill=\"none\" stroke=\"#0000ff\" d=\"M227.71,-175.61C197.03,-161.59 151.57,-140.81 118.3,-125.61\"/>\n",
       "<polygon fill=\"#0000ff\" stroke=\"#0000ff\" points=\"119.38,-122.25 108.83,-121.28 116.47,-128.62 119.38,-122.25\"/>\n",
       "<text text-anchor=\"middle\" x=\"214.89\" y=\"-144.8\" font-family=\"Times,serif\" font-size=\"14.00\">yes, missing</text>\n",
       "</g>\n",
       "<!-- 4 -->\n",
       "<g id=\"node5\" class=\"node\">\n",
       "<title>4</title>\n",
       "<ellipse fill=\"none\" stroke=\"black\" cx=\"261.39\" cy=\"-105\" rx=\"92.88\" ry=\"18\"/>\n",
       "<text text-anchor=\"middle\" x=\"261.39\" y=\"-101.3\" font-family=\"Times,serif\" font-size=\"14.00\">FIT_401&lt;0.639781713</text>\n",
       "</g>\n",
       "<!-- 1&#45;&gt;4 -->\n",
       "<g id=\"edge4\" class=\"edge\">\n",
       "<title>1&#45;&gt;4</title>\n",
       "<path fill=\"none\" stroke=\"#ff0000\" d=\"M261.39,-173.8C261.39,-162.16 261.39,-146.55 261.39,-133.24\"/>\n",
       "<polygon fill=\"#ff0000\" stroke=\"#ff0000\" points=\"264.89,-133.18 261.39,-123.18 257.89,-133.18 264.89,-133.18\"/>\n",
       "<text text-anchor=\"middle\" x=\"268.39\" y=\"-144.8\" font-family=\"Times,serif\" font-size=\"14.00\">no</text>\n",
       "</g>\n",
       "<!-- 5 -->\n",
       "<g id=\"node8\" class=\"node\">\n",
       "<title>5</title>\n",
       "<ellipse fill=\"none\" stroke=\"black\" cx=\"518.39\" cy=\"-105\" rx=\"90.18\" ry=\"18\"/>\n",
       "<text text-anchor=\"middle\" x=\"518.39\" y=\"-101.3\" font-family=\"Times,serif\" font-size=\"14.00\">AIT_504&lt;25.6857224</text>\n",
       "</g>\n",
       "<!-- 2&#45;&gt;5 -->\n",
       "<g id=\"edge7\" class=\"edge\">\n",
       "<title>2&#45;&gt;5</title>\n",
       "<path fill=\"none\" stroke=\"#0000ff\" d=\"M518.39,-173.8C518.39,-162.16 518.39,-146.55 518.39,-133.24\"/>\n",
       "<polygon fill=\"#0000ff\" stroke=\"#0000ff\" points=\"521.89,-133.18 518.39,-123.18 514.89,-133.18 521.89,-133.18\"/>\n",
       "<text text-anchor=\"middle\" x=\"552.89\" y=\"-144.8\" font-family=\"Times,serif\" font-size=\"14.00\">yes, missing</text>\n",
       "</g>\n",
       "<!-- 6 -->\n",
       "<g id=\"node9\" class=\"node\">\n",
       "<title>6</title>\n",
       "<ellipse fill=\"none\" stroke=\"black\" cx=\"777.39\" cy=\"-105\" rx=\"89.08\" ry=\"18\"/>\n",
       "<text text-anchor=\"middle\" x=\"777.39\" y=\"-101.3\" font-family=\"Times,serif\" font-size=\"14.00\">LIT_401&lt;796.218933</text>\n",
       "</g>\n",
       "<!-- 2&#45;&gt;6 -->\n",
       "<g id=\"edge8\" class=\"edge\">\n",
       "<title>2&#45;&gt;6</title>\n",
       "<path fill=\"none\" stroke=\"#ff0000\" d=\"M563.21,-176.29C607.55,-161.74 675.46,-139.45 722.9,-123.89\"/>\n",
       "<polygon fill=\"#ff0000\" stroke=\"#ff0000\" points=\"724.28,-127.11 732.69,-120.67 722.1,-120.46 724.28,-127.11\"/>\n",
       "<text text-anchor=\"middle\" x=\"670.39\" y=\"-144.8\" font-family=\"Times,serif\" font-size=\"14.00\">no</text>\n",
       "</g>\n",
       "<!-- 7 -->\n",
       "<g id=\"node6\" class=\"node\">\n",
       "<title>7</title>\n",
       "<ellipse fill=\"none\" stroke=\"black\" cx=\"89.39\" cy=\"-18\" rx=\"75.29\" ry=\"18\"/>\n",
       "<text text-anchor=\"middle\" x=\"89.39\" y=\"-14.3\" font-family=\"Times,serif\" font-size=\"14.00\">leaf=0.595502019</text>\n",
       "</g>\n",
       "<!-- 4&#45;&gt;7 -->\n",
       "<g id=\"edge5\" class=\"edge\">\n",
       "<title>4&#45;&gt;7</title>\n",
       "<path fill=\"none\" stroke=\"#0000ff\" d=\"M227.89,-88.11C215.46,-82.17 201.26,-75.33 188.39,-69 168.83,-59.37 147.2,-48.47 129.16,-39.32\"/>\n",
       "<polygon fill=\"#0000ff\" stroke=\"#0000ff\" points=\"130.58,-36.12 120.08,-34.7 127.41,-42.36 130.58,-36.12\"/>\n",
       "<text text-anchor=\"middle\" x=\"222.89\" y=\"-57.8\" font-family=\"Times,serif\" font-size=\"14.00\">yes, missing</text>\n",
       "</g>\n",
       "<!-- 8 -->\n",
       "<g id=\"node7\" class=\"node\">\n",
       "<title>8</title>\n",
       "<ellipse fill=\"none\" stroke=\"black\" cx=\"261.39\" cy=\"-18\" rx=\"78.79\" ry=\"18\"/>\n",
       "<text text-anchor=\"middle\" x=\"261.39\" y=\"-14.3\" font-family=\"Times,serif\" font-size=\"14.00\">leaf=&#45;0.585004747</text>\n",
       "</g>\n",
       "<!-- 4&#45;&gt;8 -->\n",
       "<g id=\"edge6\" class=\"edge\">\n",
       "<title>4&#45;&gt;8</title>\n",
       "<path fill=\"none\" stroke=\"#ff0000\" d=\"M261.39,-86.8C261.39,-75.16 261.39,-59.55 261.39,-46.24\"/>\n",
       "<polygon fill=\"#ff0000\" stroke=\"#ff0000\" points=\"264.89,-46.18 261.39,-36.18 257.89,-46.18 264.89,-46.18\"/>\n",
       "<text text-anchor=\"middle\" x=\"268.39\" y=\"-57.8\" font-family=\"Times,serif\" font-size=\"14.00\">no</text>\n",
       "</g>\n",
       "<!-- 9 -->\n",
       "<g id=\"node10\" class=\"node\">\n",
       "<title>9</title>\n",
       "<ellipse fill=\"none\" stroke=\"black\" cx=\"433.39\" cy=\"-18\" rx=\"75.29\" ry=\"18\"/>\n",
       "<text text-anchor=\"middle\" x=\"433.39\" y=\"-14.3\" font-family=\"Times,serif\" font-size=\"14.00\">leaf=0.562763035</text>\n",
       "</g>\n",
       "<!-- 5&#45;&gt;9 -->\n",
       "<g id=\"edge9\" class=\"edge\">\n",
       "<title>5&#45;&gt;9</title>\n",
       "<path fill=\"none\" stroke=\"#0000ff\" d=\"M501.6,-87.21C489.03,-74.63 471.65,-57.25 457.58,-43.18\"/>\n",
       "<polygon fill=\"#0000ff\" stroke=\"#0000ff\" points=\"459.7,-40.35 450.15,-35.76 454.75,-45.3 459.7,-40.35\"/>\n",
       "<text text-anchor=\"middle\" x=\"515.89\" y=\"-57.8\" font-family=\"Times,serif\" font-size=\"14.00\">yes, missing</text>\n",
       "</g>\n",
       "<!-- 10 -->\n",
       "<g id=\"node11\" class=\"node\">\n",
       "<title>10</title>\n",
       "<ellipse fill=\"none\" stroke=\"black\" cx=\"605.39\" cy=\"-18\" rx=\"78.79\" ry=\"18\"/>\n",
       "<text text-anchor=\"middle\" x=\"605.39\" y=\"-14.3\" font-family=\"Times,serif\" font-size=\"14.00\">leaf=&#45;0.581102371</text>\n",
       "</g>\n",
       "<!-- 5&#45;&gt;10 -->\n",
       "<g id=\"edge10\" class=\"edge\">\n",
       "<title>5&#45;&gt;10</title>\n",
       "<path fill=\"none\" stroke=\"#ff0000\" d=\"M535.62,-87.28C541.57,-81.5 548.28,-74.97 554.39,-69 563.09,-60.51 572.6,-51.19 581.03,-42.93\"/>\n",
       "<polygon fill=\"#ff0000\" stroke=\"#ff0000\" points=\"583.72,-45.19 588.41,-35.68 578.82,-40.19 583.72,-45.19\"/>\n",
       "<text text-anchor=\"middle\" x=\"575.39\" y=\"-57.8\" font-family=\"Times,serif\" font-size=\"14.00\">no</text>\n",
       "</g>\n",
       "<!-- 11 -->\n",
       "<g id=\"node12\" class=\"node\">\n",
       "<title>11</title>\n",
       "<ellipse fill=\"none\" stroke=\"black\" cx=\"777.39\" cy=\"-18\" rx=\"75.29\" ry=\"18\"/>\n",
       "<text text-anchor=\"middle\" x=\"777.39\" y=\"-14.3\" font-family=\"Times,serif\" font-size=\"14.00\">leaf=0.587966144</text>\n",
       "</g>\n",
       "<!-- 6&#45;&gt;11 -->\n",
       "<g id=\"edge11\" class=\"edge\">\n",
       "<title>6&#45;&gt;11</title>\n",
       "<path fill=\"none\" stroke=\"#0000ff\" d=\"M777.39,-86.8C777.39,-75.16 777.39,-59.55 777.39,-46.24\"/>\n",
       "<polygon fill=\"#0000ff\" stroke=\"#0000ff\" points=\"780.89,-46.18 777.39,-36.18 773.89,-46.18 780.89,-46.18\"/>\n",
       "<text text-anchor=\"middle\" x=\"811.89\" y=\"-57.8\" font-family=\"Times,serif\" font-size=\"14.00\">yes, missing</text>\n",
       "</g>\n",
       "<!-- 12 -->\n",
       "<g id=\"node13\" class=\"node\">\n",
       "<title>12</title>\n",
       "<ellipse fill=\"none\" stroke=\"black\" cx=\"949.39\" cy=\"-18\" rx=\"78.79\" ry=\"18\"/>\n",
       "<text text-anchor=\"middle\" x=\"949.39\" y=\"-14.3\" font-family=\"Times,serif\" font-size=\"14.00\">leaf=&#45;0.411901891</text>\n",
       "</g>\n",
       "<!-- 6&#45;&gt;12 -->\n",
       "<g id=\"edge12\" class=\"edge\">\n",
       "<title>6&#45;&gt;12</title>\n",
       "<path fill=\"none\" stroke=\"#ff0000\" d=\"M810.53,-88.29C823.05,-82.31 837.4,-75.39 850.39,-69 869.96,-59.37 891.59,-48.47 909.63,-39.32\"/>\n",
       "<polygon fill=\"#ff0000\" stroke=\"#ff0000\" points=\"911.38,-42.36 918.71,-34.7 908.2,-36.12 911.38,-42.36\"/>\n",
       "<text text-anchor=\"middle\" x=\"887.39\" y=\"-57.8\" font-family=\"Times,serif\" font-size=\"14.00\">no</text>\n",
       "</g>\n",
       "</g>\n",
       "</svg>\n"
      ],
      "text/plain": [
       "<graphviz.files.Source at 0x139411190>"
      ]
     },
     "execution_count": 58,
     "metadata": {},
     "output_type": "execute_result"
    }
   ],
   "source": [
    "from xgboost import to_graphviz\n",
    "to_graphviz(clf)"
   ]
  },
  {
   "cell_type": "markdown",
   "id": "unusual-creature",
   "metadata": {
    "id": "NVg1RHH3FBMe"
   },
   "source": [
    "## Courbe AUPRC"
   ]
  },
  {
   "cell_type": "code",
   "execution_count": 59,
   "id": "express-learning",
   "metadata": {
    "colab": {
     "base_uri": "https://localhost:8080/",
     "height": 532
    },
    "id": "jJdpgjXx76ry",
    "outputId": "9fc3299b-f6da-4c00-d73c-325fc53a07d9"
   },
   "outputs": [
    {
     "name": "stdout",
     "output_type": "stream",
     "text": [
      "AUPRC = 0.9999999999999999\n",
      "\n",
      "\n",
      "\n",
      "\n"
     ]
    },
    {
     "data": {
      "text/plain": [
       "[<matplotlib.lines.Line2D at 0x139312a60>]"
      ]
     },
     "execution_count": 59,
     "metadata": {},
     "output_type": "execute_result"
    },
    {
     "data": {
      "image/png": "[encoded data removed]",
      "text/plain": [
       "<Figure size 648x504 with 1 Axes>"
      ]
     },
     "metadata": {
      "needs_background": "light"
     },
     "output_type": "display_data"
    }
   ],
   "source": [
    "#AUPRC (Area Under the Precision-Recall Curve)\n",
    "from sklearn.metrics import average_precision_score\n",
    "from sklearn.metrics import precision_recall_curve\n",
    "\n",
    "print('AUPRC = {}'.format(average_precision_score(y_true=y_test,\\\n",
    "                                                  y_score=probabilities[:,1],\\\n",
    "                                                  pos_label='1')))\n",
    "print(\"\\n\\n\\n\")\n",
    "precision, recall, thresholds = precision_recall_curve(y_test,\\\n",
    "                                                       probabilities[:,1],\\\n",
    "                                                       pos_label='1')\n",
    "\n",
    "plt.figure(figsize=(9,7))\n",
    "plt.plot(recall, precision, lw=2.0)"
   ]
  },
  {
   "cell_type": "markdown",
   "id": "explicit-cookbook",
   "metadata": {},
   "source": [
    "## Courbe ROC"
   ]
  },
  {
   "cell_type": "code",
   "execution_count": 60,
   "id": "adjustable-protocol",
   "metadata": {
    "colab": {
     "base_uri": "https://localhost:8080/",
     "height": 475
    },
    "id": "Q2ommRqQD3Qr",
    "outputId": "aefacc71-c72a-4412-a871-13e267231700"
   },
   "outputs": [
    {
     "name": "stderr",
     "output_type": "stream",
     "text": [
      "No handles with labels found to put in legend.\n"
     ]
    },
    {
     "data": {
      "image/png": "[encoded data removed]",
      "text/plain": [
       "<Figure size 720x504 with 1 Axes>"
      ]
     },
     "metadata": {
      "needs_background": "light"
     },
     "output_type": "display_data"
    }
   ],
   "source": [
    "#ROC (Receiver Operating Characteristic)\n",
    "from sklearn.metrics import roc_curve, auc\n",
    "fpr, tpr, thresholds = roc_curve(y_test, probabilities[:,1], pos_label='1')\n",
    "roc_auc = auc(fpr, tpr)\n",
    "# plt.figure(figsize=(9,7))\n",
    "# plt.plot(fpr, tpr, lw=2.0)\n",
    "plt.figure(figsize=(10,7))\n",
    "lw = 2\n",
    "plt.plot(fpr, tpr, color='darkorange', lw=lw)\n",
    "plt.plot([0, 1], [0, 1], color='navy', lw=lw, linestyle='--')\n",
    "plt.xlim([-0.02, 1.0])\n",
    "plt.ylim([0.0, 1.05])\n",
    "plt.xlabel('False Positive Rate')\n",
    "plt.ylabel('True Positive Rate')\n",
    "plt.title('ROC curve')\n",
    "plt.legend(loc=\"lower right\")\n",
    "plt.show()\n"
   ]
  },
  {
   "cell_type": "markdown",
   "id": "optimum-scholarship",
   "metadata": {
    "id": "ybX6LKtjWsXV"
   },
   "source": [
    "# Interpretations"
   ]
  },
  {
   "cell_type": "markdown",
   "id": "filled-force",
   "metadata": {},
   "source": [
    "D'après ces résultats, nous pouvons conclure que l'attribut qui influence le plus grand nombre de prédictions (cover) est AIT 402 qui correspond à l'analyseur de NaHSO3 et de NaOCl dans la partie P4 du système de traitement.\n",
    "\n",
    "L'attribut le plus important et le plus discriminant (gain) pour les prédictions est aussi AIT 402.\n",
    "\n",
    "L'attribut qui est utilisé dans le plus grand nombre de splits dans les arbres de décision crées par XGBoost (weight) est LIT 301, qui correspond au detecteur de niveau d'eau dans le UF feed tank de la partie P3 du système de traitement.\n",
    "\n",
    "Donc pour améliorer la sécurité du système, il faudrait idéalement regarder de plus près et avec plus de soin les attributs AIT 402 et LIT 301."
   ]
  },
  {
   "cell_type": "markdown",
   "id": "sustainable-recognition",
   "metadata": {
    "id": "TYJ0x-4yfIyv"
   },
   "source": [
    "# Plot des données en 3D"
   ]
  },
  {
   "cell_type": "code",
   "execution_count": 61,
   "id": "expanded-generation",
   "metadata": {
    "id": "k_PZEznzfRX7"
   },
   "outputs": [],
   "source": [
    "import matplotlib.lines as mlines\n",
    "\n",
    "def show3D_data(X, Y, x_axis_name, y_axis_name, z_axis_name):\n",
    "  x=x_axis_name\n",
    "  y=y_axis_name\n",
    "  z=z_axis_name\n",
    "  zOffset = 0.02\n",
    "  limit=len(X)\n",
    "\n",
    "  sns.reset_orig() \n",
    "\n",
    "  fig = plt.figure(figsize=(10,12))\n",
    "  ax = fig.add_subplot(111,projection='3d')\n",
    "  ax.scatter(X.loc[Y['isAttack']=='0',x][:limit],\\\n",
    "             X.loc[Y['isAttack']=='0',y][:limit], \\\n",
    "             -np.log10(X.loc[Y['isAttack']=='0',z][:limit]+zOffset),\\\n",
    "             c='g', marker='.', s=1, label='genuine')\n",
    "  ax.scatter(X.loc[Y['isAttack']=='1',x][:limit],\\\n",
    "             X.loc[Y['isAttack']=='1',y][:limit],\\\n",
    "             -np.log10(X.loc[Y['isAttack']=='1',z][:limit] + zOffset),\\\n",
    "             c='r', marker='.', s=1, label='anomalies')\n",
    "  ax.set_xlabel(x,size=16);\n",
    "  ax.set_ylabel(y, size=16);\n",
    "  ax.set_zlabel('- log$_{10}$ (' +z+ ')', size=16)\n",
    "  ax.set_title('Plot of genuine data and anomalies base on 3 properties',\\\n",
    "               size=20)\n",
    "\n",
    "  plt.axis('tight')\n",
    "  ax.grid(1)\n",
    "\n",
    "  noAnomalyMaker = mlines.Line2D([], [], linewidth=0, color='g', marker='.',\\\n",
    "                               markersize=10, label='genuine')\n",
    "  anomalyMaker = mlines.Line2D([], [], linewidth=0, color='r', marker='.',\\\n",
    "                             markersize=10, label='anomalies')\n",
    "  \n",
    "  plt.legend(handles=[noAnomalyMaker, anomalyMaker], \\\n",
    "             bbox_to_anchor=(1.20, 0.38), frameon=False, prop={'size':16});"
   ]
  },
  {
   "cell_type": "code",
   "execution_count": 62,
   "id": "opposite-capability",
   "metadata": {
    "colab": {
     "base_uri": "https://localhost:8080/",
     "height": 0
    },
    "id": "4w9GgmocoNL-",
    "outputId": "5c2c4c64-04c9-4413-8209-ac9501e60559"
   },
   "outputs": [
    {
     "data": {
      "image/png": "[encoded data removed]",
      "text/plain": [
       "<Figure size 720x864 with 1 Axes>"
      ]
     },
     "metadata": {
      "needs_background": "light"
     },
     "output_type": "display_data"
    }
   ],
   "source": [
    "show3D_data(X,Y,'LIT_301','AIT_402', 'P601_Status_1')"
   ]
  },
  {
   "cell_type": "markdown",
   "id": "unexpected-community",
   "metadata": {},
   "source": [
    "#### Plot d'autres attributs importants"
   ]
  },
  {
   "cell_type": "code",
   "execution_count": 63,
   "id": "considerable-archive",
   "metadata": {
    "colab": {
     "base_uri": "https://localhost:8080/",
     "height": 0
    },
    "id": "Dnu-9UWWgG-G",
    "outputId": "d76d4aa4-7fd4-4577-b13d-8d3ff236f91f"
   },
   "outputs": [
    {
     "data": {
      "image/png": "[encoded data removed]",
      "text/plain": [
       "<Figure size 720x864 with 1 Axes>"
      ]
     },
     "metadata": {
      "needs_background": "light"
     },
     "output_type": "display_data"
    }
   ],
   "source": [
    "show3D_data(X,Y,'LIT_301','AIT_402', 'AIT_202')"
   ]
  },
  {
   "cell_type": "code",
   "execution_count": null,
   "id": "retired-nicholas",
   "metadata": {},
   "outputs": [],
   "source": []
  },
  {
   "cell_type": "code",
   "execution_count": null,
   "id": "quantitative-longer",
   "metadata": {},
   "outputs": [],
   "source": []
  }
 ],
 "metadata": {
  "colab": {
   "collapsed_sections": [
    "sorted-congress",
    "substantial-explorer",
    "pEUJGknTTNCh",
    "HHJKq6_cgjbS",
    "uVQv-DlZikeJ",
    "h8A6hTBG8IGD",
    "suFUjW4eXCXQ",
    "TYJ0x-4yfIyv"
   ],
   "name": "clean_data.ipynb",
   "provenance": []
  },
  "interpreter": {
   "hash": "767d51c1340bd893661ea55ea3124f6de3c7a262a8b4abca0554b478b1e2ff90"
  },
  "kernelspec": {
   "display_name": "Python 3",
   "language": "python",
   "name": "python3"
  },
  "language_info": {
   "codemirror_mode": {
    "name": "ipython",
    "version": 3
   },
   "file_extension": ".py",
   "mimetype": "text/x-python",
   "name": "python",
   "nbconvert_exporter": "python",
   "pygments_lexer": "ipython3",
   "version": "3.8.5"
  }
 },
 "nbformat": 4,
 "nbformat_minor": 5
}
