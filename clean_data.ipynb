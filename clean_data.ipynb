{
  "nbformat": 4,
  "nbformat_minor": 5,
  "metadata": {
    "colab": {
      "name": "clean_data.ipynb",
      "provenance": [],
      "collapsed_sections": [
        "beginning-behalf",
        "looking-feedback",
        "after-compatibility"
      ]
    },
    "interpreter": {
      "hash": "df0893f56f349688326838aaeea0de204df53a132722cbd565e54b24a8fec5f6"
    },
    "kernelspec": {
      "display_name": "Python 3",
      "language": "python",
      "name": "python3"
    },
    "language_info": {
      "codemirror_mode": {
        "name": "ipython",
        "version": 3
      },
      "file_extension": ".py",
      "mimetype": "text/x-python",
      "name": "python",
      "nbconvert_exporter": "python",
      "pygments_lexer": "ipython3",
      "version": "3.8.5"
    }
  },
  "cells": [
    {
      "cell_type": "code",
      "metadata": {
        "id": "creative-banana"
      },
      "source": [
        "import pandas as pd\n",
        "import numpy as np\n",
        "import seaborn as sns\n",
        "import matplotlib.pyplot as plt\n",
        "import os\n",
        "import re\n",
        "from datetime import timedelta"
      ],
      "id": "creative-banana",
      "execution_count": 3,
      "outputs": []
    },
    {
      "cell_type": "code",
      "metadata": {
        "id": "boxed-moment"
      },
      "source": [
        "# from google.colab import drive\n",
        "# drive.mount('/content/drive')"
      ],
      "id": "boxed-moment",
      "execution_count": 4,
      "outputs": []
    },
    {
      "cell_type": "markdown",
      "metadata": {
        "id": "beginning-behalf"
      },
      "source": [
        "# Importation et familiarisation avec le jeu de données"
      ],
      "id": "beginning-behalf"
    },
    {
      "cell_type": "code",
      "metadata": {
        "colab": {
          "base_uri": "https://localhost:8080/",
          "height": 343
        },
        "id": "matched-ability",
        "tags": [],
        "outputId": "e66d709b-9768-4786-f03e-61f47fca0f76"
      },
      "source": [
        "df = pd.read_csv('./SWaT_dataset_Jul_19_v2.csv')\n",
        "#df = pd.read_csv('drive/MyDrive/PDD/SWaT_dataset_Jul_19_v2.csv')\n",
        "#df = pd.read_csv('drive/MyDrive/ProtectionDeDonnees/SWaT_dataset_Jul_19_v2.csv')\n",
        "\n",
        "df.head()"
      ],
      "id": "matched-ability",
      "execution_count": 5,
      "outputs": [
        {
          "output_type": "stream",
          "name": "stderr",
          "text": [
            "/usr/local/lib/python3.7/dist-packages/IPython/core/interactiveshell.py:2718: DtypeWarning: Columns (1,2,3,4,5,6,7,8,9,10,15,16,17,18,19,20,21,22,23,24,25,26,27,28,29,30,31,32,33,34,35,36,37,38,39,40,41,43,44,45,46,47,48,49,50,51,52,53,54,55,56,57,58,59,60,61,62,63,64,65,66,67,74,75,76,77) have mixed types.Specify dtype option on import or set low_memory=False.\n",
            "  interactivity=interactivity, compiler=compiler, result=result)\n"
          ]
        },
        {
          "output_type": "execute_result",
          "data": {
            "text/html": [
              "<div>\n",
              "<style scoped>\n",
              "    .dataframe tbody tr th:only-of-type {\n",
              "        vertical-align: middle;\n",
              "    }\n",
              "\n",
              "    .dataframe tbody tr th {\n",
              "        vertical-align: top;\n",
              "    }\n",
              "\n",
              "    .dataframe thead th {\n",
              "        text-align: right;\n",
              "    }\n",
              "</style>\n",
              "<table border=\"1\" class=\"dataframe\">\n",
              "  <thead>\n",
              "    <tr style=\"text-align: right;\">\n",
              "      <th></th>\n",
              "      <th>Unnamed: 0</th>\n",
              "      <th>P1</th>\n",
              "      <th>Unnamed: 2</th>\n",
              "      <th>Unnamed: 3</th>\n",
              "      <th>Unnamed: 4</th>\n",
              "      <th>Unnamed: 5</th>\n",
              "      <th>Unnamed: 6</th>\n",
              "      <th>P2</th>\n",
              "      <th>Unnamed: 8</th>\n",
              "      <th>Unnamed: 9</th>\n",
              "      <th>Unnamed: 10</th>\n",
              "      <th>Unnamed: 11</th>\n",
              "      <th>Unnamed: 12</th>\n",
              "      <th>Unnamed: 13</th>\n",
              "      <th>Unnamed: 14</th>\n",
              "      <th>Unnamed: 15</th>\n",
              "      <th>Unnamed: 16</th>\n",
              "      <th>Unnamed: 17</th>\n",
              "      <th>Unnamed: 18</th>\n",
              "      <th>Unnamed: 19</th>\n",
              "      <th>Unnamed: 20</th>\n",
              "      <th>Unnamed: 21</th>\n",
              "      <th>Unnamed: 22</th>\n",
              "      <th>Unnamed: 23</th>\n",
              "      <th>Unnamed: 24</th>\n",
              "      <th>P3</th>\n",
              "      <th>Unnamed: 26</th>\n",
              "      <th>Unnamed: 27</th>\n",
              "      <th>Unnamed: 28</th>\n",
              "      <th>Unnamed: 29</th>\n",
              "      <th>Unnamed: 30</th>\n",
              "      <th>Unnamed: 31</th>\n",
              "      <th>Unnamed: 32</th>\n",
              "      <th>Unnamed: 33</th>\n",
              "      <th>Unnamed: 34</th>\n",
              "      <th>Unnamed: 35</th>\n",
              "      <th>Unnamed: 36</th>\n",
              "      <th>Unnamed: 37</th>\n",
              "      <th>P4</th>\n",
              "      <th>Unnamed: 39</th>\n",
              "      <th>Unnamed: 40</th>\n",
              "      <th>Unnamed: 41</th>\n",
              "      <th>Unnamed: 42</th>\n",
              "      <th>Unnamed: 43</th>\n",
              "      <th>Unnamed: 44</th>\n",
              "      <th>Unnamed: 45</th>\n",
              "      <th>Unnamed: 46</th>\n",
              "      <th>Unnamed: 47</th>\n",
              "      <th>Unnamed: 48</th>\n",
              "      <th>P5</th>\n",
              "      <th>Unnamed: 50</th>\n",
              "      <th>Unnamed: 51</th>\n",
              "      <th>Unnamed: 52</th>\n",
              "      <th>Unnamed: 53</th>\n",
              "      <th>Unnamed: 54</th>\n",
              "      <th>Unnamed: 55</th>\n",
              "      <th>Unnamed: 56</th>\n",
              "      <th>Unnamed: 57</th>\n",
              "      <th>Unnamed: 58</th>\n",
              "      <th>Unnamed: 59</th>\n",
              "      <th>Unnamed: 60</th>\n",
              "      <th>Unnamed: 61</th>\n",
              "      <th>Unnamed: 62</th>\n",
              "      <th>Unnamed: 63</th>\n",
              "      <th>Unnamed: 64</th>\n",
              "      <th>Unnamed: 65</th>\n",
              "      <th>Unnamed: 66</th>\n",
              "      <th>P6</th>\n",
              "      <th>Unnamed: 68</th>\n",
              "      <th>Unnamed: 69</th>\n",
              "      <th>Unnamed: 70</th>\n",
              "      <th>Unnamed: 71</th>\n",
              "      <th>Unnamed: 72</th>\n",
              "      <th>Unnamed: 73</th>\n",
              "      <th>Unnamed: 74</th>\n",
              "      <th>Unnamed: 75</th>\n",
              "      <th>Unnamed: 76</th>\n",
              "      <th>Unnamed: 77</th>\n",
              "    </tr>\n",
              "  </thead>\n",
              "  <tbody>\n",
              "    <tr>\n",
              "      <th>0</th>\n",
              "      <td>GMT +0</td>\n",
              "      <td>FIT 101</td>\n",
              "      <td>LIT 101</td>\n",
              "      <td>MV 101</td>\n",
              "      <td>P1_STATE</td>\n",
              "      <td>P101 Status</td>\n",
              "      <td>P102 Status</td>\n",
              "      <td>AIT 201</td>\n",
              "      <td>AIT 202</td>\n",
              "      <td>AIT 203</td>\n",
              "      <td>FIT 201</td>\n",
              "      <td>LS 201</td>\n",
              "      <td>LS 202</td>\n",
              "      <td>LSL 203</td>\n",
              "      <td>LSLL 203</td>\n",
              "      <td>MV201</td>\n",
              "      <td>P2_STATE</td>\n",
              "      <td>P201 Status</td>\n",
              "      <td>P202 Status</td>\n",
              "      <td>P203 Status</td>\n",
              "      <td>P204 Status</td>\n",
              "      <td>P205 Status</td>\n",
              "      <td>P206 Status</td>\n",
              "      <td>P207 Status</td>\n",
              "      <td>P208 Status</td>\n",
              "      <td>AIT 301</td>\n",
              "      <td>AIT 302</td>\n",
              "      <td>AIT 303</td>\n",
              "      <td>DPIT 301</td>\n",
              "      <td>FIT 301</td>\n",
              "      <td>LIT 301</td>\n",
              "      <td>MV 301</td>\n",
              "      <td>MV 302</td>\n",
              "      <td>MV 303</td>\n",
              "      <td>MV 304</td>\n",
              "      <td>P3_STATE</td>\n",
              "      <td>P301 Status</td>\n",
              "      <td>P302 Status</td>\n",
              "      <td>AIT 401</td>\n",
              "      <td>AIT 402</td>\n",
              "      <td>FIT 401</td>\n",
              "      <td>LIT 401</td>\n",
              "      <td>LS 401</td>\n",
              "      <td>P4_STATE</td>\n",
              "      <td>P401 Status</td>\n",
              "      <td>P402 Status</td>\n",
              "      <td>P403 Status</td>\n",
              "      <td>P404 Status</td>\n",
              "      <td>UV401</td>\n",
              "      <td>AIT 501</td>\n",
              "      <td>AIT 502</td>\n",
              "      <td>AIT 503</td>\n",
              "      <td>AIT 504</td>\n",
              "      <td>FIT 501</td>\n",
              "      <td>FIT 502</td>\n",
              "      <td>FIT 503</td>\n",
              "      <td>FIT 504</td>\n",
              "      <td>MV 501</td>\n",
              "      <td>MV 502</td>\n",
              "      <td>MV 503</td>\n",
              "      <td>MV 504</td>\n",
              "      <td>P5_STATE</td>\n",
              "      <td>P501 Status</td>\n",
              "      <td>P502 Status</td>\n",
              "      <td>PIT 501</td>\n",
              "      <td>PIT 502</td>\n",
              "      <td>PIT 503</td>\n",
              "      <td>FIT 601</td>\n",
              "      <td>LSH 601</td>\n",
              "      <td>LSH 602</td>\n",
              "      <td>LSH 603</td>\n",
              "      <td>LSL 601</td>\n",
              "      <td>LSL 602</td>\n",
              "      <td>LSL 603</td>\n",
              "      <td>P6 STATE</td>\n",
              "      <td>P601 Status</td>\n",
              "      <td>P602 Status</td>\n",
              "      <td>P603 Status</td>\n",
              "    </tr>\n",
              "    <tr>\n",
              "      <th>1</th>\n",
              "      <td>timestamp</td>\n",
              "      <td>value</td>\n",
              "      <td>value</td>\n",
              "      <td>value</td>\n",
              "      <td>value</td>\n",
              "      <td>value</td>\n",
              "      <td>value</td>\n",
              "      <td>value</td>\n",
              "      <td>value</td>\n",
              "      <td>value</td>\n",
              "      <td>value</td>\n",
              "      <td>value</td>\n",
              "      <td>value</td>\n",
              "      <td>value</td>\n",
              "      <td>value</td>\n",
              "      <td>value</td>\n",
              "      <td>value</td>\n",
              "      <td>value</td>\n",
              "      <td>value</td>\n",
              "      <td>value</td>\n",
              "      <td>value</td>\n",
              "      <td>value</td>\n",
              "      <td>value</td>\n",
              "      <td>value</td>\n",
              "      <td>value</td>\n",
              "      <td>value</td>\n",
              "      <td>value</td>\n",
              "      <td>value</td>\n",
              "      <td>value</td>\n",
              "      <td>value</td>\n",
              "      <td>value</td>\n",
              "      <td>value</td>\n",
              "      <td>value</td>\n",
              "      <td>value</td>\n",
              "      <td>value</td>\n",
              "      <td>value</td>\n",
              "      <td>value</td>\n",
              "      <td>value</td>\n",
              "      <td>value</td>\n",
              "      <td>value</td>\n",
              "      <td>value</td>\n",
              "      <td>value</td>\n",
              "      <td>value</td>\n",
              "      <td>value</td>\n",
              "      <td>value</td>\n",
              "      <td>value</td>\n",
              "      <td>value</td>\n",
              "      <td>value</td>\n",
              "      <td>value</td>\n",
              "      <td>value</td>\n",
              "      <td>value</td>\n",
              "      <td>value</td>\n",
              "      <td>value</td>\n",
              "      <td>value</td>\n",
              "      <td>value</td>\n",
              "      <td>value</td>\n",
              "      <td>value</td>\n",
              "      <td>value</td>\n",
              "      <td>value</td>\n",
              "      <td>value</td>\n",
              "      <td>value</td>\n",
              "      <td>value</td>\n",
              "      <td>value</td>\n",
              "      <td>value</td>\n",
              "      <td>value</td>\n",
              "      <td>value</td>\n",
              "      <td>value</td>\n",
              "      <td>value</td>\n",
              "      <td>value</td>\n",
              "      <td>value</td>\n",
              "      <td>value</td>\n",
              "      <td>value</td>\n",
              "      <td>value</td>\n",
              "      <td>value</td>\n",
              "      <td>value</td>\n",
              "      <td>value</td>\n",
              "      <td>value</td>\n",
              "      <td>value</td>\n",
              "    </tr>\n",
              "    <tr>\n",
              "      <th>2</th>\n",
              "      <td>2019-07-20T04:30:00Z</td>\n",
              "      <td>0</td>\n",
              "      <td>729.8658</td>\n",
              "      <td>1</td>\n",
              "      <td>3</td>\n",
              "      <td>2</td>\n",
              "      <td>1</td>\n",
              "      <td>142.527557</td>\n",
              "      <td>9.293002</td>\n",
              "      <td>198.077423</td>\n",
              "      <td>2.335437</td>\n",
              "      <td>Inactive</td>\n",
              "      <td>Inactive</td>\n",
              "      <td>Inactive</td>\n",
              "      <td>Inactive</td>\n",
              "      <td>2</td>\n",
              "      <td>2</td>\n",
              "      <td>1</td>\n",
              "      <td>1</td>\n",
              "      <td>2</td>\n",
              "      <td>1</td>\n",
              "      <td>2</td>\n",
              "      <td>1</td>\n",
              "      <td>1</td>\n",
              "      <td>1</td>\n",
              "      <td>8.522921</td>\n",
              "      <td>256.431274</td>\n",
              "      <td>143.158966</td>\n",
              "      <td>1.19085729</td>\n",
              "      <td>0.000512443</td>\n",
              "      <td>730.7021</td>\n",
              "      <td>1</td>\n",
              "      <td>1</td>\n",
              "      <td>1</td>\n",
              "      <td>1</td>\n",
              "      <td>99</td>\n",
              "      <td>1</td>\n",
              "      <td>1</td>\n",
              "      <td>0</td>\n",
              "      <td>87.9518051</td>\n",
              "      <td>0.7817402</td>\n",
              "      <td>1000.62805</td>\n",
              "      <td>Inactive</td>\n",
              "      <td>4</td>\n",
              "      <td>2</td>\n",
              "      <td>1</td>\n",
              "      <td>1</td>\n",
              "      <td>1</td>\n",
              "      <td>2</td>\n",
              "      <td>7.4896183</td>\n",
              "      <td>147.3981</td>\n",
              "      <td>1016.27789</td>\n",
              "      <td>46.0651131</td>\n",
              "      <td>0.781594455</td>\n",
              "      <td>0.3103625</td>\n",
              "      <td>0.6236277</td>\n",
              "      <td>0.2134324</td>\n",
              "      <td>2</td>\n",
              "      <td>2</td>\n",
              "      <td>1</td>\n",
              "      <td>1</td>\n",
              "      <td>12</td>\n",
              "      <td>2</td>\n",
              "      <td>1</td>\n",
              "      <td>167.601257</td>\n",
              "      <td>2.96350884</td>\n",
              "      <td>119.921173</td>\n",
              "      <td>0.000320379</td>\n",
              "      <td>Active</td>\n",
              "      <td>Active</td>\n",
              "      <td>Inactive</td>\n",
              "      <td>Inactive</td>\n",
              "      <td>Inactive</td>\n",
              "      <td>Active</td>\n",
              "      <td>2</td>\n",
              "      <td>1</td>\n",
              "      <td>1</td>\n",
              "      <td>1</td>\n",
              "    </tr>\n",
              "    <tr>\n",
              "      <th>3</th>\n",
              "      <td>2019-07-20T04:30:01Z</td>\n",
              "      <td>0</td>\n",
              "      <td>729.434</td>\n",
              "      <td>1</td>\n",
              "      <td>3</td>\n",
              "      <td>2</td>\n",
              "      <td>1</td>\n",
              "      <td>142.527557</td>\n",
              "      <td>9.293002</td>\n",
              "      <td>198.385025</td>\n",
              "      <td>2.335437</td>\n",
              "      <td>Inactive</td>\n",
              "      <td>Inactive</td>\n",
              "      <td>Inactive</td>\n",
              "      <td>Inactive</td>\n",
              "      <td>2</td>\n",
              "      <td>2</td>\n",
              "      <td>1</td>\n",
              "      <td>1</td>\n",
              "      <td>2</td>\n",
              "      <td>1</td>\n",
              "      <td>2</td>\n",
              "      <td>1</td>\n",
              "      <td>1</td>\n",
              "      <td>1</td>\n",
              "      <td>8.522921</td>\n",
              "      <td>256.431274</td>\n",
              "      <td>143.158966</td>\n",
              "      <td>1.19085729</td>\n",
              "      <td>0.000512443</td>\n",
              "      <td>730.902344</td>\n",
              "      <td>1</td>\n",
              "      <td>1</td>\n",
              "      <td>1</td>\n",
              "      <td>1</td>\n",
              "      <td>99</td>\n",
              "      <td>1</td>\n",
              "      <td>1</td>\n",
              "      <td>0</td>\n",
              "      <td>87.82363</td>\n",
              "      <td>0.782380462</td>\n",
              "      <td>1000.55115</td>\n",
              "      <td>Inactive</td>\n",
              "      <td>4</td>\n",
              "      <td>2</td>\n",
              "      <td>1</td>\n",
              "      <td>1</td>\n",
              "      <td>1</td>\n",
              "      <td>2</td>\n",
              "      <td>7.4896183</td>\n",
              "      <td>147.3981</td>\n",
              "      <td>1016.27789</td>\n",
              "      <td>45.7575</td>\n",
              "      <td>0.7822353</td>\n",
              "      <td>0.315101832</td>\n",
              "      <td>0.6236277</td>\n",
              "      <td>0.212984011</td>\n",
              "      <td>2</td>\n",
              "      <td>2</td>\n",
              "      <td>1</td>\n",
              "      <td>1</td>\n",
              "      <td>12</td>\n",
              "      <td>2</td>\n",
              "      <td>1</td>\n",
              "      <td>167.601257</td>\n",
              "      <td>2.96350884</td>\n",
              "      <td>119.921173</td>\n",
              "      <td>0.000320379</td>\n",
              "      <td>Active</td>\n",
              "      <td>Active</td>\n",
              "      <td>Inactive</td>\n",
              "      <td>Inactive</td>\n",
              "      <td>Inactive</td>\n",
              "      <td>Active</td>\n",
              "      <td>2</td>\n",
              "      <td>1</td>\n",
              "      <td>1</td>\n",
              "      <td>1</td>\n",
              "    </tr>\n",
              "    <tr>\n",
              "      <th>4</th>\n",
              "      <td>2019-07-20T04:30:02.004013Z</td>\n",
              "      <td>0</td>\n",
              "      <td>729.12</td>\n",
              "      <td>1</td>\n",
              "      <td>3</td>\n",
              "      <td>2</td>\n",
              "      <td>1</td>\n",
              "      <td>142.527557</td>\n",
              "      <td>9.293002</td>\n",
              "      <td>198.4363</td>\n",
              "      <td>2.335437</td>\n",
              "      <td>Inactive</td>\n",
              "      <td>Inactive</td>\n",
              "      <td>Inactive</td>\n",
              "      <td>Inactive</td>\n",
              "      <td>2</td>\n",
              "      <td>2</td>\n",
              "      <td>1</td>\n",
              "      <td>1</td>\n",
              "      <td>2</td>\n",
              "      <td>1</td>\n",
              "      <td>2</td>\n",
              "      <td>1</td>\n",
              "      <td>1</td>\n",
              "      <td>1</td>\n",
              "      <td>8.522921</td>\n",
              "      <td>256.431274</td>\n",
              "      <td>143.158966</td>\n",
              "      <td>1.19085729</td>\n",
              "      <td>0.000512443</td>\n",
              "      <td>732.3443</td>\n",
              "      <td>1</td>\n",
              "      <td>1</td>\n",
              "      <td>1</td>\n",
              "      <td>1</td>\n",
              "      <td>99</td>\n",
              "      <td>1</td>\n",
              "      <td>1</td>\n",
              "      <td>0</td>\n",
              "      <td>87.7980042</td>\n",
              "      <td>0.7830207</td>\n",
              "      <td>1000.282</td>\n",
              "      <td>Inactive</td>\n",
              "      <td>4</td>\n",
              "      <td>2</td>\n",
              "      <td>1</td>\n",
              "      <td>1</td>\n",
              "      <td>1</td>\n",
              "      <td>2</td>\n",
              "      <td>7.4896183</td>\n",
              "      <td>147.3981</td>\n",
              "      <td>1016.27789</td>\n",
              "      <td>45.60369</td>\n",
              "      <td>0.7822353</td>\n",
              "      <td>0.3170232</td>\n",
              "      <td>0.6236277</td>\n",
              "      <td>0.212984011</td>\n",
              "      <td>2</td>\n",
              "      <td>2</td>\n",
              "      <td>1</td>\n",
              "      <td>1</td>\n",
              "      <td>12</td>\n",
              "      <td>2</td>\n",
              "      <td>1</td>\n",
              "      <td>167.601257</td>\n",
              "      <td>2.96350884</td>\n",
              "      <td>119.921173</td>\n",
              "      <td>0.000320379</td>\n",
              "      <td>Active</td>\n",
              "      <td>Active</td>\n",
              "      <td>Inactive</td>\n",
              "      <td>Inactive</td>\n",
              "      <td>Inactive</td>\n",
              "      <td>Active</td>\n",
              "      <td>2</td>\n",
              "      <td>1</td>\n",
              "      <td>1</td>\n",
              "      <td>1</td>\n",
              "    </tr>\n",
              "  </tbody>\n",
              "</table>\n",
              "</div>"
            ],
            "text/plain": [
              "                    Unnamed: 0       P1  ...  Unnamed: 76  Unnamed: 77\n",
              "0                       GMT +0  FIT 101  ...  P602 Status  P603 Status\n",
              "1                    timestamp    value  ...        value        value\n",
              "2         2019-07-20T04:30:00Z        0  ...            1            1\n",
              "3         2019-07-20T04:30:01Z        0  ...            1            1\n",
              "4  2019-07-20T04:30:02.004013Z        0  ...            1            1\n",
              "\n",
              "[5 rows x 78 columns]"
            ]
          },
          "metadata": {},
          "execution_count": 5
        }
      ]
    },
    {
      "cell_type": "code",
      "metadata": {
        "colab": {
          "base_uri": "https://localhost:8080/",
          "height": 241
        },
        "id": "premium-ceremony",
        "outputId": "ed7f7d07-d1cc-4a0b-8dcf-272d9b8a2bb9"
      },
      "source": [
        "# On met les bons noms de colones\n",
        "df.columns = df.loc[0]\n",
        "\n",
        "# On supprime les lignes inutiles\n",
        "df = df.drop([0,1], axis=0)\n",
        "\n",
        "# Mise a jour des index\n",
        "df.reset_index(inplace=True, drop=True)\n",
        "\n",
        "# On modifie la colone temps en ne gardant que l'heure, les minutes et les secondes\n",
        "# et on stocke sous format timedelta\n",
        "df = df.rename(columns={\"GMT +0\":\"timestamp\"})\n",
        "\n",
        "date_pattern = '[0-9]{2}:[0-9]{2}:[0-9]*'\n",
        "i=0\n",
        "for date in df['timestamp']:\n",
        "    hour = re.findall(date_pattern, date)\n",
        "    h = str(hour)[2:10]\n",
        "    n = h.split(':')\n",
        "    df['timestamp'][i] = timedelta(hours=int(n[0]), minutes=int(n[1]), seconds=int(n[2]))\n",
        "    i+=1\n",
        "\n",
        "df.head()"
      ],
      "id": "premium-ceremony",
      "execution_count": 6,
      "outputs": [
        {
          "output_type": "execute_result",
          "data": {
            "text/html": [
              "<div>\n",
              "<style scoped>\n",
              "    .dataframe tbody tr th:only-of-type {\n",
              "        vertical-align: middle;\n",
              "    }\n",
              "\n",
              "    .dataframe tbody tr th {\n",
              "        vertical-align: top;\n",
              "    }\n",
              "\n",
              "    .dataframe thead th {\n",
              "        text-align: right;\n",
              "    }\n",
              "</style>\n",
              "<table border=\"1\" class=\"dataframe\">\n",
              "  <thead>\n",
              "    <tr style=\"text-align: right;\">\n",
              "      <th></th>\n",
              "      <th>timestamp</th>\n",
              "      <th>FIT 101</th>\n",
              "      <th>LIT 101</th>\n",
              "      <th>MV 101</th>\n",
              "      <th>P1_STATE</th>\n",
              "      <th>P101 Status</th>\n",
              "      <th>P102 Status</th>\n",
              "      <th>AIT 201</th>\n",
              "      <th>AIT 202</th>\n",
              "      <th>AIT 203</th>\n",
              "      <th>FIT 201</th>\n",
              "      <th>LS 201</th>\n",
              "      <th>LS 202</th>\n",
              "      <th>LSL 203</th>\n",
              "      <th>LSLL 203</th>\n",
              "      <th>MV201</th>\n",
              "      <th>P2_STATE</th>\n",
              "      <th>P201 Status</th>\n",
              "      <th>P202 Status</th>\n",
              "      <th>P203 Status</th>\n",
              "      <th>P204 Status</th>\n",
              "      <th>P205 Status</th>\n",
              "      <th>P206 Status</th>\n",
              "      <th>P207 Status</th>\n",
              "      <th>P208 Status</th>\n",
              "      <th>AIT 301</th>\n",
              "      <th>AIT 302</th>\n",
              "      <th>AIT 303</th>\n",
              "      <th>DPIT 301</th>\n",
              "      <th>FIT 301</th>\n",
              "      <th>LIT 301</th>\n",
              "      <th>MV 301</th>\n",
              "      <th>MV 302</th>\n",
              "      <th>MV 303</th>\n",
              "      <th>MV 304</th>\n",
              "      <th>P3_STATE</th>\n",
              "      <th>P301 Status</th>\n",
              "      <th>P302 Status</th>\n",
              "      <th>AIT 401</th>\n",
              "      <th>AIT 402</th>\n",
              "      <th>FIT 401</th>\n",
              "      <th>LIT 401</th>\n",
              "      <th>LS 401</th>\n",
              "      <th>P4_STATE</th>\n",
              "      <th>P401 Status</th>\n",
              "      <th>P402 Status</th>\n",
              "      <th>P403 Status</th>\n",
              "      <th>P404 Status</th>\n",
              "      <th>UV401</th>\n",
              "      <th>AIT 501</th>\n",
              "      <th>AIT 502</th>\n",
              "      <th>AIT 503</th>\n",
              "      <th>AIT 504</th>\n",
              "      <th>FIT 501</th>\n",
              "      <th>FIT 502</th>\n",
              "      <th>FIT 503</th>\n",
              "      <th>FIT 504</th>\n",
              "      <th>MV 501</th>\n",
              "      <th>MV 502</th>\n",
              "      <th>MV 503</th>\n",
              "      <th>MV 504</th>\n",
              "      <th>P5_STATE</th>\n",
              "      <th>P501 Status</th>\n",
              "      <th>P502 Status</th>\n",
              "      <th>PIT 501</th>\n",
              "      <th>PIT 502</th>\n",
              "      <th>PIT 503</th>\n",
              "      <th>FIT 601</th>\n",
              "      <th>LSH 601</th>\n",
              "      <th>LSH 602</th>\n",
              "      <th>LSH 603</th>\n",
              "      <th>LSL 601</th>\n",
              "      <th>LSL 602</th>\n",
              "      <th>LSL 603</th>\n",
              "      <th>P6 STATE</th>\n",
              "      <th>P601 Status</th>\n",
              "      <th>P602 Status</th>\n",
              "      <th>P603 Status</th>\n",
              "    </tr>\n",
              "  </thead>\n",
              "  <tbody>\n",
              "    <tr>\n",
              "      <th>0</th>\n",
              "      <td>4:30:00</td>\n",
              "      <td>0</td>\n",
              "      <td>729.8658</td>\n",
              "      <td>1</td>\n",
              "      <td>3</td>\n",
              "      <td>2</td>\n",
              "      <td>1</td>\n",
              "      <td>142.527557</td>\n",
              "      <td>9.293002</td>\n",
              "      <td>198.077423</td>\n",
              "      <td>2.335437</td>\n",
              "      <td>Inactive</td>\n",
              "      <td>Inactive</td>\n",
              "      <td>Inactive</td>\n",
              "      <td>Inactive</td>\n",
              "      <td>2</td>\n",
              "      <td>2</td>\n",
              "      <td>1</td>\n",
              "      <td>1</td>\n",
              "      <td>2</td>\n",
              "      <td>1</td>\n",
              "      <td>2</td>\n",
              "      <td>1</td>\n",
              "      <td>1</td>\n",
              "      <td>1</td>\n",
              "      <td>8.522921</td>\n",
              "      <td>256.431274</td>\n",
              "      <td>143.158966</td>\n",
              "      <td>1.19085729</td>\n",
              "      <td>0.000512443</td>\n",
              "      <td>730.7021</td>\n",
              "      <td>1</td>\n",
              "      <td>1</td>\n",
              "      <td>1</td>\n",
              "      <td>1</td>\n",
              "      <td>99</td>\n",
              "      <td>1</td>\n",
              "      <td>1</td>\n",
              "      <td>0</td>\n",
              "      <td>87.9518051</td>\n",
              "      <td>0.7817402</td>\n",
              "      <td>1000.62805</td>\n",
              "      <td>Inactive</td>\n",
              "      <td>4</td>\n",
              "      <td>2</td>\n",
              "      <td>1</td>\n",
              "      <td>1</td>\n",
              "      <td>1</td>\n",
              "      <td>2</td>\n",
              "      <td>7.4896183</td>\n",
              "      <td>147.3981</td>\n",
              "      <td>1016.27789</td>\n",
              "      <td>46.0651131</td>\n",
              "      <td>0.781594455</td>\n",
              "      <td>0.3103625</td>\n",
              "      <td>0.6236277</td>\n",
              "      <td>0.2134324</td>\n",
              "      <td>2</td>\n",
              "      <td>2</td>\n",
              "      <td>1</td>\n",
              "      <td>1</td>\n",
              "      <td>12</td>\n",
              "      <td>2</td>\n",
              "      <td>1</td>\n",
              "      <td>167.601257</td>\n",
              "      <td>2.96350884</td>\n",
              "      <td>119.921173</td>\n",
              "      <td>0.000320379</td>\n",
              "      <td>Active</td>\n",
              "      <td>Active</td>\n",
              "      <td>Inactive</td>\n",
              "      <td>Inactive</td>\n",
              "      <td>Inactive</td>\n",
              "      <td>Active</td>\n",
              "      <td>2</td>\n",
              "      <td>1</td>\n",
              "      <td>1</td>\n",
              "      <td>1</td>\n",
              "    </tr>\n",
              "    <tr>\n",
              "      <th>1</th>\n",
              "      <td>4:30:01</td>\n",
              "      <td>0</td>\n",
              "      <td>729.434</td>\n",
              "      <td>1</td>\n",
              "      <td>3</td>\n",
              "      <td>2</td>\n",
              "      <td>1</td>\n",
              "      <td>142.527557</td>\n",
              "      <td>9.293002</td>\n",
              "      <td>198.385025</td>\n",
              "      <td>2.335437</td>\n",
              "      <td>Inactive</td>\n",
              "      <td>Inactive</td>\n",
              "      <td>Inactive</td>\n",
              "      <td>Inactive</td>\n",
              "      <td>2</td>\n",
              "      <td>2</td>\n",
              "      <td>1</td>\n",
              "      <td>1</td>\n",
              "      <td>2</td>\n",
              "      <td>1</td>\n",
              "      <td>2</td>\n",
              "      <td>1</td>\n",
              "      <td>1</td>\n",
              "      <td>1</td>\n",
              "      <td>8.522921</td>\n",
              "      <td>256.431274</td>\n",
              "      <td>143.158966</td>\n",
              "      <td>1.19085729</td>\n",
              "      <td>0.000512443</td>\n",
              "      <td>730.902344</td>\n",
              "      <td>1</td>\n",
              "      <td>1</td>\n",
              "      <td>1</td>\n",
              "      <td>1</td>\n",
              "      <td>99</td>\n",
              "      <td>1</td>\n",
              "      <td>1</td>\n",
              "      <td>0</td>\n",
              "      <td>87.82363</td>\n",
              "      <td>0.782380462</td>\n",
              "      <td>1000.55115</td>\n",
              "      <td>Inactive</td>\n",
              "      <td>4</td>\n",
              "      <td>2</td>\n",
              "      <td>1</td>\n",
              "      <td>1</td>\n",
              "      <td>1</td>\n",
              "      <td>2</td>\n",
              "      <td>7.4896183</td>\n",
              "      <td>147.3981</td>\n",
              "      <td>1016.27789</td>\n",
              "      <td>45.7575</td>\n",
              "      <td>0.7822353</td>\n",
              "      <td>0.315101832</td>\n",
              "      <td>0.6236277</td>\n",
              "      <td>0.212984011</td>\n",
              "      <td>2</td>\n",
              "      <td>2</td>\n",
              "      <td>1</td>\n",
              "      <td>1</td>\n",
              "      <td>12</td>\n",
              "      <td>2</td>\n",
              "      <td>1</td>\n",
              "      <td>167.601257</td>\n",
              "      <td>2.96350884</td>\n",
              "      <td>119.921173</td>\n",
              "      <td>0.000320379</td>\n",
              "      <td>Active</td>\n",
              "      <td>Active</td>\n",
              "      <td>Inactive</td>\n",
              "      <td>Inactive</td>\n",
              "      <td>Inactive</td>\n",
              "      <td>Active</td>\n",
              "      <td>2</td>\n",
              "      <td>1</td>\n",
              "      <td>1</td>\n",
              "      <td>1</td>\n",
              "    </tr>\n",
              "    <tr>\n",
              "      <th>2</th>\n",
              "      <td>4:30:02</td>\n",
              "      <td>0</td>\n",
              "      <td>729.12</td>\n",
              "      <td>1</td>\n",
              "      <td>3</td>\n",
              "      <td>2</td>\n",
              "      <td>1</td>\n",
              "      <td>142.527557</td>\n",
              "      <td>9.293002</td>\n",
              "      <td>198.4363</td>\n",
              "      <td>2.335437</td>\n",
              "      <td>Inactive</td>\n",
              "      <td>Inactive</td>\n",
              "      <td>Inactive</td>\n",
              "      <td>Inactive</td>\n",
              "      <td>2</td>\n",
              "      <td>2</td>\n",
              "      <td>1</td>\n",
              "      <td>1</td>\n",
              "      <td>2</td>\n",
              "      <td>1</td>\n",
              "      <td>2</td>\n",
              "      <td>1</td>\n",
              "      <td>1</td>\n",
              "      <td>1</td>\n",
              "      <td>8.522921</td>\n",
              "      <td>256.431274</td>\n",
              "      <td>143.158966</td>\n",
              "      <td>1.19085729</td>\n",
              "      <td>0.000512443</td>\n",
              "      <td>732.3443</td>\n",
              "      <td>1</td>\n",
              "      <td>1</td>\n",
              "      <td>1</td>\n",
              "      <td>1</td>\n",
              "      <td>99</td>\n",
              "      <td>1</td>\n",
              "      <td>1</td>\n",
              "      <td>0</td>\n",
              "      <td>87.7980042</td>\n",
              "      <td>0.7830207</td>\n",
              "      <td>1000.282</td>\n",
              "      <td>Inactive</td>\n",
              "      <td>4</td>\n",
              "      <td>2</td>\n",
              "      <td>1</td>\n",
              "      <td>1</td>\n",
              "      <td>1</td>\n",
              "      <td>2</td>\n",
              "      <td>7.4896183</td>\n",
              "      <td>147.3981</td>\n",
              "      <td>1016.27789</td>\n",
              "      <td>45.60369</td>\n",
              "      <td>0.7822353</td>\n",
              "      <td>0.3170232</td>\n",
              "      <td>0.6236277</td>\n",
              "      <td>0.212984011</td>\n",
              "      <td>2</td>\n",
              "      <td>2</td>\n",
              "      <td>1</td>\n",
              "      <td>1</td>\n",
              "      <td>12</td>\n",
              "      <td>2</td>\n",
              "      <td>1</td>\n",
              "      <td>167.601257</td>\n",
              "      <td>2.96350884</td>\n",
              "      <td>119.921173</td>\n",
              "      <td>0.000320379</td>\n",
              "      <td>Active</td>\n",
              "      <td>Active</td>\n",
              "      <td>Inactive</td>\n",
              "      <td>Inactive</td>\n",
              "      <td>Inactive</td>\n",
              "      <td>Active</td>\n",
              "      <td>2</td>\n",
              "      <td>1</td>\n",
              "      <td>1</td>\n",
              "      <td>1</td>\n",
              "    </tr>\n",
              "    <tr>\n",
              "      <th>3</th>\n",
              "      <td>4:30:03</td>\n",
              "      <td>0</td>\n",
              "      <td>728.6882</td>\n",
              "      <td>1</td>\n",
              "      <td>3</td>\n",
              "      <td>2</td>\n",
              "      <td>1</td>\n",
              "      <td>142.527557</td>\n",
              "      <td>9.289157</td>\n",
              "      <td>198.667</td>\n",
              "      <td>2.335437</td>\n",
              "      <td>Inactive</td>\n",
              "      <td>Inactive</td>\n",
              "      <td>Inactive</td>\n",
              "      <td>Inactive</td>\n",
              "      <td>2</td>\n",
              "      <td>2</td>\n",
              "      <td>1</td>\n",
              "      <td>1</td>\n",
              "      <td>2</td>\n",
              "      <td>1</td>\n",
              "      <td>2</td>\n",
              "      <td>1</td>\n",
              "      <td>1</td>\n",
              "      <td>1</td>\n",
              "      <td>8.522921</td>\n",
              "      <td>256.431274</td>\n",
              "      <td>143.158966</td>\n",
              "      <td>1.19085729</td>\n",
              "      <td>0.000512443</td>\n",
              "      <td>732.7048</td>\n",
              "      <td>1</td>\n",
              "      <td>1</td>\n",
              "      <td>1</td>\n",
              "      <td>1</td>\n",
              "      <td>99</td>\n",
              "      <td>1</td>\n",
              "      <td>1</td>\n",
              "      <td>0</td>\n",
              "      <td>87.6954651</td>\n",
              "      <td>0.7830207</td>\n",
              "      <td>1000.74341</td>\n",
              "      <td>Inactive</td>\n",
              "      <td>4</td>\n",
              "      <td>2</td>\n",
              "      <td>1</td>\n",
              "      <td>1</td>\n",
              "      <td>1</td>\n",
              "      <td>2</td>\n",
              "      <td>7.4896183</td>\n",
              "      <td>147.167389</td>\n",
              "      <td>1016.27789</td>\n",
              "      <td>45.60369</td>\n",
              "      <td>0.783132553</td>\n",
              "      <td>0.3080569</td>\n",
              "      <td>0.6236277</td>\n",
              "      <td>0.212791845</td>\n",
              "      <td>2</td>\n",
              "      <td>2</td>\n",
              "      <td>1</td>\n",
              "      <td>1</td>\n",
              "      <td>12</td>\n",
              "      <td>2</td>\n",
              "      <td>1</td>\n",
              "      <td>167.601257</td>\n",
              "      <td>2.96350884</td>\n",
              "      <td>119.921173</td>\n",
              "      <td>0.000320379</td>\n",
              "      <td>Active</td>\n",
              "      <td>Active</td>\n",
              "      <td>Inactive</td>\n",
              "      <td>Inactive</td>\n",
              "      <td>Inactive</td>\n",
              "      <td>Active</td>\n",
              "      <td>2</td>\n",
              "      <td>1</td>\n",
              "      <td>1</td>\n",
              "      <td>1</td>\n",
              "    </tr>\n",
              "    <tr>\n",
              "      <th>4</th>\n",
              "      <td>4:30:04</td>\n",
              "      <td>0</td>\n",
              "      <td>727.7069</td>\n",
              "      <td>1</td>\n",
              "      <td>3</td>\n",
              "      <td>2</td>\n",
              "      <td>1</td>\n",
              "      <td>142.527557</td>\n",
              "      <td>9.289157</td>\n",
              "      <td>198.89772</td>\n",
              "      <td>2.335437</td>\n",
              "      <td>Inactive</td>\n",
              "      <td>Inactive</td>\n",
              "      <td>Inactive</td>\n",
              "      <td>Inactive</td>\n",
              "      <td>2</td>\n",
              "      <td>2</td>\n",
              "      <td>1</td>\n",
              "      <td>1</td>\n",
              "      <td>2</td>\n",
              "      <td>1</td>\n",
              "      <td>2</td>\n",
              "      <td>1</td>\n",
              "      <td>1</td>\n",
              "      <td>1</td>\n",
              "      <td>8.522921</td>\n",
              "      <td>256.431274</td>\n",
              "      <td>143.158966</td>\n",
              "      <td>1.19085729</td>\n",
              "      <td>0.000512443</td>\n",
              "      <td>732.7448</td>\n",
              "      <td>1</td>\n",
              "      <td>1</td>\n",
              "      <td>1</td>\n",
              "      <td>1</td>\n",
              "      <td>99</td>\n",
              "      <td>1</td>\n",
              "      <td>1</td>\n",
              "      <td>0</td>\n",
              "      <td>87.61856</td>\n",
              "      <td>0.781228</td>\n",
              "      <td>1000.39734</td>\n",
              "      <td>Inactive</td>\n",
              "      <td>4</td>\n",
              "      <td>2</td>\n",
              "      <td>1</td>\n",
              "      <td>1</td>\n",
              "      <td>1</td>\n",
              "      <td>2</td>\n",
              "      <td>7.4896183</td>\n",
              "      <td>147.090485</td>\n",
              "      <td>1016.27789</td>\n",
              "      <td>45.2191734</td>\n",
              "      <td>0.7837734</td>\n",
              "      <td>0.303445637</td>\n",
              "      <td>0.6236277</td>\n",
              "      <td>0.2140089</td>\n",
              "      <td>2</td>\n",
              "      <td>2</td>\n",
              "      <td>1</td>\n",
              "      <td>1</td>\n",
              "      <td>12</td>\n",
              "      <td>2</td>\n",
              "      <td>1</td>\n",
              "      <td>167.601257</td>\n",
              "      <td>2.96350884</td>\n",
              "      <td>119.921173</td>\n",
              "      <td>0.000320379</td>\n",
              "      <td>Active</td>\n",
              "      <td>Active</td>\n",
              "      <td>Inactive</td>\n",
              "      <td>Inactive</td>\n",
              "      <td>Inactive</td>\n",
              "      <td>Active</td>\n",
              "      <td>2</td>\n",
              "      <td>1</td>\n",
              "      <td>1</td>\n",
              "      <td>1</td>\n",
              "    </tr>\n",
              "  </tbody>\n",
              "</table>\n",
              "</div>"
            ],
            "text/plain": [
              "0 timestamp FIT 101   LIT 101  ... P601 Status P602 Status P603 Status\n",
              "0   4:30:00       0  729.8658  ...           1           1           1\n",
              "1   4:30:01       0   729.434  ...           1           1           1\n",
              "2   4:30:02       0    729.12  ...           1           1           1\n",
              "3   4:30:03       0  728.6882  ...           1           1           1\n",
              "4   4:30:04       0  727.7069  ...           1           1           1\n",
              "\n",
              "[5 rows x 78 columns]"
            ]
          },
          "metadata": {},
          "execution_count": 6
        }
      ]
    },
    {
      "cell_type": "markdown",
      "metadata": {
        "id": "looking-feedback"
      },
      "source": [
        "# Data Observation"
      ],
      "id": "looking-feedback"
    },
    {
      "cell_type": "code",
      "metadata": {
        "colab": {
          "base_uri": "https://localhost:8080/"
        },
        "id": "dress-fireplace",
        "outputId": "f89821e0-f251-4532-b2ec-702ff90ab56f"
      },
      "source": [
        "print(\"La taille du dataset est: \" + str(len(df)))\n",
        "nbCols = len(df.columns)\n",
        "print(\"Nombre de colonnes dans le dataset: \" + str(nbCols))"
      ],
      "id": "dress-fireplace",
      "execution_count": 7,
      "outputs": [
        {
          "output_type": "stream",
          "name": "stdout",
          "text": [
            "La taille du dataset est: 14996\n",
            "Nombre de colonnes dans le dataset: 78\n"
          ]
        }
      ]
    },
    {
      "cell_type": "code",
      "metadata": {
        "colab": {
          "base_uri": "https://localhost:8080/"
        },
        "id": "modular-necessity",
        "outputId": "bb96fbe8-06a2-4eaa-ef8f-632ee1ad6c9d"
      },
      "source": [
        "# Noms des colonnes et leur type\n",
        "for i in df.columns:\n",
        "  print(i + \", type: \" + str(df.dtypes[i]))"
      ],
      "id": "modular-necessity",
      "execution_count": 8,
      "outputs": [
        {
          "output_type": "stream",
          "name": "stdout",
          "text": [
            "timestamp, type: object\n",
            "FIT 101, type: object\n",
            "LIT 101, type: object\n",
            "MV 101, type: object\n",
            "P1_STATE, type: object\n",
            "P101 Status, type: object\n",
            "P102 Status, type: object\n",
            "AIT 201, type: object\n",
            "AIT 202, type: object\n",
            "AIT 203, type: object\n",
            "FIT 201, type: object\n",
            "LS 201, type: object\n",
            "LS 202, type: object\n",
            "LSL 203, type: object\n",
            "LSLL 203, type: object\n",
            "MV201, type: object\n",
            "P2_STATE, type: object\n",
            "P201 Status, type: object\n",
            "P202 Status, type: object\n",
            "P203 Status, type: object\n",
            "P204 Status, type: object\n",
            "P205 Status, type: object\n",
            "P206 Status, type: object\n",
            "P207 Status, type: object\n",
            "P208 Status, type: object\n",
            "AIT 301, type: object\n",
            "AIT 302, type: object\n",
            "AIT 303, type: object\n",
            "DPIT 301, type: object\n",
            "FIT 301, type: object\n",
            "LIT 301, type: object\n",
            "MV 301, type: object\n",
            "MV 302, type: object\n",
            "MV 303, type: object\n",
            "MV 304, type: object\n",
            "P3_STATE, type: object\n",
            "P301 Status, type: object\n",
            "P302 Status, type: object\n",
            "AIT 401, type: object\n",
            "AIT 402, type: object\n",
            "FIT 401, type: object\n",
            "LIT 401, type: object\n",
            "LS 401, type: object\n",
            "P4_STATE, type: object\n",
            "P401 Status, type: object\n",
            "P402 Status, type: object\n",
            "P403 Status, type: object\n",
            "P404 Status, type: object\n",
            "UV401, type: object\n",
            "AIT 501, type: object\n",
            "AIT 502, type: object\n",
            "AIT 503, type: object\n",
            "AIT 504, type: object\n",
            "FIT 501, type: object\n",
            "FIT 502, type: object\n",
            "FIT 503, type: object\n",
            "FIT 504, type: object\n",
            "MV 501, type: object\n",
            "MV 502, type: object\n",
            "MV 503, type: object\n",
            "MV 504, type: object\n",
            "P5_STATE, type: object\n",
            "P501 Status, type: object\n",
            "P502 Status, type: object\n",
            "PIT 501, type: object\n",
            "PIT 502, type: object\n",
            "PIT 503, type: object\n",
            "FIT 601, type: object\n",
            "LSH 601, type: object\n",
            "LSH 602, type: object\n",
            "LSH 603, type: object\n",
            "LSL 601, type: object\n",
            "LSL 602, type: object\n",
            "LSL 603, type: object\n",
            "P6 STATE, type: object\n",
            "P601 Status, type: object\n",
            "P602 Status, type: object\n",
            "P603 Status, type: object\n"
          ]
        }
      ]
    },
    {
      "cell_type": "markdown",
      "metadata": {
        "id": "interracial-density"
      },
      "source": [
        "Quels sont les attributs catégoriques?\n",
        "\n",
        "Dans le jeu de données original, toutes les colonnes avaient le type 'object'\n",
        "Mais en examinant les differentes valeurs possibles dans chacune des colonnes il nous semble que certaines colonnes sont bien catégoriques mais qu'il en existe qui sont numériques"
      ],
      "id": "interracial-density"
    },
    {
      "cell_type": "code",
      "metadata": {
        "id": "ranging-timber"
      },
      "source": [
        "# Liste de colonnes qui nous semblent être catégoriques\n",
        "cat_list = ['MV 101','P1_STATE','P101 Status','P102 Status','LS 201','LS 202',\\\n",
        "            'LSL 203','LSLL 203','MV201','P2_STATE','P201 Status','P202 Status',\\\n",
        "            'P203 Status','P204 Status','P205 Status','P206 Status','P207 Status',\\\n",
        "            'P208 Status','MV 301','MV 302','MV 303','MV 304','P3_STATE',\\\n",
        "            'P301 Status','P302 Status','LS 401','P4_STATE','P401 Status',\\\n",
        "            'P402 Status','P403 Status','P404 Status','UV401','MV 501','MV 502',\\\n",
        "            'MV 503','MV 504','P5_STATE','P501 Status','P502 Status','LSH 601',\\\n",
        "            'LSH 602','LSH 603','LSL 601','LSL 602','LSL 603','P6 STATE',\\\n",
        "            'P601 Status','P602 Status','P603 Status']\n",
        "\n",
        "# Liste de colonnes numériques\n",
        "num_list = list(set(list(df.columns)) - set(cat_list))\n",
        "\n",
        "# On enleve de la liste de colonnes numériques la colonne décrivant le temps\n",
        "num_list.remove('timestamp')"
      ],
      "id": "ranging-timber",
      "execution_count": 9,
      "outputs": []
    },
    {
      "cell_type": "code",
      "metadata": {
        "colab": {
          "base_uri": "https://localhost:8080/"
        },
        "id": "identical-savannah",
        "outputId": "1da89996-9e85-4c23-b5f6-1d36001cee13"
      },
      "source": [
        "# Pour chaque colonne catégorique on affiche les valeurs possibles\n",
        "for i in cat_list:\n",
        "  df[i] = df[i].astype(str).astype(object)\n",
        "  print(\"Valeurs possibles de \"+ str(i) + \": \" + str(df[i].unique()))"
      ],
      "id": "identical-savannah",
      "execution_count": 10,
      "outputs": [
        {
          "output_type": "stream",
          "name": "stdout",
          "text": [
            "Valeurs possibles de MV 101: ['1' '0' '2']\n",
            "Valeurs possibles de P1_STATE: ['3' '2']\n",
            "Valeurs possibles de P101 Status: ['2' '1']\n",
            "Valeurs possibles de P102 Status: ['1']\n",
            "Valeurs possibles de LS 201: ['Inactive']\n",
            "Valeurs possibles de LS 202: ['Inactive']\n",
            "Valeurs possibles de LSL 203: ['Inactive']\n",
            "Valeurs possibles de LSLL 203: ['Inactive']\n",
            "Valeurs possibles de MV201: ['2' '0' '1']\n",
            "Valeurs possibles de P2_STATE: ['2']\n",
            "Valeurs possibles de P201 Status: ['1']\n",
            "Valeurs possibles de P202 Status: ['1']\n",
            "Valeurs possibles de P203 Status: ['2' '1']\n",
            "Valeurs possibles de P204 Status: ['1']\n",
            "Valeurs possibles de P205 Status: ['2' '1']\n",
            "Valeurs possibles de P206 Status: ['1']\n",
            "Valeurs possibles de P207 Status: ['1']\n",
            "Valeurs possibles de P208 Status: ['1']\n",
            "Valeurs possibles de MV 301: ['1' '0' '2']\n",
            "Valeurs possibles de MV 302: ['1' '0' '2']\n",
            "Valeurs possibles de MV 303: ['1' '0' '2']\n",
            "Valeurs possibles de MV 304: ['1' '0' '2']\n",
            "Valeurs possibles de P3_STATE: ['99' '2' '4' '5' '6' '7' '9' '10' '14' '15' '16']\n",
            "Valeurs possibles de P301 Status: ['1' '2']\n",
            "Valeurs possibles de P302 Status: ['1']\n",
            "Valeurs possibles de LS 401: ['Inactive']\n",
            "Valeurs possibles de P4_STATE: ['4']\n",
            "Valeurs possibles de P401 Status: ['2' '1']\n",
            "Valeurs possibles de P402 Status: ['1']\n",
            "Valeurs possibles de P403 Status: ['1']\n",
            "Valeurs possibles de P404 Status: ['1']\n",
            "Valeurs possibles de UV401: ['2' '1']\n",
            "Valeurs possibles de MV 501: ['2' '0' '1']\n",
            "Valeurs possibles de MV 502: ['2']\n",
            "Valeurs possibles de MV 503: ['1']\n",
            "Valeurs possibles de MV 504: ['1']\n",
            "Valeurs possibles de P5_STATE: ['12']\n",
            "Valeurs possibles de P501 Status: ['2']\n",
            "Valeurs possibles de P502 Status: ['1']\n",
            "Valeurs possibles de LSH 601: ['Active' 'Inactive']\n",
            "Valeurs possibles de LSH 602: ['Active']\n",
            "Valeurs possibles de LSH 603: ['Inactive']\n",
            "Valeurs possibles de LSL 601: ['Inactive']\n",
            "Valeurs possibles de LSL 602: ['Inactive']\n",
            "Valeurs possibles de LSL 603: ['Active']\n",
            "Valeurs possibles de P6 STATE: ['2']\n",
            "Valeurs possibles de P601 Status: ['1' '2']\n",
            "Valeurs possibles de P602 Status: ['1']\n",
            "Valeurs possibles de P603 Status: ['1']\n"
          ]
        }
      ]
    },
    {
      "cell_type": "markdown",
      "metadata": {
        "id": "armed-domestic"
      },
      "source": [
        "Parmi les colonnes categoriques, nous allons enlever les colonnes ayant uniquement une valeur"
      ],
      "id": "armed-domestic"
    },
    {
      "cell_type": "code",
      "metadata": {
        "colab": {
          "base_uri": "https://localhost:8080/"
        },
        "id": "green-shift",
        "outputId": "3dc5263b-d774-4801-d4ac-1dcc7212b7bb"
      },
      "source": [
        "const_cat = []\n",
        "for i in cat_list:\n",
        "  l = len(df[i].unique())\n",
        "  if (l == 1):\n",
        "    print(str(i) + \", et la valeur est: \" + str(df[i].unique()))\n",
        "    df = df.drop(i, axis=1)\n",
        "    const_cat.append(i)\n",
        "\n",
        "#On enleve de la liste de colonnes categoriques toutes les colonnes constantes\n",
        "cat_list = list(set(cat_list) - set(const_cat))"
      ],
      "id": "green-shift",
      "execution_count": 11,
      "outputs": [
        {
          "output_type": "stream",
          "name": "stdout",
          "text": [
            "P102 Status, et la valeur est: ['1']\n",
            "LS 201, et la valeur est: ['Inactive']\n",
            "LS 202, et la valeur est: ['Inactive']\n",
            "LSL 203, et la valeur est: ['Inactive']\n",
            "LSLL 203, et la valeur est: ['Inactive']\n",
            "P2_STATE, et la valeur est: ['2']\n",
            "P201 Status, et la valeur est: ['1']\n",
            "P202 Status, et la valeur est: ['1']\n",
            "P204 Status, et la valeur est: ['1']\n",
            "P206 Status, et la valeur est: ['1']\n",
            "P207 Status, et la valeur est: ['1']\n",
            "P208 Status, et la valeur est: ['1']\n",
            "P302 Status, et la valeur est: ['1']\n",
            "LS 401, et la valeur est: ['Inactive']\n",
            "P4_STATE, et la valeur est: ['4']\n",
            "P402 Status, et la valeur est: ['1']\n",
            "P403 Status, et la valeur est: ['1']\n",
            "P404 Status, et la valeur est: ['1']\n",
            "MV 502, et la valeur est: ['2']\n",
            "MV 503, et la valeur est: ['1']\n",
            "MV 504, et la valeur est: ['1']\n",
            "P5_STATE, et la valeur est: ['12']\n",
            "P501 Status, et la valeur est: ['2']\n",
            "P502 Status, et la valeur est: ['1']\n",
            "LSH 602, et la valeur est: ['Active']\n",
            "LSH 603, et la valeur est: ['Inactive']\n",
            "LSL 601, et la valeur est: ['Inactive']\n",
            "LSL 602, et la valeur est: ['Inactive']\n",
            "LSL 603, et la valeur est: ['Active']\n",
            "P6 STATE, et la valeur est: ['2']\n",
            "P602 Status, et la valeur est: ['1']\n",
            "P603 Status, et la valeur est: ['1']\n"
          ]
        }
      ]
    },
    {
      "cell_type": "markdown",
      "metadata": {
        "id": "destroyed-distance"
      },
      "source": [
        "Ensuite pour les colonnes numériques nous aimerions afficher pour chaque colonne, le minmum, le maximum, la moyenne, la mediane et l'ecart-type.\n",
        "Pour faire cela, nous devons d'abord changer le type de la colonne en float"
      ],
      "id": "destroyed-distance"
    },
    {
      "cell_type": "code",
      "metadata": {
        "colab": {
          "base_uri": "https://localhost:8080/"
        },
        "id": "waiting-replication",
        "outputId": "1c037e6e-53f5-44c2-887e-74a34697c05e"
      },
      "source": [
        "for i in num_list:\n",
        "    df[i] = df[i].astype(float)\n",
        "\n",
        "for i in num_list:\n",
        "    print(df[i].describe())"
      ],
      "id": "waiting-replication",
      "execution_count": 12,
      "outputs": [
        {
          "output_type": "stream",
          "name": "stdout",
          "text": [
            "count    14996.0\n",
            "mean         0.0\n",
            "std          0.0\n",
            "min          0.0\n",
            "25%          0.0\n",
            "50%          0.0\n",
            "75%          0.0\n",
            "max          0.0\n",
            "Name: AIT 401, dtype: float64\n",
            "count    14996.000000\n",
            "mean       115.157048\n",
            "std          5.324942\n",
            "min        111.654060\n",
            "25%        114.233528\n",
            "50%        114.714172\n",
            "75%        115.002563\n",
            "max        170.565247\n",
            "Name: PIT 503, dtype: float64\n",
            "count    14996.000000\n",
            "mean         0.740876\n",
            "std          1.634632\n",
            "min          0.000000\n",
            "25%          0.000000\n",
            "50%          0.000000\n",
            "75%          0.000000\n",
            "max          4.403484\n",
            "Name: FIT 101, dtype: float64\n",
            "count    14996.000000\n",
            "mean         0.211526\n",
            "std          0.006174\n",
            "min          0.198059\n",
            "25%          0.209909\n",
            "50%          0.211126\n",
            "75%          0.211895\n",
            "max          0.275694\n",
            "Name: FIT 504, dtype: float64\n",
            "count    14996.000000\n",
            "mean         0.824523\n",
            "std          0.856954\n",
            "min          0.000000\n",
            "25%          0.000512\n",
            "50%          0.000641\n",
            "75%          1.718220\n",
            "max          1.856452\n",
            "Name: FIT 301, dtype: float64\n",
            "count    14996.000000\n",
            "mean        14.032767\n",
            "std         14.145882\n",
            "min          3.332479\n",
            "25%          5.075622\n",
            "50%          9.741092\n",
            "75%         15.790823\n",
            "max         87.951805\n",
            "Name: AIT 402, dtype: float64\n",
            "count    14996.000000\n",
            "mean       886.224353\n",
            "std         63.100612\n",
            "min        756.921300\n",
            "25%        832.132800\n",
            "50%        881.274048\n",
            "75%        940.230069\n",
            "max       1003.550350\n",
            "Name: LIT 401, dtype: float64\n",
            "count    14996.000000\n",
            "mean       160.706744\n",
            "std          5.707502\n",
            "min        158.132523\n",
            "25%        159.526400\n",
            "50%        160.231354\n",
            "75%        160.695969\n",
            "max        219.014359\n",
            "Name: PIT 501, dtype: float64\n",
            "count    14996.000000\n",
            "mean       283.695239\n",
            "std          8.547831\n",
            "min        256.431274\n",
            "25%        277.303284\n",
            "50%        281.656952\n",
            "75%        292.285034\n",
            "max        299.020416\n",
            "Name: AIT 302, dtype: float64\n",
            "count    14996.000000\n",
            "mean         0.869760\n",
            "std          1.121283\n",
            "min          0.000000\n",
            "25%          0.000384\n",
            "50%          0.000513\n",
            "75%          2.320187\n",
            "max          2.342357\n",
            "Name: FIT 201, dtype: float64\n",
            "count    14996.000000\n",
            "mean         6.510505\n",
            "std          5.556797\n",
            "min          0.918753\n",
            "25%          1.206863\n",
            "50%          1.498175\n",
            "75%         12.520008\n",
            "max         12.913759\n",
            "Name: DPIT 301, dtype: float64\n",
            "count    14996.000000\n",
            "mean         9.210022\n",
            "std          0.175812\n",
            "min          8.768457\n",
            "25%          9.090170\n",
            "50%          9.233082\n",
            "75%          9.345873\n",
            "max          9.490067\n",
            "Name: AIT 202, dtype: float64\n",
            "count    14996.000000\n",
            "mean       733.960251\n",
            "std        110.960185\n",
            "min        491.169769\n",
            "25%        640.595184\n",
            "50%        819.636841\n",
            "75%        820.971436\n",
            "max        825.092957\n",
            "Name: LIT 101, dtype: float64\n",
            "count    14996.000000\n",
            "mean         4.673115\n",
            "std         18.183883\n",
            "min          2.450902\n",
            "25%          2.851376\n",
            "50%          2.883414\n",
            "75%          2.963509\n",
            "max        192.371765\n",
            "Name: PIT 502, dtype: float64\n",
            "count    14996.000000\n",
            "mean        25.231166\n",
            "std          1.862370\n",
            "min         23.647783\n",
            "25%         24.609074\n",
            "50%         24.839785\n",
            "75%         25.032044\n",
            "max         47.103306\n",
            "Name: AIT 504, dtype: float64\n",
            "count    14996.000000\n",
            "mean         7.710572\n",
            "std          0.059549\n",
            "min          7.483530\n",
            "25%          7.696296\n",
            "50%          7.733146\n",
            "75%          7.749808\n",
            "max          7.768393\n",
            "Name: AIT 501, dtype: float64\n",
            "count    14996.000000\n",
            "mean         8.718149\n",
            "std          0.102093\n",
            "min          8.339394\n",
            "25%          8.665143\n",
            "50%          8.745566\n",
            "75%          8.790512\n",
            "max          8.895800\n",
            "Name: AIT 301, dtype: float64\n",
            "count    14996.000000\n",
            "mean       142.095907\n",
            "std          3.166724\n",
            "min        134.131500\n",
            "25%        142.710800\n",
            "50%        143.383057\n",
            "75%        143.863235\n",
            "max        153.787048\n",
            "Name: AIT 303, dtype: float64\n",
            "count    14996.000000\n",
            "mean       138.766501\n",
            "std          8.265845\n",
            "min        113.849014\n",
            "25%        131.536789\n",
            "50%        143.713150\n",
            "75%        144.033585\n",
            "max        146.821335\n",
            "Name: AIT 201, dtype: float64\n",
            "count    14996.000000\n",
            "mean      1016.263990\n",
            "std          0.028943\n",
            "min       1016.053590\n",
            "25%       1016.277890\n",
            "50%       1016.277890\n",
            "75%       1016.277890\n",
            "max       1016.438110\n",
            "Name: AIT 503, dtype: float64\n",
            "count    14996.000000\n",
            "mean         0.611743\n",
            "std          0.015349\n",
            "min          0.583043\n",
            "25%          0.608264\n",
            "50%          0.610441\n",
            "75%          0.611465\n",
            "max          0.769324\n",
            "Name: FIT 503, dtype: float64\n",
            "count    14996.000000\n",
            "mean         0.000402\n",
            "std          0.003317\n",
            "min          0.000000\n",
            "25%          0.000256\n",
            "50%          0.000320\n",
            "75%          0.000320\n",
            "max          0.137315\n",
            "Name: FIT 601, dtype: float64\n",
            "count    14996.000000\n",
            "mean       946.637019\n",
            "std         92.168566\n",
            "min        730.702100\n",
            "25%        858.103317\n",
            "50%        981.158700\n",
            "75%       1009.156310\n",
            "max       1112.775630\n",
            "Name: LIT 301, dtype: float64\n",
            "count    14996.000000\n",
            "mean        69.268478\n",
            "std          8.878605\n",
            "min         61.394516\n",
            "25%         65.957440\n",
            "50%         68.982315\n",
            "75%         69.982056\n",
            "max        147.398100\n",
            "Name: AIT 502, dtype: float64\n",
            "count    14996.000000\n",
            "mean         0.794251\n",
            "std          0.040510\n",
            "min          0.462386\n",
            "25%          0.797746\n",
            "50%          0.799411\n",
            "75%          0.801972\n",
            "max          0.818490\n",
            "Name: FIT 401, dtype: float64\n",
            "count    14996.000000\n",
            "mean       247.985162\n",
            "std         11.806186\n",
            "min        198.077423\n",
            "25%        239.887200\n",
            "50%        246.218918\n",
            "75%        257.190460\n",
            "max        272.289154\n",
            "Name: AIT 203, dtype: float64\n",
            "count    14996.000000\n",
            "mean         0.798153\n",
            "std          0.033274\n",
            "min          0.457703\n",
            "25%          0.799539\n",
            "50%          0.801589\n",
            "75%          0.802871\n",
            "max          0.827736\n",
            "Name: FIT 501, dtype: float64\n",
            "count    14996.000000\n",
            "mean         0.340819\n",
            "std          0.041552\n",
            "min          0.001793\n",
            "25%          0.327270\n",
            "50%          0.346868\n",
            "75%          0.365441\n",
            "max          0.515307\n",
            "Name: FIT 502, dtype: float64\n"
          ]
        }
      ]
    },
    {
      "cell_type": "markdown",
      "metadata": {
        "id": "general-romantic"
      },
      "source": [
        "Parmi les colonnes numériques, nous allons enlever les colonnes ayant uniquement une valeur"
      ],
      "id": "general-romantic"
    },
    {
      "cell_type": "code",
      "metadata": {
        "colab": {
          "base_uri": "https://localhost:8080/"
        },
        "id": "animated-bumper",
        "outputId": "ddf4ca57-2e3a-4e05-bcde-fe12e7f8ed8d"
      },
      "source": [
        "const_num = []\n",
        "for i in num_list:\n",
        "  l = len(df[i].unique())\n",
        "  if (l == 1):\n",
        "    print(str(i) + \", et la valeur est: \" + str(df[i].unique()))\n",
        "    df = df.drop(i, axis=1)\n",
        "    const_num.append(i)\n",
        "\n",
        "#On enleve de la liste de colonnes numeriques toutes les colonnes constantes\n",
        "num_list = list(set(num_list) - set(const_num))"
      ],
      "id": "animated-bumper",
      "execution_count": 13,
      "outputs": [
        {
          "output_type": "stream",
          "name": "stdout",
          "text": [
            "AIT 401, et la valeur est: [0.]\n"
          ]
        }
      ]
    },
    {
      "cell_type": "markdown",
      "metadata": {
        "id": "cloudy-document"
      },
      "source": [
        "On vérifie qu'il n'y ait pas de NaN dans les colonnes pour eventuellement les éliminer."
      ],
      "id": "cloudy-document"
    },
    {
      "cell_type": "code",
      "metadata": {
        "colab": {
          "base_uri": "https://localhost:8080/"
        },
        "id": "binary-belarus",
        "outputId": "4ef5ceaa-4f47-44aa-fa70-061826d342be"
      },
      "source": [
        "nan = False\n",
        "cols = list(df.columns)\n",
        "for i in cols:\n",
        "    nan_number = df[i].isna().sum()\n",
        "    if (nan_number > 0):\n",
        "        print(str((nan_number/df.shape[0])*100)+'%')\n",
        "        nan = True\n",
        "        \n",
        "if (nan == False):\n",
        "    print('Il n\\'y a pas de données manquantes')"
      ],
      "id": "binary-belarus",
      "execution_count": 14,
      "outputs": [
        {
          "output_type": "stream",
          "name": "stdout",
          "text": [
            "Il n'y a pas de données manquantes\n"
          ]
        }
      ]
    },
    {
      "cell_type": "code",
      "metadata": {
        "colab": {
          "base_uri": "https://localhost:8080/"
        },
        "id": "peripheral-latest",
        "outputId": "a83659cf-7439-42d7-d87d-465d9477a416"
      },
      "source": [
        "print('Le jeu de données comporte maintenant ' + str(len(df.columns)) + ' colonnes')"
      ],
      "id": "peripheral-latest",
      "execution_count": 15,
      "outputs": [
        {
          "output_type": "stream",
          "name": "stdout",
          "text": [
            "Le jeu de données comporte maintenant 45 colonnes\n"
          ]
        }
      ]
    },
    {
      "cell_type": "markdown",
      "metadata": {
        "id": "greek-petroleum"
      },
      "source": [
        "# Labelisation des données representant les 6 attaques selon pdf\n",
        "\n",
        "On déclare les debuts et fins des differentes attaques\n",
        "A noter que les heures indiqué dans le pdf expliquant le déroulement des attaques sont à GMT +8 de celles du csv"
      ],
      "id": "greek-petroleum"
    },
    {
      "cell_type": "markdown",
      "metadata": {
        "id": "palestinian-selection"
      },
      "source": [
        "On creer les colones qui serviront pour labeliser les attaques\n",
        "Pour l'instant que des 0"
      ],
      "id": "palestinian-selection"
    },
    {
      "cell_type": "code",
      "metadata": {
        "colab": {
          "base_uri": "https://localhost:8080/",
          "height": 241
        },
        "id": "divine-plant",
        "outputId": "fe5df0ef-dff4-463d-9bd5-c073937afed0"
      },
      "source": [
        "df['FIT401_attack'] = pd.Series(np.zeros(len(df)).astype(int))\n",
        "df['LIT301_attack'] = pd.Series(np.zeros(len(df)).astype(int))\n",
        "df['P601_attack'] = pd.Series(np.zeros(len(df)).astype(int))\n",
        "df['MultiPoint_attack'] = pd.Series(np.zeros(len(df)).astype(int))\n",
        "df['MV501_attack'] = pd.Series(np.zeros(len(df)).astype(int))\n",
        "df['P301_attack'] = pd.Series(np.zeros(len(df)).astype(int))\n",
        "\n",
        "df.head()"
      ],
      "id": "divine-plant",
      "execution_count": 16,
      "outputs": [
        {
          "output_type": "execute_result",
          "data": {
            "text/html": [
              "<div>\n",
              "<style scoped>\n",
              "    .dataframe tbody tr th:only-of-type {\n",
              "        vertical-align: middle;\n",
              "    }\n",
              "\n",
              "    .dataframe tbody tr th {\n",
              "        vertical-align: top;\n",
              "    }\n",
              "\n",
              "    .dataframe thead th {\n",
              "        text-align: right;\n",
              "    }\n",
              "</style>\n",
              "<table border=\"1\" class=\"dataframe\">\n",
              "  <thead>\n",
              "    <tr style=\"text-align: right;\">\n",
              "      <th></th>\n",
              "      <th>timestamp</th>\n",
              "      <th>FIT 101</th>\n",
              "      <th>LIT 101</th>\n",
              "      <th>MV 101</th>\n",
              "      <th>P1_STATE</th>\n",
              "      <th>P101 Status</th>\n",
              "      <th>AIT 201</th>\n",
              "      <th>AIT 202</th>\n",
              "      <th>AIT 203</th>\n",
              "      <th>FIT 201</th>\n",
              "      <th>MV201</th>\n",
              "      <th>P203 Status</th>\n",
              "      <th>P205 Status</th>\n",
              "      <th>AIT 301</th>\n",
              "      <th>AIT 302</th>\n",
              "      <th>AIT 303</th>\n",
              "      <th>DPIT 301</th>\n",
              "      <th>FIT 301</th>\n",
              "      <th>LIT 301</th>\n",
              "      <th>MV 301</th>\n",
              "      <th>MV 302</th>\n",
              "      <th>MV 303</th>\n",
              "      <th>MV 304</th>\n",
              "      <th>P3_STATE</th>\n",
              "      <th>P301 Status</th>\n",
              "      <th>AIT 402</th>\n",
              "      <th>FIT 401</th>\n",
              "      <th>LIT 401</th>\n",
              "      <th>P401 Status</th>\n",
              "      <th>UV401</th>\n",
              "      <th>AIT 501</th>\n",
              "      <th>AIT 502</th>\n",
              "      <th>AIT 503</th>\n",
              "      <th>AIT 504</th>\n",
              "      <th>FIT 501</th>\n",
              "      <th>FIT 502</th>\n",
              "      <th>FIT 503</th>\n",
              "      <th>FIT 504</th>\n",
              "      <th>MV 501</th>\n",
              "      <th>PIT 501</th>\n",
              "      <th>PIT 502</th>\n",
              "      <th>PIT 503</th>\n",
              "      <th>FIT 601</th>\n",
              "      <th>LSH 601</th>\n",
              "      <th>P601 Status</th>\n",
              "      <th>FIT401_attack</th>\n",
              "      <th>LIT301_attack</th>\n",
              "      <th>P601_attack</th>\n",
              "      <th>MultiPoint_attack</th>\n",
              "      <th>MV501_attack</th>\n",
              "      <th>P301_attack</th>\n",
              "    </tr>\n",
              "  </thead>\n",
              "  <tbody>\n",
              "    <tr>\n",
              "      <th>0</th>\n",
              "      <td>4:30:00</td>\n",
              "      <td>0.0</td>\n",
              "      <td>729.8658</td>\n",
              "      <td>1</td>\n",
              "      <td>3</td>\n",
              "      <td>2</td>\n",
              "      <td>142.527557</td>\n",
              "      <td>9.293002</td>\n",
              "      <td>198.077423</td>\n",
              "      <td>2.335437</td>\n",
              "      <td>2</td>\n",
              "      <td>2</td>\n",
              "      <td>2</td>\n",
              "      <td>8.522921</td>\n",
              "      <td>256.431274</td>\n",
              "      <td>143.158966</td>\n",
              "      <td>1.190857</td>\n",
              "      <td>0.000512</td>\n",
              "      <td>730.702100</td>\n",
              "      <td>1</td>\n",
              "      <td>1</td>\n",
              "      <td>1</td>\n",
              "      <td>1</td>\n",
              "      <td>99</td>\n",
              "      <td>1</td>\n",
              "      <td>87.951805</td>\n",
              "      <td>0.781740</td>\n",
              "      <td>1000.62805</td>\n",
              "      <td>2</td>\n",
              "      <td>2</td>\n",
              "      <td>7.489618</td>\n",
              "      <td>147.398100</td>\n",
              "      <td>1016.27789</td>\n",
              "      <td>46.065113</td>\n",
              "      <td>0.781594</td>\n",
              "      <td>0.310362</td>\n",
              "      <td>0.623628</td>\n",
              "      <td>0.213432</td>\n",
              "      <td>2</td>\n",
              "      <td>167.601257</td>\n",
              "      <td>2.963509</td>\n",
              "      <td>119.921173</td>\n",
              "      <td>0.00032</td>\n",
              "      <td>Active</td>\n",
              "      <td>1</td>\n",
              "      <td>0</td>\n",
              "      <td>0</td>\n",
              "      <td>0</td>\n",
              "      <td>0</td>\n",
              "      <td>0</td>\n",
              "      <td>0</td>\n",
              "    </tr>\n",
              "    <tr>\n",
              "      <th>1</th>\n",
              "      <td>4:30:01</td>\n",
              "      <td>0.0</td>\n",
              "      <td>729.4340</td>\n",
              "      <td>1</td>\n",
              "      <td>3</td>\n",
              "      <td>2</td>\n",
              "      <td>142.527557</td>\n",
              "      <td>9.293002</td>\n",
              "      <td>198.385025</td>\n",
              "      <td>2.335437</td>\n",
              "      <td>2</td>\n",
              "      <td>2</td>\n",
              "      <td>2</td>\n",
              "      <td>8.522921</td>\n",
              "      <td>256.431274</td>\n",
              "      <td>143.158966</td>\n",
              "      <td>1.190857</td>\n",
              "      <td>0.000512</td>\n",
              "      <td>730.902344</td>\n",
              "      <td>1</td>\n",
              "      <td>1</td>\n",
              "      <td>1</td>\n",
              "      <td>1</td>\n",
              "      <td>99</td>\n",
              "      <td>1</td>\n",
              "      <td>87.823630</td>\n",
              "      <td>0.782380</td>\n",
              "      <td>1000.55115</td>\n",
              "      <td>2</td>\n",
              "      <td>2</td>\n",
              "      <td>7.489618</td>\n",
              "      <td>147.398100</td>\n",
              "      <td>1016.27789</td>\n",
              "      <td>45.757500</td>\n",
              "      <td>0.782235</td>\n",
              "      <td>0.315102</td>\n",
              "      <td>0.623628</td>\n",
              "      <td>0.212984</td>\n",
              "      <td>2</td>\n",
              "      <td>167.601257</td>\n",
              "      <td>2.963509</td>\n",
              "      <td>119.921173</td>\n",
              "      <td>0.00032</td>\n",
              "      <td>Active</td>\n",
              "      <td>1</td>\n",
              "      <td>0</td>\n",
              "      <td>0</td>\n",
              "      <td>0</td>\n",
              "      <td>0</td>\n",
              "      <td>0</td>\n",
              "      <td>0</td>\n",
              "    </tr>\n",
              "    <tr>\n",
              "      <th>2</th>\n",
              "      <td>4:30:02</td>\n",
              "      <td>0.0</td>\n",
              "      <td>729.1200</td>\n",
              "      <td>1</td>\n",
              "      <td>3</td>\n",
              "      <td>2</td>\n",
              "      <td>142.527557</td>\n",
              "      <td>9.293002</td>\n",
              "      <td>198.436300</td>\n",
              "      <td>2.335437</td>\n",
              "      <td>2</td>\n",
              "      <td>2</td>\n",
              "      <td>2</td>\n",
              "      <td>8.522921</td>\n",
              "      <td>256.431274</td>\n",
              "      <td>143.158966</td>\n",
              "      <td>1.190857</td>\n",
              "      <td>0.000512</td>\n",
              "      <td>732.344300</td>\n",
              "      <td>1</td>\n",
              "      <td>1</td>\n",
              "      <td>1</td>\n",
              "      <td>1</td>\n",
              "      <td>99</td>\n",
              "      <td>1</td>\n",
              "      <td>87.798004</td>\n",
              "      <td>0.783021</td>\n",
              "      <td>1000.28200</td>\n",
              "      <td>2</td>\n",
              "      <td>2</td>\n",
              "      <td>7.489618</td>\n",
              "      <td>147.398100</td>\n",
              "      <td>1016.27789</td>\n",
              "      <td>45.603690</td>\n",
              "      <td>0.782235</td>\n",
              "      <td>0.317023</td>\n",
              "      <td>0.623628</td>\n",
              "      <td>0.212984</td>\n",
              "      <td>2</td>\n",
              "      <td>167.601257</td>\n",
              "      <td>2.963509</td>\n",
              "      <td>119.921173</td>\n",
              "      <td>0.00032</td>\n",
              "      <td>Active</td>\n",
              "      <td>1</td>\n",
              "      <td>0</td>\n",
              "      <td>0</td>\n",
              "      <td>0</td>\n",
              "      <td>0</td>\n",
              "      <td>0</td>\n",
              "      <td>0</td>\n",
              "    </tr>\n",
              "    <tr>\n",
              "      <th>3</th>\n",
              "      <td>4:30:03</td>\n",
              "      <td>0.0</td>\n",
              "      <td>728.6882</td>\n",
              "      <td>1</td>\n",
              "      <td>3</td>\n",
              "      <td>2</td>\n",
              "      <td>142.527557</td>\n",
              "      <td>9.289157</td>\n",
              "      <td>198.667000</td>\n",
              "      <td>2.335437</td>\n",
              "      <td>2</td>\n",
              "      <td>2</td>\n",
              "      <td>2</td>\n",
              "      <td>8.522921</td>\n",
              "      <td>256.431274</td>\n",
              "      <td>143.158966</td>\n",
              "      <td>1.190857</td>\n",
              "      <td>0.000512</td>\n",
              "      <td>732.704800</td>\n",
              "      <td>1</td>\n",
              "      <td>1</td>\n",
              "      <td>1</td>\n",
              "      <td>1</td>\n",
              "      <td>99</td>\n",
              "      <td>1</td>\n",
              "      <td>87.695465</td>\n",
              "      <td>0.783021</td>\n",
              "      <td>1000.74341</td>\n",
              "      <td>2</td>\n",
              "      <td>2</td>\n",
              "      <td>7.489618</td>\n",
              "      <td>147.167389</td>\n",
              "      <td>1016.27789</td>\n",
              "      <td>45.603690</td>\n",
              "      <td>0.783133</td>\n",
              "      <td>0.308057</td>\n",
              "      <td>0.623628</td>\n",
              "      <td>0.212792</td>\n",
              "      <td>2</td>\n",
              "      <td>167.601257</td>\n",
              "      <td>2.963509</td>\n",
              "      <td>119.921173</td>\n",
              "      <td>0.00032</td>\n",
              "      <td>Active</td>\n",
              "      <td>1</td>\n",
              "      <td>0</td>\n",
              "      <td>0</td>\n",
              "      <td>0</td>\n",
              "      <td>0</td>\n",
              "      <td>0</td>\n",
              "      <td>0</td>\n",
              "    </tr>\n",
              "    <tr>\n",
              "      <th>4</th>\n",
              "      <td>4:30:04</td>\n",
              "      <td>0.0</td>\n",
              "      <td>727.7069</td>\n",
              "      <td>1</td>\n",
              "      <td>3</td>\n",
              "      <td>2</td>\n",
              "      <td>142.527557</td>\n",
              "      <td>9.289157</td>\n",
              "      <td>198.897720</td>\n",
              "      <td>2.335437</td>\n",
              "      <td>2</td>\n",
              "      <td>2</td>\n",
              "      <td>2</td>\n",
              "      <td>8.522921</td>\n",
              "      <td>256.431274</td>\n",
              "      <td>143.158966</td>\n",
              "      <td>1.190857</td>\n",
              "      <td>0.000512</td>\n",
              "      <td>732.744800</td>\n",
              "      <td>1</td>\n",
              "      <td>1</td>\n",
              "      <td>1</td>\n",
              "      <td>1</td>\n",
              "      <td>99</td>\n",
              "      <td>1</td>\n",
              "      <td>87.618560</td>\n",
              "      <td>0.781228</td>\n",
              "      <td>1000.39734</td>\n",
              "      <td>2</td>\n",
              "      <td>2</td>\n",
              "      <td>7.489618</td>\n",
              "      <td>147.090485</td>\n",
              "      <td>1016.27789</td>\n",
              "      <td>45.219173</td>\n",
              "      <td>0.783773</td>\n",
              "      <td>0.303446</td>\n",
              "      <td>0.623628</td>\n",
              "      <td>0.214009</td>\n",
              "      <td>2</td>\n",
              "      <td>167.601257</td>\n",
              "      <td>2.963509</td>\n",
              "      <td>119.921173</td>\n",
              "      <td>0.00032</td>\n",
              "      <td>Active</td>\n",
              "      <td>1</td>\n",
              "      <td>0</td>\n",
              "      <td>0</td>\n",
              "      <td>0</td>\n",
              "      <td>0</td>\n",
              "      <td>0</td>\n",
              "      <td>0</td>\n",
              "    </tr>\n",
              "  </tbody>\n",
              "</table>\n",
              "</div>"
            ],
            "text/plain": [
              "0 timestamp  FIT 101   LIT 101  ... MultiPoint_attack MV501_attack P301_attack\n",
              "0   4:30:00      0.0  729.8658  ...                 0            0           0\n",
              "1   4:30:01      0.0  729.4340  ...                 0            0           0\n",
              "2   4:30:02      0.0  729.1200  ...                 0            0           0\n",
              "3   4:30:03      0.0  728.6882  ...                 0            0           0\n",
              "4   4:30:04      0.0  727.7069  ...                 0            0           0\n",
              "\n",
              "[5 rows x 51 columns]"
            ]
          },
          "metadata": {},
          "execution_count": 16
        }
      ]
    },
    {
      "cell_type": "code",
      "metadata": {
        "id": "happy-citation"
      },
      "source": [
        "deb_FIT401 = timedelta(hours=7, minutes=8, seconds=46)\n",
        "fin_FIT401 = timedelta(hours=7, minutes=10, seconds=31)\n",
        "\n",
        "deb_LIT301 = timedelta(hours=7, minutes=15, seconds=0)\n",
        "fin_LIT301 = timedelta(hours=7, minutes=19, seconds=32)\n",
        "\n",
        "deb_P601 = timedelta(hours=7, minutes=26, seconds=57)\n",
        "fin_P601 = timedelta(hours=7, minutes=30, seconds=48)\n",
        "\n",
        "deb_MultiPoint = timedelta(hours=7, minutes=38, seconds=50)\n",
        "fin_MultiPoint = timedelta(hours=7, minutes=46, seconds=20)\n",
        "\n",
        "deb_MV501 = timedelta(hours=7, minutes=54, seconds=0)\n",
        "fin_MV501 = timedelta(hours=7, minutes=56, seconds=0)\n",
        "\n",
        "deb_P301 = timedelta(hours=8, minutes=2, seconds=56)\n",
        "fin_P301 = timedelta(hours=8, minutes=16, seconds=18)"
      ],
      "id": "happy-citation",
      "execution_count": 17,
      "outputs": []
    },
    {
      "cell_type": "markdown",
      "metadata": {
        "id": "stopped-wednesday"
      },
      "source": [
        "Parcourt du dataframe pour labeliser les données selon les attaques"
      ],
      "id": "stopped-wednesday"
    },
    {
      "cell_type": "code",
      "metadata": {
        "colab": {
          "base_uri": "https://localhost:8080/"
        },
        "id": "useful-guide",
        "outputId": "ad613e6d-29a4-43f5-b9ee-b2e588549b5c"
      },
      "source": [
        "i = 0\n",
        "for date in df['timestamp']:\n",
        "    if(date > deb_FIT401 and date < fin_FIT401):\n",
        "        df['FIT401_attack'][i] = 1\n",
        "    if(date > deb_LIT301 and date < fin_LIT301):\n",
        "        df['LIT301_attack'][i] = 1\n",
        "    if(date > deb_P601 and date < fin_P601):\n",
        "        df['P601_attack'][i] = 1\n",
        "    if(date > deb_MultiPoint and date < fin_MultiPoint):\n",
        "        df['MultiPoint_attack'][i] = 1\n",
        "    if(date > deb_MV501 and date < fin_MV501):\n",
        "        df['MV501_attack'][i] = 1\n",
        "    if(date > deb_P301 and date < fin_P301):\n",
        "        df['P301_attack'][i] = 1\n",
        "\n",
        "    i += 1"
      ],
      "id": "useful-guide",
      "execution_count": 18,
      "outputs": [
        {
          "output_type": "stream",
          "name": "stderr",
          "text": [
            "/usr/local/lib/python3.7/dist-packages/ipykernel_launcher.py:4: SettingWithCopyWarning: \n",
            "A value is trying to be set on a copy of a slice from a DataFrame\n",
            "\n",
            "See the caveats in the documentation: https://pandas.pydata.org/pandas-docs/stable/user_guide/indexing.html#returning-a-view-versus-a-copy\n",
            "  after removing the cwd from sys.path.\n",
            "/usr/local/lib/python3.7/dist-packages/ipykernel_launcher.py:6: SettingWithCopyWarning: \n",
            "A value is trying to be set on a copy of a slice from a DataFrame\n",
            "\n",
            "See the caveats in the documentation: https://pandas.pydata.org/pandas-docs/stable/user_guide/indexing.html#returning-a-view-versus-a-copy\n",
            "  \n",
            "/usr/local/lib/python3.7/dist-packages/ipykernel_launcher.py:8: SettingWithCopyWarning: \n",
            "A value is trying to be set on a copy of a slice from a DataFrame\n",
            "\n",
            "See the caveats in the documentation: https://pandas.pydata.org/pandas-docs/stable/user_guide/indexing.html#returning-a-view-versus-a-copy\n",
            "  \n",
            "/usr/local/lib/python3.7/dist-packages/ipykernel_launcher.py:10: SettingWithCopyWarning: \n",
            "A value is trying to be set on a copy of a slice from a DataFrame\n",
            "\n",
            "See the caveats in the documentation: https://pandas.pydata.org/pandas-docs/stable/user_guide/indexing.html#returning-a-view-versus-a-copy\n",
            "  # Remove the CWD from sys.path while we load stuff.\n",
            "/usr/local/lib/python3.7/dist-packages/ipykernel_launcher.py:12: SettingWithCopyWarning: \n",
            "A value is trying to be set on a copy of a slice from a DataFrame\n",
            "\n",
            "See the caveats in the documentation: https://pandas.pydata.org/pandas-docs/stable/user_guide/indexing.html#returning-a-view-versus-a-copy\n",
            "  if sys.path[0] == '':\n",
            "/usr/local/lib/python3.7/dist-packages/ipykernel_launcher.py:14: SettingWithCopyWarning: \n",
            "A value is trying to be set on a copy of a slice from a DataFrame\n",
            "\n",
            "See the caveats in the documentation: https://pandas.pydata.org/pandas-docs/stable/user_guide/indexing.html#returning-a-view-versus-a-copy\n",
            "  \n"
          ]
        }
      ]
    },
    {
      "cell_type": "code",
      "metadata": {
        "colab": {
          "base_uri": "https://localhost:8080/"
        },
        "id": "tracked-digit",
        "outputId": "f1520200-dbaf-47f7-c07e-d2e45b8ffea4"
      },
      "source": [
        "print(\"Nombre de données avec attaque sur FIT401 : \" + str(len(df.loc[df['FIT401_attack'] == 1])))\n",
        "print(\"Nombre de données avec attaque sur LIT301 : \" + str(len(df.loc[df['LIT301_attack'] == 1])))\n",
        "print(\"Nombre de données avec attaque sur P601 : \" + str(len(df.loc[df['P601_attack'] == 1])))\n",
        "print(\"Nombre de données avec attaque multi point : \" + str(len(df.loc[df['MultiPoint_attack'] == 1])))\n",
        "print(\"Nombre de données avec attaque sur MV501 : \" + str(len(df.loc[df['MV501_attack'] == 1])))\n",
        "print(\"Nombre de données avec attaque sur P301 : \" + str(len(df.loc[df['P301_attack'] == 1])))"
      ],
      "id": "tracked-digit",
      "execution_count": 19,
      "outputs": [
        {
          "output_type": "stream",
          "name": "stdout",
          "text": [
            "Nombre de données avec attaque sur FIT401 : 104\n",
            "Nombre de données avec attaque sur LIT301 : 271\n",
            "Nombre de données avec attaque sur P601 : 230\n",
            "Nombre de données avec attaque multi point : 449\n",
            "Nombre de données avec attaque sur MV501 : 119\n",
            "Nombre de données avec attaque sur P301 : 801\n"
          ]
        }
      ]
    },
    {
      "cell_type": "markdown",
      "metadata": {
        "id": "second-toolbox"
      },
      "source": [
        "# Plot des graphiques avec affichages des timezones d'attaques (données décalées)\n",
        "\n",
        "Nous créons un dossier ou les graphiques décalés seront stockés"
      ],
      "id": "second-toolbox"
    },
    {
      "cell_type": "code",
      "metadata": {
        "id": "advised-saturday"
      },
      "source": [
        "if not os.path.exists('./bad_timezones'):\n",
        "  os.mkdir('./bad_timezones')\n",
        "\n",
        "folderImg = './bad_timezones'"
      ],
      "id": "advised-saturday",
      "execution_count": 20,
      "outputs": []
    },
    {
      "cell_type": "code",
      "metadata": {
        "colab": {
          "base_uri": "https://localhost:8080/",
          "height": 1000
        },
        "id": "periodic-bundle",
        "outputId": "619bca20-635f-4b1d-b6fe-d7d1f2522d6e"
      },
      "source": [
        "import matplotlib.dates as mdates\n",
        "_deb_FIT401 = deb_FIT401\n",
        "_fin_FIT401 = fin_FIT401\n",
        "\n",
        "_deb_LIT301 = deb_LIT301\n",
        "_fin_LIT301 = fin_LIT301\n",
        "\n",
        "_deb_P601 = deb_P601\n",
        "_fin_P601 = fin_P601\n",
        "\n",
        "_deb_MultiPoint = deb_MultiPoint\n",
        "_fin_MultiPoint = fin_MultiPoint\n",
        "\n",
        "_deb_MV501 = deb_MV501\n",
        "_fin_MV501 = fin_MV501\n",
        "\n",
        "_deb_P301 = deb_P301\n",
        "_fin_P301 = fin_P301\n",
        "\n",
        "# specify a date to use for the times\n",
        "zero = pd.datetime(1,1,1)\n",
        "time = [zero + t for t in df['timestamp']]\n",
        "\n",
        "\n",
        "_deb_FIT401 += zero\n",
        "_fin_FIT401 += zero\n",
        "\n",
        "_deb_LIT301 += zero\n",
        "_fin_LIT301 += zero\n",
        "\n",
        "_deb_P601 += zero\n",
        "_fin_P601 += zero\n",
        "\n",
        "_deb_MultiPoint += zero\n",
        "_fin_MultiPoint += zero\n",
        "\n",
        "_deb_MV501 += zero\n",
        "_fin_MV501 += zero\n",
        "\n",
        "_deb_P301 += zero\n",
        "_fin_P301 += zero\n",
        "\n",
        "# convert datetimes to numbers\n",
        "zero = mdates.date2num(zero)\n",
        "time = [t-zero for t in mdates.date2num(time)]\n",
        "_deb_FIT401 = mdates.date2num(_deb_FIT401) - zero\n",
        "_fin_FIT401 = mdates.date2num(_fin_FIT401) - zero\n",
        "\n",
        "_deb_LIT301 = mdates.date2num(_deb_LIT301) - zero\n",
        "_fin_LIT301 = mdates.date2num(_fin_LIT301) - zero\n",
        "\n",
        "_deb_P601 = mdates.date2num(_deb_P601) - zero\n",
        "_fin_P601 = mdates.date2num(_fin_P601) - zero\n",
        "\n",
        "_deb_MultiPoint = mdates.date2num(_deb_MultiPoint) - zero\n",
        "_fin_MultiPoint = mdates.date2num(_fin_MultiPoint) - zero\n",
        "\n",
        "_deb_MV501 = mdates.date2num(_deb_MV501) - zero\n",
        "_fin_MV501 = mdates.date2num(_fin_MV501) - zero\n",
        "\n",
        "_deb_P301 = mdates.date2num(_deb_P301) - zero\n",
        "_fin_P301 = mdates.date2num(_fin_P301) - zero\n",
        "\n",
        "print(len(num_list))\n",
        "#add data to plots\n",
        "for i in range(0,len(num_list)):\n",
        "    fig, axs = plt.subplots()\n",
        "    axs.title.set_text(num_list[i])\n",
        "    axs.plot_date(time, df[num_list[i]],'b-')\n",
        "    axs.axvspan(_deb_FIT401,_fin_FIT401, facecolor='pink',alpha=0.5)# FIT401 atk\n",
        "    axs.axvspan(_deb_LIT301,_fin_LIT301, facecolor='pink',alpha=0.5)# LIT301_atk\n",
        "    axs.axvspan(_deb_P601,_fin_P601, facecolor='pink',alpha=0.5)# P601_atk\n",
        "    axs.axvspan(_deb_MultiPoint,_fin_MultiPoint, facecolor='pink',alpha=0.5)# Multipoint_atk\n",
        "    axs.axvspan(_deb_MV501,_fin_MV501, facecolor='pink',alpha=0.5)# MV501_atk\n",
        "    axs.axvspan(_deb_P301,_fin_P301, facecolor='pink',alpha=0.5)# P301_atk\n",
        "    plt.xticks(rotation=-35, ha='left', rotation_mode='anchor')\n",
        "    plt.savefig('./bad_timezones/' + num_list[i] + '.jpg', dpi=150, bbox_inches='tight')\n",
        "    plt.close(fig)"
      ],
      "id": "periodic-bundle",
      "execution_count": 21,
      "outputs": [
        {
          "output_type": "stream",
          "name": "stdout",
          "text": [
            "27\n"
          ]
        },
        {
          "output_type": "stream",
          "name": "stderr",
          "text": [
            "/usr/local/lib/python3.7/dist-packages/ipykernel_launcher.py:21: FutureWarning: The pandas.datetime class is deprecated and will be removed from pandas in a future version. Import from datetime module instead.\n"
          ]
        },
        {
          "output_type": "error",
          "ename": "ValueError",
          "evalue": "ignored",
          "traceback": [
            "\u001b[0;31m---------------------------------------------------------------------------\u001b[0m",
            "\u001b[0;31mValueError\u001b[0m                                Traceback (most recent call last)",
            "\u001b[0;32m<ipython-input-21-7ea46208fb5a>\u001b[0m in \u001b[0;36m<module>\u001b[0;34m()\u001b[0m\n\u001b[1;32m     74\u001b[0m     \u001b[0maxs\u001b[0m\u001b[0;34m.\u001b[0m\u001b[0maxvspan\u001b[0m\u001b[0;34m(\u001b[0m\u001b[0m_deb_MV501\u001b[0m\u001b[0;34m,\u001b[0m\u001b[0m_fin_MV501\u001b[0m\u001b[0;34m,\u001b[0m \u001b[0mfacecolor\u001b[0m\u001b[0;34m=\u001b[0m\u001b[0;34m'pink'\u001b[0m\u001b[0;34m,\u001b[0m\u001b[0malpha\u001b[0m\u001b[0;34m=\u001b[0m\u001b[0;36m0.5\u001b[0m\u001b[0;34m)\u001b[0m\u001b[0;31m# MV501_atk\u001b[0m\u001b[0;34m\u001b[0m\u001b[0;34m\u001b[0m\u001b[0m\n\u001b[1;32m     75\u001b[0m     \u001b[0maxs\u001b[0m\u001b[0;34m.\u001b[0m\u001b[0maxvspan\u001b[0m\u001b[0;34m(\u001b[0m\u001b[0m_deb_P301\u001b[0m\u001b[0;34m,\u001b[0m\u001b[0m_fin_P301\u001b[0m\u001b[0;34m,\u001b[0m \u001b[0mfacecolor\u001b[0m\u001b[0;34m=\u001b[0m\u001b[0;34m'pink'\u001b[0m\u001b[0;34m,\u001b[0m\u001b[0malpha\u001b[0m\u001b[0;34m=\u001b[0m\u001b[0;36m0.5\u001b[0m\u001b[0;34m)\u001b[0m\u001b[0;31m# P301_atk\u001b[0m\u001b[0;34m\u001b[0m\u001b[0;34m\u001b[0m\u001b[0m\n\u001b[0;32m---> 76\u001b[0;31m     \u001b[0mplt\u001b[0m\u001b[0;34m.\u001b[0m\u001b[0mxticks\u001b[0m\u001b[0;34m(\u001b[0m\u001b[0mrotation\u001b[0m\u001b[0;34m=\u001b[0m\u001b[0;34m-\u001b[0m\u001b[0;36m35\u001b[0m\u001b[0;34m,\u001b[0m \u001b[0mha\u001b[0m\u001b[0;34m=\u001b[0m\u001b[0;34m'left'\u001b[0m\u001b[0;34m,\u001b[0m \u001b[0mrotation_mode\u001b[0m\u001b[0;34m=\u001b[0m\u001b[0;34m'anchor'\u001b[0m\u001b[0;34m)\u001b[0m\u001b[0;34m\u001b[0m\u001b[0;34m\u001b[0m\u001b[0m\n\u001b[0m\u001b[1;32m     77\u001b[0m     \u001b[0mplt\u001b[0m\u001b[0;34m.\u001b[0m\u001b[0msavefig\u001b[0m\u001b[0;34m(\u001b[0m\u001b[0;34m'./bad_timezones/'\u001b[0m \u001b[0;34m+\u001b[0m \u001b[0mnum_list\u001b[0m\u001b[0;34m[\u001b[0m\u001b[0mi\u001b[0m\u001b[0;34m]\u001b[0m \u001b[0;34m+\u001b[0m \u001b[0;34m'.jpg'\u001b[0m\u001b[0;34m,\u001b[0m \u001b[0mdpi\u001b[0m\u001b[0;34m=\u001b[0m\u001b[0;36m150\u001b[0m\u001b[0;34m,\u001b[0m \u001b[0mbbox_inches\u001b[0m\u001b[0;34m=\u001b[0m\u001b[0;34m'tight'\u001b[0m\u001b[0;34m)\u001b[0m\u001b[0;34m\u001b[0m\u001b[0;34m\u001b[0m\u001b[0m\n\u001b[1;32m     78\u001b[0m     \u001b[0mplt\u001b[0m\u001b[0;34m.\u001b[0m\u001b[0mclose\u001b[0m\u001b[0;34m(\u001b[0m\u001b[0mfig\u001b[0m\u001b[0;34m)\u001b[0m\u001b[0;34m\u001b[0m\u001b[0;34m\u001b[0m\u001b[0m\n",
            "\u001b[0;32m/usr/local/lib/python3.7/dist-packages/matplotlib/pyplot.py\u001b[0m in \u001b[0;36mxticks\u001b[0;34m(ticks, labels, **kwargs)\u001b[0m\n\u001b[1;32m   1478\u001b[0m \u001b[0;34m\u001b[0m\u001b[0m\n\u001b[1;32m   1479\u001b[0m     \u001b[0;32mif\u001b[0m \u001b[0mticks\u001b[0m \u001b[0;32mis\u001b[0m \u001b[0;32mNone\u001b[0m \u001b[0;32mand\u001b[0m \u001b[0mlabels\u001b[0m \u001b[0;32mis\u001b[0m \u001b[0;32mNone\u001b[0m\u001b[0;34m:\u001b[0m\u001b[0;34m\u001b[0m\u001b[0;34m\u001b[0m\u001b[0m\n\u001b[0;32m-> 1480\u001b[0;31m         \u001b[0mlocs\u001b[0m \u001b[0;34m=\u001b[0m \u001b[0max\u001b[0m\u001b[0;34m.\u001b[0m\u001b[0mget_xticks\u001b[0m\u001b[0;34m(\u001b[0m\u001b[0;34m)\u001b[0m\u001b[0;34m\u001b[0m\u001b[0;34m\u001b[0m\u001b[0m\n\u001b[0m\u001b[1;32m   1481\u001b[0m         \u001b[0mlabels\u001b[0m \u001b[0;34m=\u001b[0m \u001b[0max\u001b[0m\u001b[0;34m.\u001b[0m\u001b[0mget_xticklabels\u001b[0m\u001b[0;34m(\u001b[0m\u001b[0;34m)\u001b[0m\u001b[0;34m\u001b[0m\u001b[0;34m\u001b[0m\u001b[0m\n\u001b[1;32m   1482\u001b[0m     \u001b[0;32melif\u001b[0m \u001b[0mlabels\u001b[0m \u001b[0;32mis\u001b[0m \u001b[0;32mNone\u001b[0m\u001b[0;34m:\u001b[0m\u001b[0;34m\u001b[0m\u001b[0;34m\u001b[0m\u001b[0m\n",
            "\u001b[0;32m/usr/local/lib/python3.7/dist-packages/matplotlib/cbook/deprecation.py\u001b[0m in \u001b[0;36mwrapper\u001b[0;34m(*args, **kwargs)\u001b[0m\n\u001b[1;32m    398\u001b[0m                 \u001b[0;34m\"parameter will become keyword-only %(removal)s.\"\u001b[0m\u001b[0;34m,\u001b[0m\u001b[0;34m\u001b[0m\u001b[0;34m\u001b[0m\u001b[0m\n\u001b[1;32m    399\u001b[0m                 name=name, obj_type=f\"parameter of {func.__name__}()\")\n\u001b[0;32m--> 400\u001b[0;31m         \u001b[0;32mreturn\u001b[0m \u001b[0mfunc\u001b[0m\u001b[0;34m(\u001b[0m\u001b[0;34m*\u001b[0m\u001b[0margs\u001b[0m\u001b[0;34m,\u001b[0m \u001b[0;34m**\u001b[0m\u001b[0mkwargs\u001b[0m\u001b[0;34m)\u001b[0m\u001b[0;34m\u001b[0m\u001b[0;34m\u001b[0m\u001b[0m\n\u001b[0m\u001b[1;32m    401\u001b[0m \u001b[0;34m\u001b[0m\u001b[0m\n\u001b[1;32m    402\u001b[0m     \u001b[0;32mreturn\u001b[0m \u001b[0mwrapper\u001b[0m\u001b[0;34m\u001b[0m\u001b[0;34m\u001b[0m\u001b[0m\n",
            "\u001b[0;32m/usr/local/lib/python3.7/dist-packages/matplotlib/axes/_base.py\u001b[0m in \u001b[0;36mget_xticks\u001b[0;34m(self, minor)\u001b[0m\n\u001b[1;32m   3291\u001b[0m     \u001b[0;32mdef\u001b[0m \u001b[0mget_xticks\u001b[0m\u001b[0;34m(\u001b[0m\u001b[0mself\u001b[0m\u001b[0;34m,\u001b[0m \u001b[0mminor\u001b[0m\u001b[0;34m=\u001b[0m\u001b[0;32mFalse\u001b[0m\u001b[0;34m)\u001b[0m\u001b[0;34m:\u001b[0m\u001b[0;34m\u001b[0m\u001b[0;34m\u001b[0m\u001b[0m\n\u001b[1;32m   3292\u001b[0m         \u001b[0;34m\"\"\"Return the x ticks as a list of locations\"\"\"\u001b[0m\u001b[0;34m\u001b[0m\u001b[0;34m\u001b[0m\u001b[0m\n\u001b[0;32m-> 3293\u001b[0;31m         \u001b[0;32mreturn\u001b[0m \u001b[0mself\u001b[0m\u001b[0;34m.\u001b[0m\u001b[0mxaxis\u001b[0m\u001b[0;34m.\u001b[0m\u001b[0mget_ticklocs\u001b[0m\u001b[0;34m(\u001b[0m\u001b[0mminor\u001b[0m\u001b[0;34m=\u001b[0m\u001b[0mminor\u001b[0m\u001b[0;34m)\u001b[0m\u001b[0;34m\u001b[0m\u001b[0;34m\u001b[0m\u001b[0m\n\u001b[0m\u001b[1;32m   3294\u001b[0m \u001b[0;34m\u001b[0m\u001b[0m\n\u001b[1;32m   3295\u001b[0m     \u001b[0;34m@\u001b[0m\u001b[0mcbook\u001b[0m\u001b[0;34m.\u001b[0m\u001b[0m_make_keyword_only\u001b[0m\u001b[0;34m(\u001b[0m\u001b[0;34m\"3.2\"\u001b[0m\u001b[0;34m,\u001b[0m \u001b[0;34m\"minor\"\u001b[0m\u001b[0;34m)\u001b[0m\u001b[0;34m\u001b[0m\u001b[0;34m\u001b[0m\u001b[0m\n",
            "\u001b[0;32m/usr/local/lib/python3.7/dist-packages/matplotlib/axis.py\u001b[0m in \u001b[0;36mget_ticklocs\u001b[0;34m(self, minor)\u001b[0m\n\u001b[1;32m   1368\u001b[0m     \u001b[0;32mdef\u001b[0m \u001b[0mget_ticklocs\u001b[0m\u001b[0;34m(\u001b[0m\u001b[0mself\u001b[0m\u001b[0;34m,\u001b[0m \u001b[0mminor\u001b[0m\u001b[0;34m=\u001b[0m\u001b[0;32mFalse\u001b[0m\u001b[0;34m)\u001b[0m\u001b[0;34m:\u001b[0m\u001b[0;34m\u001b[0m\u001b[0;34m\u001b[0m\u001b[0m\n\u001b[1;32m   1369\u001b[0m         \u001b[0;34m\"\"\"Get the array of tick locations in data coordinates.\"\"\"\u001b[0m\u001b[0;34m\u001b[0m\u001b[0;34m\u001b[0m\u001b[0m\n\u001b[0;32m-> 1370\u001b[0;31m         \u001b[0;32mreturn\u001b[0m \u001b[0mself\u001b[0m\u001b[0;34m.\u001b[0m\u001b[0mget_minorticklocs\u001b[0m\u001b[0;34m(\u001b[0m\u001b[0;34m)\u001b[0m \u001b[0;32mif\u001b[0m \u001b[0mminor\u001b[0m \u001b[0;32melse\u001b[0m \u001b[0mself\u001b[0m\u001b[0;34m.\u001b[0m\u001b[0mget_majorticklocs\u001b[0m\u001b[0;34m(\u001b[0m\u001b[0;34m)\u001b[0m\u001b[0;34m\u001b[0m\u001b[0;34m\u001b[0m\u001b[0m\n\u001b[0m\u001b[1;32m   1371\u001b[0m \u001b[0;34m\u001b[0m\u001b[0m\n\u001b[1;32m   1372\u001b[0m     \u001b[0;32mdef\u001b[0m \u001b[0mget_ticks_direction\u001b[0m\u001b[0;34m(\u001b[0m\u001b[0mself\u001b[0m\u001b[0;34m,\u001b[0m \u001b[0mminor\u001b[0m\u001b[0;34m=\u001b[0m\u001b[0;32mFalse\u001b[0m\u001b[0;34m)\u001b[0m\u001b[0;34m:\u001b[0m\u001b[0;34m\u001b[0m\u001b[0;34m\u001b[0m\u001b[0m\n",
            "\u001b[0;32m/usr/local/lib/python3.7/dist-packages/matplotlib/axis.py\u001b[0m in \u001b[0;36mget_majorticklocs\u001b[0;34m(self)\u001b[0m\n\u001b[1;32m   1346\u001b[0m     \u001b[0;32mdef\u001b[0m \u001b[0mget_majorticklocs\u001b[0m\u001b[0;34m(\u001b[0m\u001b[0mself\u001b[0m\u001b[0;34m)\u001b[0m\u001b[0;34m:\u001b[0m\u001b[0;34m\u001b[0m\u001b[0;34m\u001b[0m\u001b[0m\n\u001b[1;32m   1347\u001b[0m         \u001b[0;34m\"\"\"Get the array of major tick locations in data coordinates.\"\"\"\u001b[0m\u001b[0;34m\u001b[0m\u001b[0;34m\u001b[0m\u001b[0m\n\u001b[0;32m-> 1348\u001b[0;31m         \u001b[0;32mreturn\u001b[0m \u001b[0mself\u001b[0m\u001b[0;34m.\u001b[0m\u001b[0mmajor\u001b[0m\u001b[0;34m.\u001b[0m\u001b[0mlocator\u001b[0m\u001b[0;34m(\u001b[0m\u001b[0;34m)\u001b[0m\u001b[0;34m\u001b[0m\u001b[0;34m\u001b[0m\u001b[0m\n\u001b[0m\u001b[1;32m   1349\u001b[0m \u001b[0;34m\u001b[0m\u001b[0m\n\u001b[1;32m   1350\u001b[0m     \u001b[0;32mdef\u001b[0m \u001b[0mget_minorticklocs\u001b[0m\u001b[0;34m(\u001b[0m\u001b[0mself\u001b[0m\u001b[0;34m)\u001b[0m\u001b[0;34m:\u001b[0m\u001b[0;34m\u001b[0m\u001b[0;34m\u001b[0m\u001b[0m\n",
            "\u001b[0;32m/usr/local/lib/python3.7/dist-packages/matplotlib/dates.py\u001b[0m in \u001b[0;36m__call__\u001b[0;34m(self)\u001b[0m\n\u001b[1;32m   1336\u001b[0m     \u001b[0;32mdef\u001b[0m \u001b[0m__call__\u001b[0m\u001b[0;34m(\u001b[0m\u001b[0mself\u001b[0m\u001b[0;34m)\u001b[0m\u001b[0;34m:\u001b[0m\u001b[0;34m\u001b[0m\u001b[0;34m\u001b[0m\u001b[0m\n\u001b[1;32m   1337\u001b[0m         \u001b[0;34m'Return the locations of the ticks'\u001b[0m\u001b[0;34m\u001b[0m\u001b[0;34m\u001b[0m\u001b[0m\n\u001b[0;32m-> 1338\u001b[0;31m         \u001b[0mself\u001b[0m\u001b[0;34m.\u001b[0m\u001b[0mrefresh\u001b[0m\u001b[0;34m(\u001b[0m\u001b[0;34m)\u001b[0m\u001b[0;34m\u001b[0m\u001b[0;34m\u001b[0m\u001b[0m\n\u001b[0m\u001b[1;32m   1339\u001b[0m         \u001b[0;32mreturn\u001b[0m \u001b[0mself\u001b[0m\u001b[0;34m.\u001b[0m\u001b[0m_locator\u001b[0m\u001b[0;34m(\u001b[0m\u001b[0;34m)\u001b[0m\u001b[0;34m\u001b[0m\u001b[0;34m\u001b[0m\u001b[0m\n\u001b[1;32m   1340\u001b[0m \u001b[0;34m\u001b[0m\u001b[0m\n",
            "\u001b[0;32m/usr/local/lib/python3.7/dist-packages/matplotlib/dates.py\u001b[0m in \u001b[0;36mrefresh\u001b[0;34m(self)\u001b[0m\n\u001b[1;32m   1362\u001b[0m     \u001b[0;32mdef\u001b[0m \u001b[0mrefresh\u001b[0m\u001b[0;34m(\u001b[0m\u001b[0mself\u001b[0m\u001b[0;34m)\u001b[0m\u001b[0;34m:\u001b[0m\u001b[0;34m\u001b[0m\u001b[0;34m\u001b[0m\u001b[0m\n\u001b[1;32m   1363\u001b[0m         \u001b[0;31m# docstring inherited\u001b[0m\u001b[0;34m\u001b[0m\u001b[0;34m\u001b[0m\u001b[0;34m\u001b[0m\u001b[0m\n\u001b[0;32m-> 1364\u001b[0;31m         \u001b[0mdmin\u001b[0m\u001b[0;34m,\u001b[0m \u001b[0mdmax\u001b[0m \u001b[0;34m=\u001b[0m \u001b[0mself\u001b[0m\u001b[0;34m.\u001b[0m\u001b[0mviewlim_to_dt\u001b[0m\u001b[0;34m(\u001b[0m\u001b[0;34m)\u001b[0m\u001b[0;34m\u001b[0m\u001b[0;34m\u001b[0m\u001b[0m\n\u001b[0m\u001b[1;32m   1365\u001b[0m         \u001b[0mself\u001b[0m\u001b[0;34m.\u001b[0m\u001b[0m_locator\u001b[0m \u001b[0;34m=\u001b[0m \u001b[0mself\u001b[0m\u001b[0;34m.\u001b[0m\u001b[0mget_locator\u001b[0m\u001b[0;34m(\u001b[0m\u001b[0mdmin\u001b[0m\u001b[0;34m,\u001b[0m \u001b[0mdmax\u001b[0m\u001b[0;34m)\u001b[0m\u001b[0;34m\u001b[0m\u001b[0;34m\u001b[0m\u001b[0m\n\u001b[1;32m   1366\u001b[0m \u001b[0;34m\u001b[0m\u001b[0m\n",
            "\u001b[0;32m/usr/local/lib/python3.7/dist-packages/matplotlib/dates.py\u001b[0m in \u001b[0;36mviewlim_to_dt\u001b[0;34m(self)\u001b[0m\n\u001b[1;32m   1096\u001b[0m                              \u001b[0;34m'often happens if you pass a non-datetime '\u001b[0m\u001b[0;34m\u001b[0m\u001b[0;34m\u001b[0m\u001b[0m\n\u001b[1;32m   1097\u001b[0m                              \u001b[0;34m'value to an axis that has datetime units'\u001b[0m\u001b[0;34m\u001b[0m\u001b[0;34m\u001b[0m\u001b[0m\n\u001b[0;32m-> 1098\u001b[0;31m                              .format(vmin))\n\u001b[0m\u001b[1;32m   1099\u001b[0m         \u001b[0;32mreturn\u001b[0m \u001b[0mnum2date\u001b[0m\u001b[0;34m(\u001b[0m\u001b[0mvmin\u001b[0m\u001b[0;34m,\u001b[0m \u001b[0mself\u001b[0m\u001b[0;34m.\u001b[0m\u001b[0mtz\u001b[0m\u001b[0;34m)\u001b[0m\u001b[0;34m,\u001b[0m \u001b[0mnum2date\u001b[0m\u001b[0;34m(\u001b[0m\u001b[0mvmax\u001b[0m\u001b[0;34m,\u001b[0m \u001b[0mself\u001b[0m\u001b[0;34m.\u001b[0m\u001b[0mtz\u001b[0m\u001b[0;34m)\u001b[0m\u001b[0;34m\u001b[0m\u001b[0;34m\u001b[0m\u001b[0m\n\u001b[1;32m   1100\u001b[0m \u001b[0;34m\u001b[0m\u001b[0m\n",
            "\u001b[0;31mValueError\u001b[0m: view limit minimum 0.17882002314814816 is less than 1 and is an invalid Matplotlib date value. This often happens if you pass a non-datetime value to an axis that has datetime units"
          ]
        },
        {
          "output_type": "stream",
          "name": "stdout",
          "text": [
            "Error in callback <function install_repl_displayhook.<locals>.post_execute at 0x7f6f0ca98cb0> (for post_execute):\n"
          ]
        },
        {
          "output_type": "error",
          "ename": "ValueError",
          "evalue": "ignored",
          "traceback": [
            "\u001b[0;31m---------------------------------------------------------------------------\u001b[0m",
            "\u001b[0;31mValueError\u001b[0m                                Traceback (most recent call last)",
            "\u001b[0;32m/usr/local/lib/python3.7/dist-packages/matplotlib/pyplot.py\u001b[0m in \u001b[0;36mpost_execute\u001b[0;34m()\u001b[0m\n\u001b[1;32m    107\u001b[0m             \u001b[0;32mdef\u001b[0m \u001b[0mpost_execute\u001b[0m\u001b[0;34m(\u001b[0m\u001b[0;34m)\u001b[0m\u001b[0;34m:\u001b[0m\u001b[0;34m\u001b[0m\u001b[0;34m\u001b[0m\u001b[0m\n\u001b[1;32m    108\u001b[0m                 \u001b[0;32mif\u001b[0m \u001b[0mmatplotlib\u001b[0m\u001b[0;34m.\u001b[0m\u001b[0mis_interactive\u001b[0m\u001b[0;34m(\u001b[0m\u001b[0;34m)\u001b[0m\u001b[0;34m:\u001b[0m\u001b[0;34m\u001b[0m\u001b[0;34m\u001b[0m\u001b[0m\n\u001b[0;32m--> 109\u001b[0;31m                     \u001b[0mdraw_all\u001b[0m\u001b[0;34m(\u001b[0m\u001b[0;34m)\u001b[0m\u001b[0;34m\u001b[0m\u001b[0;34m\u001b[0m\u001b[0m\n\u001b[0m\u001b[1;32m    110\u001b[0m \u001b[0;34m\u001b[0m\u001b[0m\n\u001b[1;32m    111\u001b[0m             \u001b[0;31m# IPython >= 2\u001b[0m\u001b[0;34m\u001b[0m\u001b[0;34m\u001b[0m\u001b[0;34m\u001b[0m\u001b[0m\n",
            "\u001b[0;32m/usr/local/lib/python3.7/dist-packages/matplotlib/_pylab_helpers.py\u001b[0m in \u001b[0;36mdraw_all\u001b[0;34m(cls, force)\u001b[0m\n\u001b[1;32m    125\u001b[0m         \u001b[0;32mfor\u001b[0m \u001b[0mf_mgr\u001b[0m \u001b[0;32min\u001b[0m \u001b[0mcls\u001b[0m\u001b[0;34m.\u001b[0m\u001b[0mget_all_fig_managers\u001b[0m\u001b[0;34m(\u001b[0m\u001b[0;34m)\u001b[0m\u001b[0;34m:\u001b[0m\u001b[0;34m\u001b[0m\u001b[0;34m\u001b[0m\u001b[0m\n\u001b[1;32m    126\u001b[0m             \u001b[0;32mif\u001b[0m \u001b[0mforce\u001b[0m \u001b[0;32mor\u001b[0m \u001b[0mf_mgr\u001b[0m\u001b[0;34m.\u001b[0m\u001b[0mcanvas\u001b[0m\u001b[0;34m.\u001b[0m\u001b[0mfigure\u001b[0m\u001b[0;34m.\u001b[0m\u001b[0mstale\u001b[0m\u001b[0;34m:\u001b[0m\u001b[0;34m\u001b[0m\u001b[0;34m\u001b[0m\u001b[0m\n\u001b[0;32m--> 127\u001b[0;31m                 \u001b[0mf_mgr\u001b[0m\u001b[0;34m.\u001b[0m\u001b[0mcanvas\u001b[0m\u001b[0;34m.\u001b[0m\u001b[0mdraw_idle\u001b[0m\u001b[0;34m(\u001b[0m\u001b[0;34m)\u001b[0m\u001b[0;34m\u001b[0m\u001b[0;34m\u001b[0m\u001b[0m\n\u001b[0m\u001b[1;32m    128\u001b[0m \u001b[0;34m\u001b[0m\u001b[0m\n\u001b[1;32m    129\u001b[0m \u001b[0matexit\u001b[0m\u001b[0;34m.\u001b[0m\u001b[0mregister\u001b[0m\u001b[0;34m(\u001b[0m\u001b[0mGcf\u001b[0m\u001b[0;34m.\u001b[0m\u001b[0mdestroy_all\u001b[0m\u001b[0;34m)\u001b[0m\u001b[0;34m\u001b[0m\u001b[0;34m\u001b[0m\u001b[0m\n",
            "\u001b[0;32m/usr/local/lib/python3.7/dist-packages/matplotlib/backend_bases.py\u001b[0m in \u001b[0;36mdraw_idle\u001b[0;34m(self, *args, **kwargs)\u001b[0m\n\u001b[1;32m   1945\u001b[0m         \u001b[0;32mif\u001b[0m \u001b[0;32mnot\u001b[0m \u001b[0mself\u001b[0m\u001b[0;34m.\u001b[0m\u001b[0m_is_idle_drawing\u001b[0m\u001b[0;34m:\u001b[0m\u001b[0;34m\u001b[0m\u001b[0;34m\u001b[0m\u001b[0m\n\u001b[1;32m   1946\u001b[0m             \u001b[0;32mwith\u001b[0m \u001b[0mself\u001b[0m\u001b[0;34m.\u001b[0m\u001b[0m_idle_draw_cntx\u001b[0m\u001b[0;34m(\u001b[0m\u001b[0;34m)\u001b[0m\u001b[0;34m:\u001b[0m\u001b[0;34m\u001b[0m\u001b[0;34m\u001b[0m\u001b[0m\n\u001b[0;32m-> 1947\u001b[0;31m                 \u001b[0mself\u001b[0m\u001b[0;34m.\u001b[0m\u001b[0mdraw\u001b[0m\u001b[0;34m(\u001b[0m\u001b[0;34m*\u001b[0m\u001b[0margs\u001b[0m\u001b[0;34m,\u001b[0m \u001b[0;34m**\u001b[0m\u001b[0mkwargs\u001b[0m\u001b[0;34m)\u001b[0m\u001b[0;34m\u001b[0m\u001b[0;34m\u001b[0m\u001b[0m\n\u001b[0m\u001b[1;32m   1948\u001b[0m \u001b[0;34m\u001b[0m\u001b[0m\n\u001b[1;32m   1949\u001b[0m     \u001b[0;34m@\u001b[0m\u001b[0mcbook\u001b[0m\u001b[0;34m.\u001b[0m\u001b[0mdeprecated\u001b[0m\u001b[0;34m(\u001b[0m\u001b[0;34m\"3.2\"\u001b[0m\u001b[0;34m)\u001b[0m\u001b[0;34m\u001b[0m\u001b[0;34m\u001b[0m\u001b[0m\n",
            "\u001b[0;32m/usr/local/lib/python3.7/dist-packages/matplotlib/backends/backend_agg.py\u001b[0m in \u001b[0;36mdraw\u001b[0;34m(self)\u001b[0m\n\u001b[1;32m    391\u001b[0m              (self.toolbar._wait_cursor_for_draw_cm() if self.toolbar\n\u001b[1;32m    392\u001b[0m               else nullcontext()):\n\u001b[0;32m--> 393\u001b[0;31m             \u001b[0mself\u001b[0m\u001b[0;34m.\u001b[0m\u001b[0mfigure\u001b[0m\u001b[0;34m.\u001b[0m\u001b[0mdraw\u001b[0m\u001b[0;34m(\u001b[0m\u001b[0mself\u001b[0m\u001b[0;34m.\u001b[0m\u001b[0mrenderer\u001b[0m\u001b[0;34m)\u001b[0m\u001b[0;34m\u001b[0m\u001b[0;34m\u001b[0m\u001b[0m\n\u001b[0m\u001b[1;32m    394\u001b[0m             \u001b[0;31m# A GUI class may be need to update a window using this draw, so\u001b[0m\u001b[0;34m\u001b[0m\u001b[0;34m\u001b[0m\u001b[0;34m\u001b[0m\u001b[0m\n\u001b[1;32m    395\u001b[0m             \u001b[0;31m# don't forget to call the superclass.\u001b[0m\u001b[0;34m\u001b[0m\u001b[0;34m\u001b[0m\u001b[0;34m\u001b[0m\u001b[0m\n",
            "\u001b[0;32m/usr/local/lib/python3.7/dist-packages/matplotlib/artist.py\u001b[0m in \u001b[0;36mdraw_wrapper\u001b[0;34m(artist, renderer, *args, **kwargs)\u001b[0m\n\u001b[1;32m     36\u001b[0m                 \u001b[0mrenderer\u001b[0m\u001b[0;34m.\u001b[0m\u001b[0mstart_filter\u001b[0m\u001b[0;34m(\u001b[0m\u001b[0;34m)\u001b[0m\u001b[0;34m\u001b[0m\u001b[0;34m\u001b[0m\u001b[0m\n\u001b[1;32m     37\u001b[0m \u001b[0;34m\u001b[0m\u001b[0m\n\u001b[0;32m---> 38\u001b[0;31m             \u001b[0;32mreturn\u001b[0m \u001b[0mdraw\u001b[0m\u001b[0;34m(\u001b[0m\u001b[0martist\u001b[0m\u001b[0;34m,\u001b[0m \u001b[0mrenderer\u001b[0m\u001b[0;34m,\u001b[0m \u001b[0;34m*\u001b[0m\u001b[0margs\u001b[0m\u001b[0;34m,\u001b[0m \u001b[0;34m**\u001b[0m\u001b[0mkwargs\u001b[0m\u001b[0;34m)\u001b[0m\u001b[0;34m\u001b[0m\u001b[0;34m\u001b[0m\u001b[0m\n\u001b[0m\u001b[1;32m     39\u001b[0m         \u001b[0;32mfinally\u001b[0m\u001b[0;34m:\u001b[0m\u001b[0;34m\u001b[0m\u001b[0;34m\u001b[0m\u001b[0m\n\u001b[1;32m     40\u001b[0m             \u001b[0;32mif\u001b[0m \u001b[0martist\u001b[0m\u001b[0;34m.\u001b[0m\u001b[0mget_agg_filter\u001b[0m\u001b[0;34m(\u001b[0m\u001b[0;34m)\u001b[0m \u001b[0;32mis\u001b[0m \u001b[0;32mnot\u001b[0m \u001b[0;32mNone\u001b[0m\u001b[0;34m:\u001b[0m\u001b[0;34m\u001b[0m\u001b[0;34m\u001b[0m\u001b[0m\n",
            "\u001b[0;32m/usr/local/lib/python3.7/dist-packages/matplotlib/figure.py\u001b[0m in \u001b[0;36mdraw\u001b[0;34m(self, renderer)\u001b[0m\n\u001b[1;32m   1734\u001b[0m             \u001b[0mself\u001b[0m\u001b[0;34m.\u001b[0m\u001b[0mpatch\u001b[0m\u001b[0;34m.\u001b[0m\u001b[0mdraw\u001b[0m\u001b[0;34m(\u001b[0m\u001b[0mrenderer\u001b[0m\u001b[0;34m)\u001b[0m\u001b[0;34m\u001b[0m\u001b[0;34m\u001b[0m\u001b[0m\n\u001b[1;32m   1735\u001b[0m             mimage._draw_list_compositing_images(\n\u001b[0;32m-> 1736\u001b[0;31m                 renderer, self, artists, self.suppressComposite)\n\u001b[0m\u001b[1;32m   1737\u001b[0m \u001b[0;34m\u001b[0m\u001b[0m\n\u001b[1;32m   1738\u001b[0m             \u001b[0mrenderer\u001b[0m\u001b[0;34m.\u001b[0m\u001b[0mclose_group\u001b[0m\u001b[0;34m(\u001b[0m\u001b[0;34m'figure'\u001b[0m\u001b[0;34m)\u001b[0m\u001b[0;34m\u001b[0m\u001b[0;34m\u001b[0m\u001b[0m\n",
            "\u001b[0;32m/usr/local/lib/python3.7/dist-packages/matplotlib/image.py\u001b[0m in \u001b[0;36m_draw_list_compositing_images\u001b[0;34m(renderer, parent, artists, suppress_composite)\u001b[0m\n\u001b[1;32m    135\u001b[0m     \u001b[0;32mif\u001b[0m \u001b[0mnot_composite\u001b[0m \u001b[0;32mor\u001b[0m \u001b[0;32mnot\u001b[0m \u001b[0mhas_images\u001b[0m\u001b[0;34m:\u001b[0m\u001b[0;34m\u001b[0m\u001b[0;34m\u001b[0m\u001b[0m\n\u001b[1;32m    136\u001b[0m         \u001b[0;32mfor\u001b[0m \u001b[0ma\u001b[0m \u001b[0;32min\u001b[0m \u001b[0martists\u001b[0m\u001b[0;34m:\u001b[0m\u001b[0;34m\u001b[0m\u001b[0;34m\u001b[0m\u001b[0m\n\u001b[0;32m--> 137\u001b[0;31m             \u001b[0ma\u001b[0m\u001b[0;34m.\u001b[0m\u001b[0mdraw\u001b[0m\u001b[0;34m(\u001b[0m\u001b[0mrenderer\u001b[0m\u001b[0;34m)\u001b[0m\u001b[0;34m\u001b[0m\u001b[0;34m\u001b[0m\u001b[0m\n\u001b[0m\u001b[1;32m    138\u001b[0m     \u001b[0;32melse\u001b[0m\u001b[0;34m:\u001b[0m\u001b[0;34m\u001b[0m\u001b[0;34m\u001b[0m\u001b[0m\n\u001b[1;32m    139\u001b[0m         \u001b[0;31m# Composite any adjacent images together\u001b[0m\u001b[0;34m\u001b[0m\u001b[0;34m\u001b[0m\u001b[0;34m\u001b[0m\u001b[0m\n",
            "\u001b[0;32m/usr/local/lib/python3.7/dist-packages/matplotlib/artist.py\u001b[0m in \u001b[0;36mdraw_wrapper\u001b[0;34m(artist, renderer, *args, **kwargs)\u001b[0m\n\u001b[1;32m     36\u001b[0m                 \u001b[0mrenderer\u001b[0m\u001b[0;34m.\u001b[0m\u001b[0mstart_filter\u001b[0m\u001b[0;34m(\u001b[0m\u001b[0;34m)\u001b[0m\u001b[0;34m\u001b[0m\u001b[0;34m\u001b[0m\u001b[0m\n\u001b[1;32m     37\u001b[0m \u001b[0;34m\u001b[0m\u001b[0m\n\u001b[0;32m---> 38\u001b[0;31m             \u001b[0;32mreturn\u001b[0m \u001b[0mdraw\u001b[0m\u001b[0;34m(\u001b[0m\u001b[0martist\u001b[0m\u001b[0;34m,\u001b[0m \u001b[0mrenderer\u001b[0m\u001b[0;34m,\u001b[0m \u001b[0;34m*\u001b[0m\u001b[0margs\u001b[0m\u001b[0;34m,\u001b[0m \u001b[0;34m**\u001b[0m\u001b[0mkwargs\u001b[0m\u001b[0;34m)\u001b[0m\u001b[0;34m\u001b[0m\u001b[0;34m\u001b[0m\u001b[0m\n\u001b[0m\u001b[1;32m     39\u001b[0m         \u001b[0;32mfinally\u001b[0m\u001b[0;34m:\u001b[0m\u001b[0;34m\u001b[0m\u001b[0;34m\u001b[0m\u001b[0m\n\u001b[1;32m     40\u001b[0m             \u001b[0;32mif\u001b[0m \u001b[0martist\u001b[0m\u001b[0;34m.\u001b[0m\u001b[0mget_agg_filter\u001b[0m\u001b[0;34m(\u001b[0m\u001b[0;34m)\u001b[0m \u001b[0;32mis\u001b[0m \u001b[0;32mnot\u001b[0m \u001b[0;32mNone\u001b[0m\u001b[0;34m:\u001b[0m\u001b[0;34m\u001b[0m\u001b[0;34m\u001b[0m\u001b[0m\n",
            "\u001b[0;32m/usr/local/lib/python3.7/dist-packages/matplotlib/axes/_base.py\u001b[0m in \u001b[0;36mdraw\u001b[0;34m(self, renderer, inframe)\u001b[0m\n\u001b[1;32m   2628\u001b[0m             \u001b[0mrenderer\u001b[0m\u001b[0;34m.\u001b[0m\u001b[0mstop_rasterizing\u001b[0m\u001b[0;34m(\u001b[0m\u001b[0;34m)\u001b[0m\u001b[0;34m\u001b[0m\u001b[0;34m\u001b[0m\u001b[0m\n\u001b[1;32m   2629\u001b[0m \u001b[0;34m\u001b[0m\u001b[0m\n\u001b[0;32m-> 2630\u001b[0;31m         \u001b[0mmimage\u001b[0m\u001b[0;34m.\u001b[0m\u001b[0m_draw_list_compositing_images\u001b[0m\u001b[0;34m(\u001b[0m\u001b[0mrenderer\u001b[0m\u001b[0;34m,\u001b[0m \u001b[0mself\u001b[0m\u001b[0;34m,\u001b[0m \u001b[0martists\u001b[0m\u001b[0;34m)\u001b[0m\u001b[0;34m\u001b[0m\u001b[0;34m\u001b[0m\u001b[0m\n\u001b[0m\u001b[1;32m   2631\u001b[0m \u001b[0;34m\u001b[0m\u001b[0m\n\u001b[1;32m   2632\u001b[0m         \u001b[0mrenderer\u001b[0m\u001b[0;34m.\u001b[0m\u001b[0mclose_group\u001b[0m\u001b[0;34m(\u001b[0m\u001b[0;34m'axes'\u001b[0m\u001b[0;34m)\u001b[0m\u001b[0;34m\u001b[0m\u001b[0;34m\u001b[0m\u001b[0m\n",
            "\u001b[0;32m/usr/local/lib/python3.7/dist-packages/matplotlib/image.py\u001b[0m in \u001b[0;36m_draw_list_compositing_images\u001b[0;34m(renderer, parent, artists, suppress_composite)\u001b[0m\n\u001b[1;32m    135\u001b[0m     \u001b[0;32mif\u001b[0m \u001b[0mnot_composite\u001b[0m \u001b[0;32mor\u001b[0m \u001b[0;32mnot\u001b[0m \u001b[0mhas_images\u001b[0m\u001b[0;34m:\u001b[0m\u001b[0;34m\u001b[0m\u001b[0;34m\u001b[0m\u001b[0m\n\u001b[1;32m    136\u001b[0m         \u001b[0;32mfor\u001b[0m \u001b[0ma\u001b[0m \u001b[0;32min\u001b[0m \u001b[0martists\u001b[0m\u001b[0;34m:\u001b[0m\u001b[0;34m\u001b[0m\u001b[0;34m\u001b[0m\u001b[0m\n\u001b[0;32m--> 137\u001b[0;31m             \u001b[0ma\u001b[0m\u001b[0;34m.\u001b[0m\u001b[0mdraw\u001b[0m\u001b[0;34m(\u001b[0m\u001b[0mrenderer\u001b[0m\u001b[0;34m)\u001b[0m\u001b[0;34m\u001b[0m\u001b[0;34m\u001b[0m\u001b[0m\n\u001b[0m\u001b[1;32m    138\u001b[0m     \u001b[0;32melse\u001b[0m\u001b[0;34m:\u001b[0m\u001b[0;34m\u001b[0m\u001b[0;34m\u001b[0m\u001b[0m\n\u001b[1;32m    139\u001b[0m         \u001b[0;31m# Composite any adjacent images together\u001b[0m\u001b[0;34m\u001b[0m\u001b[0;34m\u001b[0m\u001b[0;34m\u001b[0m\u001b[0m\n",
            "\u001b[0;32m/usr/local/lib/python3.7/dist-packages/matplotlib/artist.py\u001b[0m in \u001b[0;36mdraw_wrapper\u001b[0;34m(artist, renderer, *args, **kwargs)\u001b[0m\n\u001b[1;32m     36\u001b[0m                 \u001b[0mrenderer\u001b[0m\u001b[0;34m.\u001b[0m\u001b[0mstart_filter\u001b[0m\u001b[0;34m(\u001b[0m\u001b[0;34m)\u001b[0m\u001b[0;34m\u001b[0m\u001b[0;34m\u001b[0m\u001b[0m\n\u001b[1;32m     37\u001b[0m \u001b[0;34m\u001b[0m\u001b[0m\n\u001b[0;32m---> 38\u001b[0;31m             \u001b[0;32mreturn\u001b[0m \u001b[0mdraw\u001b[0m\u001b[0;34m(\u001b[0m\u001b[0martist\u001b[0m\u001b[0;34m,\u001b[0m \u001b[0mrenderer\u001b[0m\u001b[0;34m,\u001b[0m \u001b[0;34m*\u001b[0m\u001b[0margs\u001b[0m\u001b[0;34m,\u001b[0m \u001b[0;34m**\u001b[0m\u001b[0mkwargs\u001b[0m\u001b[0;34m)\u001b[0m\u001b[0;34m\u001b[0m\u001b[0;34m\u001b[0m\u001b[0m\n\u001b[0m\u001b[1;32m     39\u001b[0m         \u001b[0;32mfinally\u001b[0m\u001b[0;34m:\u001b[0m\u001b[0;34m\u001b[0m\u001b[0;34m\u001b[0m\u001b[0m\n\u001b[1;32m     40\u001b[0m             \u001b[0;32mif\u001b[0m \u001b[0martist\u001b[0m\u001b[0;34m.\u001b[0m\u001b[0mget_agg_filter\u001b[0m\u001b[0;34m(\u001b[0m\u001b[0;34m)\u001b[0m \u001b[0;32mis\u001b[0m \u001b[0;32mnot\u001b[0m \u001b[0;32mNone\u001b[0m\u001b[0;34m:\u001b[0m\u001b[0;34m\u001b[0m\u001b[0;34m\u001b[0m\u001b[0m\n",
            "\u001b[0;32m/usr/local/lib/python3.7/dist-packages/matplotlib/axis.py\u001b[0m in \u001b[0;36mdraw\u001b[0;34m(self, renderer, *args, **kwargs)\u001b[0m\n\u001b[1;32m   1225\u001b[0m         \u001b[0mrenderer\u001b[0m\u001b[0;34m.\u001b[0m\u001b[0mopen_group\u001b[0m\u001b[0;34m(\u001b[0m\u001b[0m__name__\u001b[0m\u001b[0;34m,\u001b[0m \u001b[0mgid\u001b[0m\u001b[0;34m=\u001b[0m\u001b[0mself\u001b[0m\u001b[0;34m.\u001b[0m\u001b[0mget_gid\u001b[0m\u001b[0;34m(\u001b[0m\u001b[0;34m)\u001b[0m\u001b[0;34m)\u001b[0m\u001b[0;34m\u001b[0m\u001b[0;34m\u001b[0m\u001b[0m\n\u001b[1;32m   1226\u001b[0m \u001b[0;34m\u001b[0m\u001b[0m\n\u001b[0;32m-> 1227\u001b[0;31m         \u001b[0mticks_to_draw\u001b[0m \u001b[0;34m=\u001b[0m \u001b[0mself\u001b[0m\u001b[0;34m.\u001b[0m\u001b[0m_update_ticks\u001b[0m\u001b[0;34m(\u001b[0m\u001b[0;34m)\u001b[0m\u001b[0;34m\u001b[0m\u001b[0;34m\u001b[0m\u001b[0m\n\u001b[0m\u001b[1;32m   1228\u001b[0m         ticklabelBoxes, ticklabelBoxes2 = self._get_tick_bboxes(ticks_to_draw,\n\u001b[1;32m   1229\u001b[0m                                                                 renderer)\n",
            "\u001b[0;32m/usr/local/lib/python3.7/dist-packages/matplotlib/axis.py\u001b[0m in \u001b[0;36m_update_ticks\u001b[0;34m(self)\u001b[0m\n\u001b[1;32m   1101\u001b[0m         \u001b[0mthe\u001b[0m \u001b[0maxes\u001b[0m\u001b[0;34m.\u001b[0m  \u001b[0mReturn\u001b[0m \u001b[0mthe\u001b[0m \u001b[0mlist\u001b[0m \u001b[0mof\u001b[0m \u001b[0mticks\u001b[0m \u001b[0mthat\u001b[0m \u001b[0mwill\u001b[0m \u001b[0mbe\u001b[0m \u001b[0mdrawn\u001b[0m\u001b[0;34m.\u001b[0m\u001b[0;34m\u001b[0m\u001b[0;34m\u001b[0m\u001b[0m\n\u001b[1;32m   1102\u001b[0m         \"\"\"\n\u001b[0;32m-> 1103\u001b[0;31m         \u001b[0mmajor_locs\u001b[0m \u001b[0;34m=\u001b[0m \u001b[0mself\u001b[0m\u001b[0;34m.\u001b[0m\u001b[0mget_majorticklocs\u001b[0m\u001b[0;34m(\u001b[0m\u001b[0;34m)\u001b[0m\u001b[0;34m\u001b[0m\u001b[0;34m\u001b[0m\u001b[0m\n\u001b[0m\u001b[1;32m   1104\u001b[0m         \u001b[0mmajor_labels\u001b[0m \u001b[0;34m=\u001b[0m \u001b[0mself\u001b[0m\u001b[0;34m.\u001b[0m\u001b[0mmajor\u001b[0m\u001b[0;34m.\u001b[0m\u001b[0mformatter\u001b[0m\u001b[0;34m.\u001b[0m\u001b[0mformat_ticks\u001b[0m\u001b[0;34m(\u001b[0m\u001b[0mmajor_locs\u001b[0m\u001b[0;34m)\u001b[0m\u001b[0;34m\u001b[0m\u001b[0;34m\u001b[0m\u001b[0m\n\u001b[1;32m   1105\u001b[0m         \u001b[0mmajor_ticks\u001b[0m \u001b[0;34m=\u001b[0m \u001b[0mself\u001b[0m\u001b[0;34m.\u001b[0m\u001b[0mget_major_ticks\u001b[0m\u001b[0;34m(\u001b[0m\u001b[0mlen\u001b[0m\u001b[0;34m(\u001b[0m\u001b[0mmajor_locs\u001b[0m\u001b[0;34m)\u001b[0m\u001b[0;34m)\u001b[0m\u001b[0;34m\u001b[0m\u001b[0;34m\u001b[0m\u001b[0m\n",
            "\u001b[0;32m/usr/local/lib/python3.7/dist-packages/matplotlib/axis.py\u001b[0m in \u001b[0;36mget_majorticklocs\u001b[0;34m(self)\u001b[0m\n\u001b[1;32m   1346\u001b[0m     \u001b[0;32mdef\u001b[0m \u001b[0mget_majorticklocs\u001b[0m\u001b[0;34m(\u001b[0m\u001b[0mself\u001b[0m\u001b[0;34m)\u001b[0m\u001b[0;34m:\u001b[0m\u001b[0;34m\u001b[0m\u001b[0;34m\u001b[0m\u001b[0m\n\u001b[1;32m   1347\u001b[0m         \u001b[0;34m\"\"\"Get the array of major tick locations in data coordinates.\"\"\"\u001b[0m\u001b[0;34m\u001b[0m\u001b[0;34m\u001b[0m\u001b[0m\n\u001b[0;32m-> 1348\u001b[0;31m         \u001b[0;32mreturn\u001b[0m \u001b[0mself\u001b[0m\u001b[0;34m.\u001b[0m\u001b[0mmajor\u001b[0m\u001b[0;34m.\u001b[0m\u001b[0mlocator\u001b[0m\u001b[0;34m(\u001b[0m\u001b[0;34m)\u001b[0m\u001b[0;34m\u001b[0m\u001b[0;34m\u001b[0m\u001b[0m\n\u001b[0m\u001b[1;32m   1349\u001b[0m \u001b[0;34m\u001b[0m\u001b[0m\n\u001b[1;32m   1350\u001b[0m     \u001b[0;32mdef\u001b[0m \u001b[0mget_minorticklocs\u001b[0m\u001b[0;34m(\u001b[0m\u001b[0mself\u001b[0m\u001b[0;34m)\u001b[0m\u001b[0;34m:\u001b[0m\u001b[0;34m\u001b[0m\u001b[0;34m\u001b[0m\u001b[0m\n",
            "\u001b[0;32m/usr/local/lib/python3.7/dist-packages/matplotlib/dates.py\u001b[0m in \u001b[0;36m__call__\u001b[0;34m(self)\u001b[0m\n\u001b[1;32m   1336\u001b[0m     \u001b[0;32mdef\u001b[0m \u001b[0m__call__\u001b[0m\u001b[0;34m(\u001b[0m\u001b[0mself\u001b[0m\u001b[0;34m)\u001b[0m\u001b[0;34m:\u001b[0m\u001b[0;34m\u001b[0m\u001b[0;34m\u001b[0m\u001b[0m\n\u001b[1;32m   1337\u001b[0m         \u001b[0;34m'Return the locations of the ticks'\u001b[0m\u001b[0;34m\u001b[0m\u001b[0;34m\u001b[0m\u001b[0m\n\u001b[0;32m-> 1338\u001b[0;31m         \u001b[0mself\u001b[0m\u001b[0;34m.\u001b[0m\u001b[0mrefresh\u001b[0m\u001b[0;34m(\u001b[0m\u001b[0;34m)\u001b[0m\u001b[0;34m\u001b[0m\u001b[0;34m\u001b[0m\u001b[0m\n\u001b[0m\u001b[1;32m   1339\u001b[0m         \u001b[0;32mreturn\u001b[0m \u001b[0mself\u001b[0m\u001b[0;34m.\u001b[0m\u001b[0m_locator\u001b[0m\u001b[0;34m(\u001b[0m\u001b[0;34m)\u001b[0m\u001b[0;34m\u001b[0m\u001b[0;34m\u001b[0m\u001b[0m\n\u001b[1;32m   1340\u001b[0m \u001b[0;34m\u001b[0m\u001b[0m\n",
            "\u001b[0;32m/usr/local/lib/python3.7/dist-packages/matplotlib/dates.py\u001b[0m in \u001b[0;36mrefresh\u001b[0;34m(self)\u001b[0m\n\u001b[1;32m   1362\u001b[0m     \u001b[0;32mdef\u001b[0m \u001b[0mrefresh\u001b[0m\u001b[0;34m(\u001b[0m\u001b[0mself\u001b[0m\u001b[0;34m)\u001b[0m\u001b[0;34m:\u001b[0m\u001b[0;34m\u001b[0m\u001b[0;34m\u001b[0m\u001b[0m\n\u001b[1;32m   1363\u001b[0m         \u001b[0;31m# docstring inherited\u001b[0m\u001b[0;34m\u001b[0m\u001b[0;34m\u001b[0m\u001b[0;34m\u001b[0m\u001b[0m\n\u001b[0;32m-> 1364\u001b[0;31m         \u001b[0mdmin\u001b[0m\u001b[0;34m,\u001b[0m \u001b[0mdmax\u001b[0m \u001b[0;34m=\u001b[0m \u001b[0mself\u001b[0m\u001b[0;34m.\u001b[0m\u001b[0mviewlim_to_dt\u001b[0m\u001b[0;34m(\u001b[0m\u001b[0;34m)\u001b[0m\u001b[0;34m\u001b[0m\u001b[0;34m\u001b[0m\u001b[0m\n\u001b[0m\u001b[1;32m   1365\u001b[0m         \u001b[0mself\u001b[0m\u001b[0;34m.\u001b[0m\u001b[0m_locator\u001b[0m \u001b[0;34m=\u001b[0m \u001b[0mself\u001b[0m\u001b[0;34m.\u001b[0m\u001b[0mget_locator\u001b[0m\u001b[0;34m(\u001b[0m\u001b[0mdmin\u001b[0m\u001b[0;34m,\u001b[0m \u001b[0mdmax\u001b[0m\u001b[0;34m)\u001b[0m\u001b[0;34m\u001b[0m\u001b[0;34m\u001b[0m\u001b[0m\n\u001b[1;32m   1366\u001b[0m \u001b[0;34m\u001b[0m\u001b[0m\n",
            "\u001b[0;32m/usr/local/lib/python3.7/dist-packages/matplotlib/dates.py\u001b[0m in \u001b[0;36mviewlim_to_dt\u001b[0;34m(self)\u001b[0m\n\u001b[1;32m   1096\u001b[0m                              \u001b[0;34m'often happens if you pass a non-datetime '\u001b[0m\u001b[0;34m\u001b[0m\u001b[0;34m\u001b[0m\u001b[0m\n\u001b[1;32m   1097\u001b[0m                              \u001b[0;34m'value to an axis that has datetime units'\u001b[0m\u001b[0;34m\u001b[0m\u001b[0;34m\u001b[0m\u001b[0m\n\u001b[0;32m-> 1098\u001b[0;31m                              .format(vmin))\n\u001b[0m\u001b[1;32m   1099\u001b[0m         \u001b[0;32mreturn\u001b[0m \u001b[0mnum2date\u001b[0m\u001b[0;34m(\u001b[0m\u001b[0mvmin\u001b[0m\u001b[0;34m,\u001b[0m \u001b[0mself\u001b[0m\u001b[0;34m.\u001b[0m\u001b[0mtz\u001b[0m\u001b[0;34m)\u001b[0m\u001b[0;34m,\u001b[0m \u001b[0mnum2date\u001b[0m\u001b[0;34m(\u001b[0m\u001b[0mvmax\u001b[0m\u001b[0;34m,\u001b[0m \u001b[0mself\u001b[0m\u001b[0;34m.\u001b[0m\u001b[0mtz\u001b[0m\u001b[0;34m)\u001b[0m\u001b[0;34m\u001b[0m\u001b[0;34m\u001b[0m\u001b[0m\n\u001b[1;32m   1100\u001b[0m \u001b[0;34m\u001b[0m\u001b[0m\n",
            "\u001b[0;31mValueError\u001b[0m: view limit minimum 0.17882002314814816 is less than 1 and is an invalid Matplotlib date value. This often happens if you pass a non-datetime value to an axis that has datetime units"
          ]
        },
        {
          "output_type": "error",
          "ename": "ValueError",
          "evalue": "ignored",
          "traceback": [
            "\u001b[0;31m---------------------------------------------------------------------------\u001b[0m",
            "\u001b[0;31mValueError\u001b[0m                                Traceback (most recent call last)",
            "\u001b[0;32m/usr/local/lib/python3.7/dist-packages/ipykernel/pylab/backend_inline.py\u001b[0m in \u001b[0;36mshow\u001b[0;34m(close, block)\u001b[0m\n\u001b[1;32m     37\u001b[0m             display(\n\u001b[1;32m     38\u001b[0m                 \u001b[0mfigure_manager\u001b[0m\u001b[0;34m.\u001b[0m\u001b[0mcanvas\u001b[0m\u001b[0;34m.\u001b[0m\u001b[0mfigure\u001b[0m\u001b[0;34m,\u001b[0m\u001b[0;34m\u001b[0m\u001b[0;34m\u001b[0m\u001b[0m\n\u001b[0;32m---> 39\u001b[0;31m                 \u001b[0mmetadata\u001b[0m\u001b[0;34m=\u001b[0m\u001b[0m_fetch_figure_metadata\u001b[0m\u001b[0;34m(\u001b[0m\u001b[0mfigure_manager\u001b[0m\u001b[0;34m.\u001b[0m\u001b[0mcanvas\u001b[0m\u001b[0;34m.\u001b[0m\u001b[0mfigure\u001b[0m\u001b[0;34m)\u001b[0m\u001b[0;34m\u001b[0m\u001b[0;34m\u001b[0m\u001b[0m\n\u001b[0m\u001b[1;32m     40\u001b[0m             )\n\u001b[1;32m     41\u001b[0m     \u001b[0;32mfinally\u001b[0m\u001b[0;34m:\u001b[0m\u001b[0;34m\u001b[0m\u001b[0;34m\u001b[0m\u001b[0m\n",
            "\u001b[0;32m/usr/local/lib/python3.7/dist-packages/ipykernel/pylab/backend_inline.py\u001b[0m in \u001b[0;36m_fetch_figure_metadata\u001b[0;34m(fig)\u001b[0m\n\u001b[1;32m    175\u001b[0m         \u001b[0;31m# the background is transparent\u001b[0m\u001b[0;34m\u001b[0m\u001b[0;34m\u001b[0m\u001b[0;34m\u001b[0m\u001b[0m\n\u001b[1;32m    176\u001b[0m         ticksLight = _is_light([label.get_color()\n\u001b[0;32m--> 177\u001b[0;31m                                 \u001b[0;32mfor\u001b[0m \u001b[0maxes\u001b[0m \u001b[0;32min\u001b[0m \u001b[0mfig\u001b[0m\u001b[0;34m.\u001b[0m\u001b[0maxes\u001b[0m\u001b[0;34m\u001b[0m\u001b[0;34m\u001b[0m\u001b[0m\n\u001b[0m\u001b[1;32m    178\u001b[0m                                 \u001b[0;32mfor\u001b[0m \u001b[0maxis\u001b[0m \u001b[0;32min\u001b[0m \u001b[0;34m(\u001b[0m\u001b[0maxes\u001b[0m\u001b[0;34m.\u001b[0m\u001b[0mxaxis\u001b[0m\u001b[0;34m,\u001b[0m \u001b[0maxes\u001b[0m\u001b[0;34m.\u001b[0m\u001b[0myaxis\u001b[0m\u001b[0;34m)\u001b[0m\u001b[0;34m\u001b[0m\u001b[0;34m\u001b[0m\u001b[0m\n\u001b[1;32m    179\u001b[0m                                 for label in axis.get_ticklabels()])\n",
            "\u001b[0;32m/usr/local/lib/python3.7/dist-packages/ipykernel/pylab/backend_inline.py\u001b[0m in \u001b[0;36m<listcomp>\u001b[0;34m(.0)\u001b[0m\n\u001b[1;32m    177\u001b[0m                                 \u001b[0;32mfor\u001b[0m \u001b[0maxes\u001b[0m \u001b[0;32min\u001b[0m \u001b[0mfig\u001b[0m\u001b[0;34m.\u001b[0m\u001b[0maxes\u001b[0m\u001b[0;34m\u001b[0m\u001b[0;34m\u001b[0m\u001b[0m\n\u001b[1;32m    178\u001b[0m                                 \u001b[0;32mfor\u001b[0m \u001b[0maxis\u001b[0m \u001b[0;32min\u001b[0m \u001b[0;34m(\u001b[0m\u001b[0maxes\u001b[0m\u001b[0;34m.\u001b[0m\u001b[0mxaxis\u001b[0m\u001b[0;34m,\u001b[0m \u001b[0maxes\u001b[0m\u001b[0;34m.\u001b[0m\u001b[0myaxis\u001b[0m\u001b[0;34m)\u001b[0m\u001b[0;34m\u001b[0m\u001b[0;34m\u001b[0m\u001b[0m\n\u001b[0;32m--> 179\u001b[0;31m                                 for label in axis.get_ticklabels()])\n\u001b[0m\u001b[1;32m    180\u001b[0m         \u001b[0;32mif\u001b[0m \u001b[0mticksLight\u001b[0m\u001b[0;34m.\u001b[0m\u001b[0msize\u001b[0m \u001b[0;32mand\u001b[0m \u001b[0;34m(\u001b[0m\u001b[0mticksLight\u001b[0m \u001b[0;34m==\u001b[0m \u001b[0mticksLight\u001b[0m\u001b[0;34m[\u001b[0m\u001b[0;36m0\u001b[0m\u001b[0;34m]\u001b[0m\u001b[0;34m)\u001b[0m\u001b[0;34m.\u001b[0m\u001b[0mall\u001b[0m\u001b[0;34m(\u001b[0m\u001b[0;34m)\u001b[0m\u001b[0;34m:\u001b[0m\u001b[0;34m\u001b[0m\u001b[0;34m\u001b[0m\u001b[0m\n\u001b[1;32m    181\u001b[0m             \u001b[0;31m# there are one or more tick labels, all with the same lightness\u001b[0m\u001b[0;34m\u001b[0m\u001b[0;34m\u001b[0m\u001b[0;34m\u001b[0m\u001b[0m\n",
            "\u001b[0;32m/usr/local/lib/python3.7/dist-packages/matplotlib/axis.py\u001b[0m in \u001b[0;36mget_ticklabels\u001b[0;34m(self, minor, which)\u001b[0m\n\u001b[1;32m   1318\u001b[0m         \u001b[0;32mif\u001b[0m \u001b[0mminor\u001b[0m\u001b[0;34m:\u001b[0m\u001b[0;34m\u001b[0m\u001b[0;34m\u001b[0m\u001b[0m\n\u001b[1;32m   1319\u001b[0m             \u001b[0;32mreturn\u001b[0m \u001b[0mself\u001b[0m\u001b[0;34m.\u001b[0m\u001b[0mget_minorticklabels\u001b[0m\u001b[0;34m(\u001b[0m\u001b[0;34m)\u001b[0m\u001b[0;34m\u001b[0m\u001b[0;34m\u001b[0m\u001b[0m\n\u001b[0;32m-> 1320\u001b[0;31m         \u001b[0;32mreturn\u001b[0m \u001b[0mself\u001b[0m\u001b[0;34m.\u001b[0m\u001b[0mget_majorticklabels\u001b[0m\u001b[0;34m(\u001b[0m\u001b[0;34m)\u001b[0m\u001b[0;34m\u001b[0m\u001b[0;34m\u001b[0m\u001b[0m\n\u001b[0m\u001b[1;32m   1321\u001b[0m \u001b[0;34m\u001b[0m\u001b[0m\n\u001b[1;32m   1322\u001b[0m     \u001b[0;32mdef\u001b[0m \u001b[0mget_majorticklines\u001b[0m\u001b[0;34m(\u001b[0m\u001b[0mself\u001b[0m\u001b[0;34m)\u001b[0m\u001b[0;34m:\u001b[0m\u001b[0;34m\u001b[0m\u001b[0;34m\u001b[0m\u001b[0m\n",
            "\u001b[0;32m/usr/local/lib/python3.7/dist-packages/matplotlib/axis.py\u001b[0m in \u001b[0;36mget_majorticklabels\u001b[0;34m(self)\u001b[0m\n\u001b[1;32m   1274\u001b[0m     \u001b[0;32mdef\u001b[0m \u001b[0mget_majorticklabels\u001b[0m\u001b[0;34m(\u001b[0m\u001b[0mself\u001b[0m\u001b[0;34m)\u001b[0m\u001b[0;34m:\u001b[0m\u001b[0;34m\u001b[0m\u001b[0;34m\u001b[0m\u001b[0m\n\u001b[1;32m   1275\u001b[0m         \u001b[0;34m'Return a list of Text instances for the major ticklabels.'\u001b[0m\u001b[0;34m\u001b[0m\u001b[0;34m\u001b[0m\u001b[0m\n\u001b[0;32m-> 1276\u001b[0;31m         \u001b[0mticks\u001b[0m \u001b[0;34m=\u001b[0m \u001b[0mself\u001b[0m\u001b[0;34m.\u001b[0m\u001b[0mget_major_ticks\u001b[0m\u001b[0;34m(\u001b[0m\u001b[0;34m)\u001b[0m\u001b[0;34m\u001b[0m\u001b[0;34m\u001b[0m\u001b[0m\n\u001b[0m\u001b[1;32m   1277\u001b[0m         \u001b[0mlabels1\u001b[0m \u001b[0;34m=\u001b[0m \u001b[0;34m[\u001b[0m\u001b[0mtick\u001b[0m\u001b[0;34m.\u001b[0m\u001b[0mlabel1\u001b[0m \u001b[0;32mfor\u001b[0m \u001b[0mtick\u001b[0m \u001b[0;32min\u001b[0m \u001b[0mticks\u001b[0m \u001b[0;32mif\u001b[0m \u001b[0mtick\u001b[0m\u001b[0;34m.\u001b[0m\u001b[0mlabel1\u001b[0m\u001b[0;34m.\u001b[0m\u001b[0mget_visible\u001b[0m\u001b[0;34m(\u001b[0m\u001b[0;34m)\u001b[0m\u001b[0;34m]\u001b[0m\u001b[0;34m\u001b[0m\u001b[0;34m\u001b[0m\u001b[0m\n\u001b[1;32m   1278\u001b[0m         \u001b[0mlabels2\u001b[0m \u001b[0;34m=\u001b[0m \u001b[0;34m[\u001b[0m\u001b[0mtick\u001b[0m\u001b[0;34m.\u001b[0m\u001b[0mlabel2\u001b[0m \u001b[0;32mfor\u001b[0m \u001b[0mtick\u001b[0m \u001b[0;32min\u001b[0m \u001b[0mticks\u001b[0m \u001b[0;32mif\u001b[0m \u001b[0mtick\u001b[0m\u001b[0;34m.\u001b[0m\u001b[0mlabel2\u001b[0m\u001b[0;34m.\u001b[0m\u001b[0mget_visible\u001b[0m\u001b[0;34m(\u001b[0m\u001b[0;34m)\u001b[0m\u001b[0;34m]\u001b[0m\u001b[0;34m\u001b[0m\u001b[0;34m\u001b[0m\u001b[0m\n",
            "\u001b[0;32m/usr/local/lib/python3.7/dist-packages/matplotlib/axis.py\u001b[0m in \u001b[0;36mget_major_ticks\u001b[0;34m(self, numticks)\u001b[0m\n\u001b[1;32m   1429\u001b[0m         \u001b[0;34m'Get the tick instances; grow as necessary.'\u001b[0m\u001b[0;34m\u001b[0m\u001b[0;34m\u001b[0m\u001b[0m\n\u001b[1;32m   1430\u001b[0m         \u001b[0;32mif\u001b[0m \u001b[0mnumticks\u001b[0m \u001b[0;32mis\u001b[0m \u001b[0;32mNone\u001b[0m\u001b[0;34m:\u001b[0m\u001b[0;34m\u001b[0m\u001b[0;34m\u001b[0m\u001b[0m\n\u001b[0;32m-> 1431\u001b[0;31m             \u001b[0mnumticks\u001b[0m \u001b[0;34m=\u001b[0m \u001b[0mlen\u001b[0m\u001b[0;34m(\u001b[0m\u001b[0mself\u001b[0m\u001b[0;34m.\u001b[0m\u001b[0mget_majorticklocs\u001b[0m\u001b[0;34m(\u001b[0m\u001b[0;34m)\u001b[0m\u001b[0;34m)\u001b[0m\u001b[0;34m\u001b[0m\u001b[0;34m\u001b[0m\u001b[0m\n\u001b[0m\u001b[1;32m   1432\u001b[0m \u001b[0;34m\u001b[0m\u001b[0m\n\u001b[1;32m   1433\u001b[0m         \u001b[0;32mwhile\u001b[0m \u001b[0mlen\u001b[0m\u001b[0;34m(\u001b[0m\u001b[0mself\u001b[0m\u001b[0;34m.\u001b[0m\u001b[0mmajorTicks\u001b[0m\u001b[0;34m)\u001b[0m \u001b[0;34m<\u001b[0m \u001b[0mnumticks\u001b[0m\u001b[0;34m:\u001b[0m\u001b[0;34m\u001b[0m\u001b[0;34m\u001b[0m\u001b[0m\n",
            "\u001b[0;32m/usr/local/lib/python3.7/dist-packages/matplotlib/axis.py\u001b[0m in \u001b[0;36mget_majorticklocs\u001b[0;34m(self)\u001b[0m\n\u001b[1;32m   1346\u001b[0m     \u001b[0;32mdef\u001b[0m \u001b[0mget_majorticklocs\u001b[0m\u001b[0;34m(\u001b[0m\u001b[0mself\u001b[0m\u001b[0;34m)\u001b[0m\u001b[0;34m:\u001b[0m\u001b[0;34m\u001b[0m\u001b[0;34m\u001b[0m\u001b[0m\n\u001b[1;32m   1347\u001b[0m         \u001b[0;34m\"\"\"Get the array of major tick locations in data coordinates.\"\"\"\u001b[0m\u001b[0;34m\u001b[0m\u001b[0;34m\u001b[0m\u001b[0m\n\u001b[0;32m-> 1348\u001b[0;31m         \u001b[0;32mreturn\u001b[0m \u001b[0mself\u001b[0m\u001b[0;34m.\u001b[0m\u001b[0mmajor\u001b[0m\u001b[0;34m.\u001b[0m\u001b[0mlocator\u001b[0m\u001b[0;34m(\u001b[0m\u001b[0;34m)\u001b[0m\u001b[0;34m\u001b[0m\u001b[0;34m\u001b[0m\u001b[0m\n\u001b[0m\u001b[1;32m   1349\u001b[0m \u001b[0;34m\u001b[0m\u001b[0m\n\u001b[1;32m   1350\u001b[0m     \u001b[0;32mdef\u001b[0m \u001b[0mget_minorticklocs\u001b[0m\u001b[0;34m(\u001b[0m\u001b[0mself\u001b[0m\u001b[0;34m)\u001b[0m\u001b[0;34m:\u001b[0m\u001b[0;34m\u001b[0m\u001b[0;34m\u001b[0m\u001b[0m\n",
            "\u001b[0;32m/usr/local/lib/python3.7/dist-packages/matplotlib/dates.py\u001b[0m in \u001b[0;36m__call__\u001b[0;34m(self)\u001b[0m\n\u001b[1;32m   1336\u001b[0m     \u001b[0;32mdef\u001b[0m \u001b[0m__call__\u001b[0m\u001b[0;34m(\u001b[0m\u001b[0mself\u001b[0m\u001b[0;34m)\u001b[0m\u001b[0;34m:\u001b[0m\u001b[0;34m\u001b[0m\u001b[0;34m\u001b[0m\u001b[0m\n\u001b[1;32m   1337\u001b[0m         \u001b[0;34m'Return the locations of the ticks'\u001b[0m\u001b[0;34m\u001b[0m\u001b[0;34m\u001b[0m\u001b[0m\n\u001b[0;32m-> 1338\u001b[0;31m         \u001b[0mself\u001b[0m\u001b[0;34m.\u001b[0m\u001b[0mrefresh\u001b[0m\u001b[0;34m(\u001b[0m\u001b[0;34m)\u001b[0m\u001b[0;34m\u001b[0m\u001b[0;34m\u001b[0m\u001b[0m\n\u001b[0m\u001b[1;32m   1339\u001b[0m         \u001b[0;32mreturn\u001b[0m \u001b[0mself\u001b[0m\u001b[0;34m.\u001b[0m\u001b[0m_locator\u001b[0m\u001b[0;34m(\u001b[0m\u001b[0;34m)\u001b[0m\u001b[0;34m\u001b[0m\u001b[0;34m\u001b[0m\u001b[0m\n\u001b[1;32m   1340\u001b[0m \u001b[0;34m\u001b[0m\u001b[0m\n",
            "\u001b[0;32m/usr/local/lib/python3.7/dist-packages/matplotlib/dates.py\u001b[0m in \u001b[0;36mrefresh\u001b[0;34m(self)\u001b[0m\n\u001b[1;32m   1362\u001b[0m     \u001b[0;32mdef\u001b[0m \u001b[0mrefresh\u001b[0m\u001b[0;34m(\u001b[0m\u001b[0mself\u001b[0m\u001b[0;34m)\u001b[0m\u001b[0;34m:\u001b[0m\u001b[0;34m\u001b[0m\u001b[0;34m\u001b[0m\u001b[0m\n\u001b[1;32m   1363\u001b[0m         \u001b[0;31m# docstring inherited\u001b[0m\u001b[0;34m\u001b[0m\u001b[0;34m\u001b[0m\u001b[0;34m\u001b[0m\u001b[0m\n\u001b[0;32m-> 1364\u001b[0;31m         \u001b[0mdmin\u001b[0m\u001b[0;34m,\u001b[0m \u001b[0mdmax\u001b[0m \u001b[0;34m=\u001b[0m \u001b[0mself\u001b[0m\u001b[0;34m.\u001b[0m\u001b[0mviewlim_to_dt\u001b[0m\u001b[0;34m(\u001b[0m\u001b[0;34m)\u001b[0m\u001b[0;34m\u001b[0m\u001b[0;34m\u001b[0m\u001b[0m\n\u001b[0m\u001b[1;32m   1365\u001b[0m         \u001b[0mself\u001b[0m\u001b[0;34m.\u001b[0m\u001b[0m_locator\u001b[0m \u001b[0;34m=\u001b[0m \u001b[0mself\u001b[0m\u001b[0;34m.\u001b[0m\u001b[0mget_locator\u001b[0m\u001b[0;34m(\u001b[0m\u001b[0mdmin\u001b[0m\u001b[0;34m,\u001b[0m \u001b[0mdmax\u001b[0m\u001b[0;34m)\u001b[0m\u001b[0;34m\u001b[0m\u001b[0;34m\u001b[0m\u001b[0m\n\u001b[1;32m   1366\u001b[0m \u001b[0;34m\u001b[0m\u001b[0m\n",
            "\u001b[0;32m/usr/local/lib/python3.7/dist-packages/matplotlib/dates.py\u001b[0m in \u001b[0;36mviewlim_to_dt\u001b[0;34m(self)\u001b[0m\n\u001b[1;32m   1096\u001b[0m                              \u001b[0;34m'often happens if you pass a non-datetime '\u001b[0m\u001b[0;34m\u001b[0m\u001b[0;34m\u001b[0m\u001b[0m\n\u001b[1;32m   1097\u001b[0m                              \u001b[0;34m'value to an axis that has datetime units'\u001b[0m\u001b[0;34m\u001b[0m\u001b[0;34m\u001b[0m\u001b[0m\n\u001b[0;32m-> 1098\u001b[0;31m                              .format(vmin))\n\u001b[0m\u001b[1;32m   1099\u001b[0m         \u001b[0;32mreturn\u001b[0m \u001b[0mnum2date\u001b[0m\u001b[0;34m(\u001b[0m\u001b[0mvmin\u001b[0m\u001b[0;34m,\u001b[0m \u001b[0mself\u001b[0m\u001b[0;34m.\u001b[0m\u001b[0mtz\u001b[0m\u001b[0;34m)\u001b[0m\u001b[0;34m,\u001b[0m \u001b[0mnum2date\u001b[0m\u001b[0;34m(\u001b[0m\u001b[0mvmax\u001b[0m\u001b[0;34m,\u001b[0m \u001b[0mself\u001b[0m\u001b[0;34m.\u001b[0m\u001b[0mtz\u001b[0m\u001b[0;34m)\u001b[0m\u001b[0;34m\u001b[0m\u001b[0;34m\u001b[0m\u001b[0m\n\u001b[1;32m   1100\u001b[0m \u001b[0;34m\u001b[0m\u001b[0m\n",
            "\u001b[0;31mValueError\u001b[0m: view limit minimum 0.17882002314814816 is less than 1 and is an invalid Matplotlib date value. This often happens if you pass a non-datetime value to an axis that has datetime units"
          ]
        }
      ]
    },
    {
      "cell_type": "markdown",
      "metadata": {
        "id": "seasonal-riding"
      },
      "source": [
        "# Correction des labels avec determination du bon debut et fin de chaque attaque\n",
        "\n",
        "Les vrais débuts et fins des attaques ont été trouvées à la main"
      ],
      "id": "seasonal-riding"
    },
    {
      "cell_type": "code",
      "metadata": {
        "id": "alive-brighton"
      },
      "source": [
        "# Attaque sur FIT 401\n",
        "# Debut ligne 9416, fin ligne 9520\n",
        "real_deb_FIT401 = timedelta(hours=7, minutes=6, seconds=59)\n",
        "real_fin_FIT401 = timedelta(hours=7, minutes=8, seconds=45)\n",
        "\n",
        "# Attaque sur LIT 301\n",
        "# Debut ligne 9803, fin ligne 10063\n",
        "real_deb_LIT301 = timedelta(hours=7, minutes=13, seconds=26)\n",
        "real_fin_LIT301 = timedelta(hours=7, minutes=17, seconds=48)\n",
        "\n",
        "# Attaque sur P601\n",
        "# Debut ligne 10509, fin ligne 10738\n",
        "real_deb_P601 = timedelta(hours=7, minutes=25, seconds=12)\n",
        "real_fin_P601 = timedelta(hours=7, minutes=29, seconds=3)\n",
        "\n",
        "# Attaque Multi Point\n",
        "# Debut ligne 11228, fin ligne 11691\n",
        "real_deb_MultiPoint = timedelta(hours=7, minutes=37, seconds=11)\n",
        "real_fin_MultiPoint = timedelta(hours=7, minutes=44, seconds=56)\n",
        "\n",
        "# Attaque sur MV 501\n",
        "# Debut ligne 12141, fin ligne 12291\n",
        "real_deb_MV501 = timedelta(hours=7, minutes=52, seconds=24)\n",
        "real_fin_MV501 = timedelta(hours=7, minutes=54, seconds=56)\n",
        "\n",
        "# Attaque sur P301\n",
        "# Debut ligne 12662, fin ligne 13503\n",
        "real_deb_P301 = timedelta(hours=8, minutes=1, seconds=5)\n",
        "real_fin_P301 = timedelta(hours=8, minutes=15, seconds=8)"
      ],
      "id": "alive-brighton",
      "execution_count": 22,
      "outputs": []
    },
    {
      "cell_type": "markdown",
      "metadata": {
        "id": "absent-bangkok"
      },
      "source": [
        "On relabelise les données, cette fois ci correctement"
      ],
      "id": "absent-bangkok"
    },
    {
      "cell_type": "code",
      "metadata": {
        "colab": {
          "base_uri": "https://localhost:8080/"
        },
        "id": "meaningful-paradise",
        "outputId": "2510d2a0-66dc-4ab3-bbf2-30456a5c6e48"
      },
      "source": [
        "cat_attack = ['FIT401_attack','LIT301_attack','P601_attack',\\\n",
        "              'MultiPoint_attack','MV501_attack','P301_attack']\n",
        "\n",
        "# On transforme chaque colonne XXX_attack en colonne de 0\n",
        "for c in cat_attack:\n",
        "  df[c] = pd.Series(np.zeros(len(df)).astype(int))\n",
        "\n",
        "\n",
        "# On relabelise\n",
        "i = 0\n",
        "for date in df['timestamp']:\n",
        "    if(date > real_deb_FIT401 and date < real_fin_FIT401):\n",
        "        df['FIT401_attack'][i] = 1\n",
        "    if(date > real_deb_LIT301 and date < real_fin_LIT301):\n",
        "        df['LIT301_attack'][i] = 1\n",
        "    if(date > real_deb_P601 and date < real_fin_P601):\n",
        "        df['P601_attack'][i] = 1\n",
        "    if(date > real_deb_MultiPoint and date < real_fin_MultiPoint):\n",
        "        df['MultiPoint_attack'][i] = 1\n",
        "    if(date > real_deb_MV501 and date < real_fin_MV501):\n",
        "        df['MV501_attack'][i] = 1\n",
        "    if(date > real_deb_P301 and date < real_fin_P301):\n",
        "        df['P301_attack'][i] = 1\n",
        "\n",
        "    i += 1\n",
        "\n",
        "\n",
        "# Pour finir, on change le type de colonnes de int vers object\n",
        "for c in cat_attack:\n",
        "  df[c] = df[c].astype(str).astype(object)"
      ],
      "id": "meaningful-paradise",
      "execution_count": 23,
      "outputs": [
        {
          "output_type": "stream",
          "name": "stderr",
          "text": [
            "/usr/local/lib/python3.7/dist-packages/ipykernel_launcher.py:12: SettingWithCopyWarning: \n",
            "A value is trying to be set on a copy of a slice from a DataFrame\n",
            "\n",
            "See the caveats in the documentation: https://pandas.pydata.org/pandas-docs/stable/user_guide/indexing.html#returning-a-view-versus-a-copy\n",
            "  if sys.path[0] == '':\n",
            "/usr/local/lib/python3.7/dist-packages/ipykernel_launcher.py:14: SettingWithCopyWarning: \n",
            "A value is trying to be set on a copy of a slice from a DataFrame\n",
            "\n",
            "See the caveats in the documentation: https://pandas.pydata.org/pandas-docs/stable/user_guide/indexing.html#returning-a-view-versus-a-copy\n",
            "  \n",
            "/usr/local/lib/python3.7/dist-packages/ipykernel_launcher.py:16: SettingWithCopyWarning: \n",
            "A value is trying to be set on a copy of a slice from a DataFrame\n",
            "\n",
            "See the caveats in the documentation: https://pandas.pydata.org/pandas-docs/stable/user_guide/indexing.html#returning-a-view-versus-a-copy\n",
            "  app.launch_new_instance()\n",
            "/usr/local/lib/python3.7/dist-packages/ipykernel_launcher.py:18: SettingWithCopyWarning: \n",
            "A value is trying to be set on a copy of a slice from a DataFrame\n",
            "\n",
            "See the caveats in the documentation: https://pandas.pydata.org/pandas-docs/stable/user_guide/indexing.html#returning-a-view-versus-a-copy\n",
            "/usr/local/lib/python3.7/dist-packages/ipykernel_launcher.py:20: SettingWithCopyWarning: \n",
            "A value is trying to be set on a copy of a slice from a DataFrame\n",
            "\n",
            "See the caveats in the documentation: https://pandas.pydata.org/pandas-docs/stable/user_guide/indexing.html#returning-a-view-versus-a-copy\n",
            "/usr/local/lib/python3.7/dist-packages/ipykernel_launcher.py:22: SettingWithCopyWarning: \n",
            "A value is trying to be set on a copy of a slice from a DataFrame\n",
            "\n",
            "See the caveats in the documentation: https://pandas.pydata.org/pandas-docs/stable/user_guide/indexing.html#returning-a-view-versus-a-copy\n"
          ]
        }
      ]
    },
    {
      "cell_type": "markdown",
      "metadata": {
        "id": "after-compatibility"
      },
      "source": [
        "# Matrices de correlation\n",
        "\n",
        "Nous créons un dossier ou les matrices de correlation seront stockées"
      ],
      "id": "after-compatibility"
    },
    {
      "cell_type": "code",
      "metadata": {
        "id": "female-receptor"
      },
      "source": [
        "if not os.path.exists('./corrMat'):\n",
        "  os.mkdir('./corrMat')\n",
        "\n",
        "folderImg = './corrMat'"
      ],
      "id": "female-receptor",
      "execution_count": 27,
      "outputs": []
    },
    {
      "cell_type": "code",
      "metadata": {
        "id": "knowing-british"
      },
      "source": [
        "pre_attack = df.loc[df['timestamp'] < real_deb_FIT401]\n",
        "\n",
        "pre_attack_correlation_mat = pre_attack.corr()\n",
        "plt.figure(figsize=(11,9))\n",
        "sns.heatmap(pre_attack_correlation_mat)\n",
        "\n",
        "img = 'preAttack.png'\n",
        "plt.title('Correlation Matrix before attacks')\n",
        "plt.xlabel('')\n",
        "plt.ylabel('')\n",
        "plt.savefig(os.path.join(folderImg, img),facecolor='lightgrey',edgecolor='black', transparent=False,bbox_inches='tight')\n",
        "\n",
        "# Pour ne pas afficher directement la matrice de correlation, on fait:\n",
        "plt.close()"
      ],
      "id": "knowing-british",
      "execution_count": 28,
      "outputs": []
    },
    {
      "cell_type": "code",
      "metadata": {
        "id": "conscious-mount"
      },
      "source": [
        "# Matrice de correlation pendant l'attaque sur FIT 401\n",
        "pdtFit401Attack = df.loc[(df['timestamp'] > real_deb_FIT401) &\\\n",
        "                         (df['timestamp'] < real_fin_FIT401)]\n",
        "\n",
        "pdtFit401Attack_corr = pdtFit401Attack.corr()\n",
        "plt.figure(figsize=(11,9))\n",
        "\n",
        "sns.heatmap(pdtFit401Attack_corr)\n",
        "img = 'pdtFit401Attack.png'\n",
        "plt.title('Correlation Matrix during FIT401 Attack')\n",
        "plt.xlabel('')\n",
        "plt.ylabel('')\n",
        "plt.savefig(os.path.join(folderImg, img),facecolor='lightgrey',edgecolor='black', transparent=False,bbox_inches='tight')\n",
        "plt.close()"
      ],
      "id": "conscious-mount",
      "execution_count": 29,
      "outputs": []
    },
    {
      "cell_type": "code",
      "metadata": {
        "id": "inside-stadium"
      },
      "source": [
        "# Matrice de correlation entre l'attaque sur FIT 401 et LIT 301\n",
        "entreFit401_Lit301 = df.loc[(df['timestamp'] > real_fin_FIT401) &\\\n",
        "                            (df['timestamp'] < real_deb_LIT301)]\n",
        "                        \n",
        "entreFit401_Lit301_corr = entreFit401_Lit301.corr()\n",
        "plt.figure(figsize=(11,9))\n",
        "sns.heatmap(entreFit401_Lit301_corr)\n",
        "\n",
        "img = 'entreFit401_Lit301.png'\n",
        "plt.title('Correlation Matrix between FIT401 attack and LIT301 Attack')\n",
        "plt.xlabel('')\n",
        "plt.ylabel('')\n",
        "plt.savefig(os.path.join(folderImg, img),facecolor='lightgrey',edgecolor='black', transparent=False,bbox_inches='tight')\n",
        "plt.close()"
      ],
      "id": "inside-stadium",
      "execution_count": 30,
      "outputs": []
    },
    {
      "cell_type": "code",
      "metadata": {
        "id": "friendly-prague"
      },
      "source": [
        "# Matrice de correlation pendant l'attaque sur LIT 301\n",
        "pdtLit301Attack = df.loc[(df['timestamp'] > real_deb_LIT301) &\\\n",
        "                         (df['timestamp'] < real_fin_LIT301)]\n",
        "\n",
        "pdtLit301Attack_corr = pdtLit301Attack.corr()\n",
        "plt.figure(figsize=(11,9))\n",
        "sns.heatmap(pdtLit301Attack_corr)\n",
        "\n",
        "img = 'pdtLit301Attack.png'\n",
        "plt.title('Correlation Matrix during LIT301 Attack')\n",
        "plt.xlabel('')\n",
        "plt.ylabel('')\n",
        "plt.savefig(os.path.join(folderImg, img),facecolor='lightgrey',edgecolor='black', transparent=False,bbox_inches='tight')\n",
        "plt.close()"
      ],
      "id": "friendly-prague",
      "execution_count": 31,
      "outputs": []
    },
    {
      "cell_type": "code",
      "metadata": {
        "id": "faced-malta"
      },
      "source": [
        "# Matrice de correlation entre l'attaque sur LIT 301 et P601\n",
        "entreLit301_P601 = df.loc[(df['timestamp'] > real_fin_LIT301) &\\\n",
        "                            (df['timestamp'] < real_deb_P601)]\n",
        "                        \n",
        "entreLit301_P601_corr = entreLit301_P601.corr()\n",
        "plt.figure(figsize=(11,9))\n",
        "sns.heatmap(entreLit301_P601_corr)\n",
        "\n",
        "img = 'entreLit301_P601.png'\n",
        "plt.title('Correlation Matrix between Lit301 attack and P601 Attack')\n",
        "plt.xlabel('')\n",
        "plt.ylabel('')\n",
        "plt.savefig(os.path.join(folderImg, img),facecolor='lightgrey',edgecolor='black', transparent=False,bbox_inches='tight')\n",
        "plt.close()"
      ],
      "id": "faced-malta",
      "execution_count": 32,
      "outputs": []
    },
    {
      "cell_type": "code",
      "metadata": {
        "id": "first-liabilities"
      },
      "source": [
        "# Matrice de correlation pendant l'attaque sur P601\n",
        "pdtP601Attack = df.loc[(df['timestamp'] > real_deb_P601) &\\\n",
        "                         (df['timestamp'] < real_fin_P601)]\n",
        "\n",
        "pdtP601Attack_corr = pdtP601Attack.corr()\n",
        "plt.figure(figsize=(11,9))\n",
        "sns.heatmap(pdtP601Attack_corr)\n",
        "\n",
        "img = 'pdtP601Attack.png'\n",
        "plt.title('Correlation Matrix during P601 Attack')\n",
        "plt.xlabel('')\n",
        "plt.ylabel('')\n",
        "plt.savefig(os.path.join(folderImg, img),facecolor='lightgrey',edgecolor='black', transparent=False,bbox_inches='tight')\n",
        "plt.close()"
      ],
      "id": "first-liabilities",
      "execution_count": 33,
      "outputs": []
    },
    {
      "cell_type": "code",
      "metadata": {
        "id": "prostate-hamilton"
      },
      "source": [
        "# Matrice de correlation entre l'attaque sur P601 et l'ataque MultiPoint\n",
        "entreP601_Mp = df.loc[(df['timestamp'] > real_fin_P601) &\\\n",
        "                            (df['timestamp'] < real_deb_MultiPoint)]\n",
        "                        \n",
        "entreP601_Mp_corr = entreP601_Mp.corr()\n",
        "plt.figure(figsize=(11,9))\n",
        "sns.heatmap(entreP601_Mp_corr)\n",
        "\n",
        "img = 'entreP601_Mp.png'\n",
        "plt.title('Correlation Matrix between P601 attack and multipoint Attack')\n",
        "plt.xlabel('')\n",
        "plt.ylabel('')\n",
        "plt.savefig(os.path.join(folderImg, img),facecolor='lightgrey',edgecolor='black', transparent=False,bbox_inches='tight')\n",
        "plt.close()"
      ],
      "id": "prostate-hamilton",
      "execution_count": 34,
      "outputs": []
    },
    {
      "cell_type": "code",
      "metadata": {
        "id": "understood-order"
      },
      "source": [
        "# Matrice de correlation pendant l'attaque MultiPoint\n",
        "pdtMultiPointAttack = df.loc[(df['timestamp'] > real_deb_MultiPoint) &\\\n",
        "                         (df['timestamp'] < real_fin_MultiPoint)]\n",
        "\n",
        "pdtMultiPointAttack_corr = pdtMultiPointAttack.corr()\n",
        "plt.figure(figsize=(11,9))\n",
        "sns.heatmap(pdtMultiPointAttack_corr)\n",
        "\n",
        "img = 'pdtMultiPointAttack.png'\n",
        "plt.title('Correlation Matrix during Multipoint Attack')\n",
        "plt.xlabel('')\n",
        "plt.ylabel('')\n",
        "plt.savefig(os.path.join(folderImg, img),facecolor='lightgrey',edgecolor='black', transparent=False,bbox_inches='tight')\n",
        "plt.close()"
      ],
      "id": "understood-order",
      "execution_count": 35,
      "outputs": []
    },
    {
      "cell_type": "code",
      "metadata": {
        "id": "antique-diamond"
      },
      "source": [
        "# Matrice de correlation entre l'attaque Multi Point et l'attaque sur MV501\n",
        "entreMp_MV501 = df.loc[(df['timestamp'] > real_fin_MultiPoint) &\\\n",
        "                            (df['timestamp'] < real_deb_MV501)]\n",
        "                        \n",
        "entreMp_MV501_corr = entreMp_MV501.corr()\n",
        "plt.figure(figsize=(11,9))\n",
        "sns.heatmap(entreMp_MV501_corr)\n",
        "\n",
        "img = 'entreMp_MV501.png'\n",
        "plt.title('Correlation Matrix between multipoint attack and MV501 Attack')\n",
        "plt.xlabel('')\n",
        "plt.ylabel('')\n",
        "plt.savefig(os.path.join(folderImg, img),facecolor='lightgrey',edgecolor='black', transparent=False,bbox_inches='tight')\n",
        "plt.close()\n"
      ],
      "id": "antique-diamond",
      "execution_count": 36,
      "outputs": []
    },
    {
      "cell_type": "code",
      "metadata": {
        "id": "exciting-turkey"
      },
      "source": [
        "# Matrice de correlation pendant l'attaque MV501\n",
        "pdtMV501Attack = df.loc[(df['timestamp'] > real_deb_MV501) &\\\n",
        "                         (df['timestamp'] < real_fin_MV501)]\n",
        "\n",
        "pdtMV501Attack_corr = pdtMV501Attack.corr()\n",
        "plt.figure(figsize=(11,9))\n",
        "sns.heatmap(pdtMV501Attack_corr)\n",
        "\n",
        "img = 'pdtMV501Attack.png'\n",
        "plt.title('Correlation Matrix during MV501 Attack')\n",
        "plt.xlabel('')\n",
        "plt.ylabel('')\n",
        "plt.savefig(os.path.join(folderImg, img),facecolor='lightgrey',edgecolor='black', transparent=False,bbox_inches='tight')\n",
        "plt.close()"
      ],
      "id": "exciting-turkey",
      "execution_count": 37,
      "outputs": []
    },
    {
      "cell_type": "code",
      "metadata": {
        "id": "objective-daniel"
      },
      "source": [
        "# Matrice de correlation entre l'attaque sur MV501 et sur P301\n",
        "entreMV501_P301 = df.loc[(df['timestamp'] > real_fin_MV501) &\\\n",
        "                            (df['timestamp'] < real_deb_P301)]\n",
        "                        \n",
        "entreMV501_P301_corr = entreMV501_P301.corr()\n",
        "plt.figure(figsize=(11,9))\n",
        "sns.heatmap(entreMV501_P301_corr)\n",
        "\n",
        "img = 'entreMV501_P301.png'\n",
        "plt.title('Correlation Matrix between MV501 and P301 Attack')\n",
        "plt.xlabel('')\n",
        "plt.ylabel('')\n",
        "plt.savefig(os.path.join(folderImg, img),facecolor='lightgrey',edgecolor='black', transparent=False,bbox_inches='tight')\n",
        "plt.close()"
      ],
      "id": "objective-daniel",
      "execution_count": 38,
      "outputs": []
    },
    {
      "cell_type": "code",
      "metadata": {
        "id": "recognized-thesis"
      },
      "source": [
        "# Matrice de correlation pendant l'attaque sur P301\n",
        "pdtP301Attack = df.loc[(df['timestamp'] > real_deb_P301) &\\\n",
        "                         (df['timestamp'] < real_fin_P301)]\n",
        "\n",
        "pdtP301Attack_corr = pdtP301Attack.corr()\n",
        "plt.figure(figsize=(11,9))\n",
        "sns.heatmap(pdtP301Attack_corr)\n",
        "\n",
        "img = 'pdtP301Attack.png'\n",
        "plt.title('Correlation Matrix during P301 Attack')\n",
        "plt.xlabel('')\n",
        "plt.ylabel('')\n",
        "plt.savefig(os.path.join(folderImg, img),facecolor='lightgrey',edgecolor='black', transparent=False,bbox_inches='tight')\n",
        "plt.close()"
      ],
      "id": "recognized-thesis",
      "execution_count": 39,
      "outputs": []
    },
    {
      "cell_type": "code",
      "metadata": {
        "id": "packed-somerset"
      },
      "source": [
        "# Matrice de correlation apres toutes les attaques\n",
        "apresAttack = df.loc[df['timestamp']> real_fin_P301]\n",
        "\n",
        "apresAttack_corr = apresAttack.corr()\n",
        "plt.figure(figsize=(11,9))\n",
        "sns_plot=sns.heatmap(apresAttack_corr)\n",
        "\n",
        "img = 'apresAttack.png'\n",
        "plt.title('Correlation Matrix after all attack')\n",
        "plt.xlabel('')\n",
        "plt.ylabel('')\n",
        "plt.savefig(os.path.join(folderImg, img),facecolor='lightgrey',edgecolor='black', transparent=False,bbox_inches='tight')\n",
        "\n",
        "plt.close()"
      ],
      "id": "packed-somerset",
      "execution_count": 40,
      "outputs": []
    },
    {
      "cell_type": "code",
      "metadata": {
        "colab": {
          "base_uri": "https://localhost:8080/"
        },
        "id": "royal-posting",
        "outputId": "6ffed13e-4b96-4956-bc2b-e84290a05b50"
      },
      "source": [
        "# Matrice de correlation, toutes les données avec les labels d'attaques\n",
        "bla = df.copy()\n",
        "bla['FIT401_attack'] = bla['FIT401_attack'].astype(float)\n",
        "bla['LIT301_attack'] = bla['LIT301_attack'].astype(float)\n",
        "bla['P601_attack'] = bla['P601_attack'].astype(float)\n",
        "bla['MultiPoint_attack'] = bla['MultiPoint_attack'].astype(float)\n",
        "bla['MV501_attack'] = bla['MV501_attack'].astype(float)\n",
        "bla['P301_attack'] = bla['P301_attack'].astype(float)\n",
        "\n",
        "print(bla['FIT401_attack'].dtypes)\n",
        "bla_corr = bla.corr()\n",
        "plt.figure(figsize=(11,9))\n",
        "sns.heatmap(bla_corr)\n",
        "\n",
        "img = 'toutesDonnesAvecLabel.png'\n",
        "plt.title('Correlation Matrix on all datas and on attacks ')\n",
        "plt.xlabel('')\n",
        "plt.ylabel('')\n",
        "plt.savefig(os.path.join(folderImg, img),facecolor='lightgrey',edgecolor='black', transparent=False,bbox_inches='tight')\n",
        "\n",
        "\n",
        "plt.close()"
      ],
      "id": "royal-posting",
      "execution_count": 41,
      "outputs": [
        {
          "output_type": "stream",
          "name": "stdout",
          "text": [
            "float64\n"
          ]
        }
      ]
    },
    {
      "cell_type": "markdown",
      "metadata": {
        "id": "legal-homeless"
      },
      "source": [
        "# Plot des graphiques avec affichages des timezones d'attaques (données correctes)\n",
        "\n",
        "Nous créons un dossier ou les bonnes timezones seront stockées"
      ],
      "id": "legal-homeless"
    },
    {
      "cell_type": "code",
      "metadata": {
        "id": "french-asthma"
      },
      "source": [
        "if not os.path.exists('./good_timezones'):\n",
        "  os.mkdir('./good_timezones')\n",
        "\n",
        "folderImg = './good_timezones'"
      ],
      "id": "french-asthma",
      "execution_count": 42,
      "outputs": []
    },
    {
      "cell_type": "code",
      "metadata": {
        "colab": {
          "base_uri": "https://localhost:8080/"
        },
        "id": "lyric-proof",
        "outputId": "613b6aa6-9a44-4748-e620-b71252dcc51e"
      },
      "source": [
        "_deb_FIT401 = real_deb_FIT401\n",
        "_fin_FIT401 = real_fin_FIT401\n",
        "\n",
        "_deb_LIT301 = real_deb_LIT301\n",
        "_fin_LIT301 = real_fin_LIT301\n",
        "\n",
        "_deb_P601 = real_deb_P601\n",
        "_fin_P601 = real_fin_P601\n",
        "\n",
        "_deb_MultiPoint = real_deb_MultiPoint\n",
        "_fin_MultiPoint = real_fin_MultiPoint\n",
        "\n",
        "_deb_MV501 = real_deb_MV501\n",
        "_fin_MV501 = real_fin_MV501\n",
        "\n",
        "_deb_P301 = real_deb_P301\n",
        "_fin_P301 = real_fin_P301\n",
        "\n",
        "# specify a date to use for the times\n",
        "zero = pd.datetime(1,1,1)\n",
        "time = [zero + t for t in df['timestamp']]\n",
        "\n",
        "\n",
        "_deb_FIT401 += zero\n",
        "_fin_FIT401 += zero\n",
        "\n",
        "_deb_LIT301 += zero\n",
        "_fin_LIT301 += zero\n",
        "\n",
        "_deb_P601 += zero\n",
        "_fin_P601 += zero\n",
        "\n",
        "_deb_MultiPoint += zero\n",
        "_fin_MultiPoint += zero\n",
        "\n",
        "_deb_MV501 += zero\n",
        "_fin_MV501 += zero\n",
        "\n",
        "_deb_P301 += zero\n",
        "_fin_P301 += zero\n",
        "\n",
        "# convert datetimes to numbers\n",
        "zero = mdates.date2num(zero)\n",
        "time = [t-zero for t in mdates.date2num(time)]\n",
        "_deb_FIT401 = mdates.date2num(_deb_FIT401) - zero\n",
        "_fin_FIT401 = mdates.date2num(_fin_FIT401) - zero\n",
        "\n",
        "_deb_LIT301 = mdates.date2num(_deb_LIT301) - zero\n",
        "_fin_LIT301 = mdates.date2num(_fin_LIT301) - zero\n",
        "\n",
        "_deb_P601 = mdates.date2num(_deb_P601) - zero\n",
        "_fin_P601 = mdates.date2num(_fin_P601) - zero\n",
        "\n",
        "_deb_MultiPoint = mdates.date2num(_deb_MultiPoint) - zero\n",
        "_fin_MultiPoint = mdates.date2num(_fin_MultiPoint) - zero\n",
        "\n",
        "_deb_MV501 = mdates.date2num(_deb_MV501) - zero\n",
        "_fin_MV501 = mdates.date2num(_fin_MV501) - zero\n",
        "\n",
        "_deb_P301 = mdates.date2num(_deb_P301) - zero\n",
        "_fin_P301 = mdates.date2num(_fin_P301) - zero\n",
        "\n",
        "#add data to plots\n",
        "print(len(num_list))\n",
        "for i in range(0,len(num_list)):\n",
        "    fig, axs = plt.subplots()\n",
        "    axs.title.set_text(num_list[i])\n",
        "    axs.plot_date(time, df[num_list[i]],'b-')\n",
        "    axs.axvspan(_deb_FIT401,_fin_FIT401, facecolor='pink',alpha=0.5)# FIT401 atk\n",
        "    axs.axvspan(_deb_LIT301,_fin_LIT301, facecolor='pink',alpha=0.5)# LIT301_atk\n",
        "    axs.axvspan(_deb_P601,_fin_P601, facecolor='pink',alpha=0.5)# P601_atk\n",
        "    axs.axvspan(_deb_MultiPoint,_fin_MultiPoint, facecolor='pink',alpha=0.5)# Multipoint_atk\n",
        "    axs.axvspan(_deb_MV501,_fin_MV501, facecolor='pink',alpha=0.5)# MV501_atk\n",
        "    axs.axvspan(_deb_P301,_fin_P301, facecolor='pink',alpha=0.5)# P301_atk\n",
        "    \n",
        "    plt.xticks(rotation=-35, ha='left', rotation_mode='anchor')\n",
        "    plt.savefig('./good_timezones/' + num_list[i] + '.jpg', dpi=150, bbox_inches='tight')\n",
        "    plt.close(fig)"
      ],
      "id": "lyric-proof",
      "execution_count": 43,
      "outputs": [
        {
          "output_type": "stream",
          "name": "stderr",
          "text": [
            "/usr/local/lib/python3.7/dist-packages/ipykernel_launcher.py:20: FutureWarning: The pandas.datetime class is deprecated and will be removed from pandas in a future version. Import from datetime module instead.\n"
          ]
        },
        {
          "output_type": "stream",
          "name": "stdout",
          "text": [
            "27\n"
          ]
        }
      ]
    },
    {
      "cell_type": "markdown",
      "metadata": {
        "id": "integrated-freeze"
      },
      "source": [
        "# Algorithmes de detection d'anomalies"
      ],
      "id": "integrated-freeze"
    },
    {
      "cell_type": "markdown",
      "metadata": {
        "id": "preceding-capacity"
      },
      "source": [
        "## - Isolation Forest\n",
        "\n",
        "On ajoute une colonne isAttack qui servira de label pour généraliser les attaques. Si lors de l'observation, le systeme est attaqué (FIT401, LIT301 etc.), isAttack sera à 1, 0 sinon."
      ],
      "id": "preceding-capacity"
    },
    {
      "cell_type": "code",
      "metadata": {
        "id": "distinguished-belle"
      },
      "source": [
        "df['isAttack'] = ((df['FIT401_attack']=='1') | (df['LIT301_attack']=='1') | \\\n",
        "                  (df['P601_attack']=='1') | (df['MultiPoint_attack']=='1') |\\\n",
        "                  (df['MV501_attack']=='1') | (df['P301_attack']=='1'))\n",
        "                                               \n",
        "df['isAttack'] = df['isAttack'].replace({True:1, False:0})\n",
        "df['isAttack'] = df['isAttack'].astype(str).astype(object)\n"
      ],
      "id": "distinguished-belle",
      "execution_count": null,
      "outputs": []
    },
    {
      "cell_type": "code",
      "metadata": {
        "id": "capital-amazon"
      },
      "source": [
        "# On définit X et Y qu'on utilisera pour fit le classifieur\n",
        "X = df.drop(['timestamp','FIT401_attack','LIT301_attack','P601_attack','MultiPoint_attack',\\\n",
        "             'MV501_attack','P301_attack','isAttack'], axis=1)\n",
        "Y = df[['isAttack']]\n",
        "\n",
        "# On replace tous les espaces dans les noms des colonnes par des '_'\n",
        "X.rename(columns = lambda x: x.replace(' ', '_'), inplace=True)"
      ],
      "id": "capital-amazon",
      "execution_count": null,
      "outputs": []
    },
    {
      "cell_type": "code",
      "metadata": {
        "id": "rising-textbook"
      },
      "source": [
        "# On one-hot toutes les colonnes catégoriques de X\n",
        "cat_list_X = X.select_dtypes(include=['object'])\n",
        "\n",
        "for i in cat_list_X:\n",
        "  oneHotEnc = pd.get_dummies(X[i], prefix=i)\n",
        "  X = pd.concat([X, oneHotEnc], axis=1)\n",
        "  X = X.drop(i, axis=1)"
      ],
      "id": "rising-textbook",
      "execution_count": null,
      "outputs": []
    },
    {
      "cell_type": "markdown",
      "metadata": {
        "id": "automotive-merchandise"
      },
      "source": [
        "### Definition des paramètres du modèle"
      ],
      "id": "automotive-merchandise"
    },
    {
      "cell_type": "code",
      "metadata": {
        "id": "intense-operation"
      },
      "source": [
        "from sklearn.ensemble import IsolationForest\n",
        "\n",
        "rng = np.random.RandomState(99)\n",
        "#Dans le jeu de données, on a 2053 observations qui sont labélisées 1 sur\n",
        "#'isAttack' et en tout nous avons 14996 observations donc ça fait \n",
        "#13.69032% de outliers\n",
        "outlier_fraction=0.1369\n",
        "nb_samples = len(df)\n",
        "\n",
        "clf = IsolationForest(max_samples = nb_samples, contamination=outlier_fraction,\\\n",
        "                      random_state=rng)"
      ],
      "id": "intense-operation",
      "execution_count": null,
      "outputs": []
    },
    {
      "cell_type": "markdown",
      "metadata": {
        "id": "identified-daily"
      },
      "source": [
        "### Entrainement et prédiction du modèle"
      ],
      "id": "identified-daily"
    },
    {
      "cell_type": "code",
      "metadata": {
        "id": "prepared-vanilla"
      },
      "source": [
        "clf.fit(X)\n",
        "ifOutliers = clf.predict(X)"
      ],
      "id": "prepared-vanilla",
      "execution_count": null,
      "outputs": []
    },
    {
      "cell_type": "markdown",
      "metadata": {
        "id": "informed-georgia"
      },
      "source": [
        "### Evaluation de l'éfficacité d'isolation forest"
      ],
      "id": "informed-georgia"
    },
    {
      "cell_type": "code",
      "metadata": {
        "id": "protected-physics"
      },
      "source": [
        "from sklearn.metrics import average_precision_score\n",
        "from sklearn.metrics import precision_recall_curve\n",
        "from sklearn.metrics import roc_curve, auc\n",
        "compTab =  Y.copy()\n",
        "compTab['ifOutliers'] = ifOutliers\n",
        "\n",
        "nbAnomalies = len(compTab.loc[compTab['isAttack']=='1'])\n",
        "nbTruePos = len(compTab.loc[(compTab['isAttack']=='1') &\\\n",
        "                            (compTab['ifOutliers']==-1)])\n",
        "print(\"Le nombre d'anomalies au total est: \" + str(nbAnomalies)+\"\\n\")\n",
        "print(\"Le nombre de vrais positifs est: \" + str(nbTruePos)+ \"\\n\")\n",
        "print(\"Le taux de detections correctes est de: \" + \\\n",
        "      str(nbTruePos*100/nbAnomalies) +\"%\\n\")\n",
        "\n",
        "#AUPRC (Area Under the Precision-Recall Curve)\n",
        "#print([int(label) for label in RFOutliers ], y_test)\n",
        "print('AUPRC = {}'.format(average_precision_score(y_true=compTab['isAttack'],\\\n",
        "                                                y_score=compTab['ifOutliers'],\\\n",
        "                                                pos_label='1')))\n",
        "precision, recall, thresholds = precision_recall_curve(compTab['isAttack'],\\\n",
        "                                                      compTab['ifOutliers'],\\\n",
        "                                                      pos_label='1')\n",
        "\n",
        "plt.figure(figsize=(9,7))\n",
        "plt.title(\"AUPRC isolation forest\")\n",
        "plt.plot(recall, precision, lw=2.0)\n",
        "#ROC (Receiver Operating Characteristic)\n",
        "fpr, tpr, thresholds = roc_curve(compTab['isAttack'], compTab['ifOutliers'] , pos_label='1')\n",
        "roc_auc = auc(fpr, tpr)\n",
        "# plt.figure(figsize=(9,7))\n",
        "# plt.plot(fpr, tpr, lw=2.0)\n",
        "plt.figure(figsize=(10,7))\n",
        "lw = 2\n",
        "plt.plot(fpr, tpr, color='darkorange', lw=lw)\n",
        "plt.plot([0, 1], [0, 1], color='navy', lw=lw, linestyle='--')\n",
        "plt.xlim([-0.02, 1.0])\n",
        "plt.ylim([0.0, 1.05])\n",
        "plt.xlabel('False Positive Rate')\n",
        "plt.ylabel('True Positive Rate')\n",
        "plt.title('ROC curve  isolation forest')\n",
        "plt.show()"
      ],
      "id": "protected-physics",
      "execution_count": null,
      "outputs": []
    },
    {
      "cell_type": "markdown",
      "metadata": {
        "id": "altered-transparency"
      },
      "source": [
        "## Local Outlier Factor (LOF)\n",
        "### Definition des paramètres du modèle"
      ],
      "id": "altered-transparency"
    },
    {
      "cell_type": "code",
      "metadata": {
        "id": "treated-distribution"
      },
      "source": [
        "from sklearn.neighbors import LocalOutlierFactor\n",
        "\n",
        "# On peut faire varier n_neighbors pour obtenir des taux de detection\n",
        "# differents, pour 5000 le taux de detection etait le plus elevé\n",
        "clf = LocalOutlierFactor(n_neighbors=5000)"
      ],
      "id": "treated-distribution",
      "execution_count": null,
      "outputs": []
    },
    {
      "cell_type": "markdown",
      "metadata": {
        "id": "likely-grocery"
      },
      "source": [
        "### Entrainement et prédiction du modèle"
      ],
      "id": "likely-grocery"
    },
    {
      "cell_type": "code",
      "metadata": {
        "id": "utility-attraction"
      },
      "source": [
        "lofOutliers = clf.fit_predict(X)"
      ],
      "id": "utility-attraction",
      "execution_count": null,
      "outputs": []
    },
    {
      "cell_type": "markdown",
      "metadata": {
        "id": "congressional-reservation"
      },
      "source": [
        "### Evaluation de l'éfficacité de Local Outlier Factor"
      ],
      "id": "congressional-reservation"
    },
    {
      "cell_type": "code",
      "metadata": {
        "id": "incorrect-static"
      },
      "source": [
        "compTab['lofOutliers'] = lofOutliers\n",
        "\n",
        "nbTruePos = len(compTab.loc[(compTab['isAttack']=='1') &\\\n",
        "                            (compTab['lofOutliers']==-1)])\n",
        "print(\"Le nombre d'anomalies au total est: \" + str(nbAnomalies)+\"\\n\")\n",
        "print(\"Le nombre de vrais positifs est: \" + str(nbTruePos)+ \"\\n\")\n",
        "print(\"Le taux de detections correctes est de: \" + \\\n",
        "      str(nbTruePos*100/nbAnomalies) +\"%\\n\")\n",
        "\n",
        "#AUPRC (Area Under the Precision-Recall Curve)\n",
        "#print([int(label) for label in RFOutliers ], y_test)\n",
        "print('AUPRC = {}'.format(average_precision_score(y_true=compTab['isAttack'],\\\n",
        "                                                y_score=compTab['lofOutliers'],\\\n",
        "                                                pos_label='1')))\n",
        "precision, recall, thresholds = precision_recall_curve(compTab['isAttack'],\\\n",
        "                                                      compTab['lofOutliers'],\\\n",
        "                                                      pos_label='1')\n",
        "\n",
        "plt.figure(figsize=(9,7))\n",
        "plt.title(\"AUPRC local outlier factor\")\n",
        "plt.plot(recall, precision, lw=2.0)\n",
        "#ROC (Receiver Operating Characteristic)\n",
        "fpr, tpr, thresholds = roc_curve(compTab['isAttack'], compTab['lofOutliers'] , pos_label='1')\n",
        "roc_auc = auc(fpr, tpr)\n",
        "# plt.figure(figsize=(9,7))\n",
        "# plt.plot(fpr, tpr, lw=2.0)\n",
        "plt.figure(figsize=(10,7))\n",
        "lw = 2\n",
        "plt.plot(fpr, tpr, color='darkorange', lw=lw)\n",
        "plt.plot([0, 1], [0, 1], color='navy', lw=lw, linestyle='--')\n",
        "plt.xlim([-0.02, 1.0])\n",
        "plt.ylim([0.0, 1.05])\n",
        "plt.xlabel('False Positive Rate')\n",
        "plt.ylabel('True Positive Rate')\n",
        "plt.title('ROC curve  local outlier factor')\n",
        "plt.show()"
      ],
      "id": "incorrect-static",
      "execution_count": null,
      "outputs": []
    },
    {
      "cell_type": "markdown",
      "metadata": {
        "id": "answering-spencer"
      },
      "source": [
        "## Random Forest\n",
        "\n",
        "On modifie la profondeur maximale des arbres de decisions."
      ],
      "id": "answering-spencer"
    },
    {
      "cell_type": "code",
      "metadata": {
        "id": "operational-sweden"
      },
      "source": [
        "from sklearn.model_selection import train_test_split\n",
        "from sklearn.ensemble import RandomForestClassifier\n",
        "\n",
        "\n",
        "X_train, X_test, y_train, y_test = train_test_split(X, Y, test_size = 0.2,\\\n",
        "                                                    random_state=5)\n",
        "for i in range(2, 6):\n",
        "      clf = RandomForestClassifier(max_depth=i, random_state=0)\n",
        "      clf.fit(X_train, y_train)\n",
        "\n",
        "      RFOutliers = clf.predict(X_test)\n",
        "      compTab =  y_test.copy()\n",
        "      compTab['RFOutliers'] = RFOutliers\n",
        "      \n",
        "      nbAnomaliesTest = len(y_test.loc[y_test['isAttack']=='1'])\n",
        "\n",
        "      nbTruePos = len(compTab.loc[(compTab['isAttack']=='1') &\\\n",
        "                              (compTab['RFOutliers']=='1')])\n",
        "      print(\"----- Profondeur maximale des arbres de decisions = \" + str(i) + \" -----\")\n",
        "      print(\"Le nombre d'anomalies au total est: \" + str(nbAnomaliesTest)+\"\\n\")\n",
        "      print(\"Le nombre de vrais positifs est: \" + str(nbTruePos)+ \"\\n\")\n",
        "      print(\"Le taux de detections correctes est de: \" + \\\n",
        "            str(nbTruePos*100/nbAnomaliesTest) +\"%\\n\")\n",
        "      print(\"Le score est de: \" + \\\n",
        "            str(clf.score(X_test, y_test)))\n",
        "\n",
        "      #AUPRC (Area Under the Precision-Recall Curve)\n",
        "      #print([int(label) for label in RFOutliers ], y_test)\n",
        "      print('AUPRC = {}'.format(average_precision_score(y_true=y_test,\\\n",
        "                                                      y_score=[int(label) for label in RFOutliers ],\\\n",
        "                                                      pos_label='1')))\n",
        "      precision, recall, thresholds = precision_recall_curve(y_test,\\\n",
        "                                                            [int(label) for label in RFOutliers ],\\\n",
        "                                                            pos_label='1')\n",
        "\n",
        "      plt.figure(figsize=(9,7))\n",
        "      plt.title(\"AUPRC Profondeur maximale des arbres de decisions = \" + str(i))\n",
        "      plt.plot(recall, precision, lw=2.0)\n",
        "      #ROC (Receiver Operating Characteristic)\n",
        "      fpr, tpr, thresholds = roc_curve(y_test, [int(label) for label in RFOutliers ] , pos_label='1')\n",
        "      roc_auc = auc(fpr, tpr)\n",
        "      # plt.figure(figsize=(9,7))\n",
        "      # plt.plot(fpr, tpr, lw=2.0)\n",
        "      plt.figure(figsize=(10,7))\n",
        "      lw = 2\n",
        "      plt.plot(fpr, tpr, color='darkorange', lw=lw)\n",
        "      plt.plot([0, 1], [0, 1], color='navy', lw=lw, linestyle='--')\n",
        "      plt.xlim([-0.02, 1.0])\n",
        "      plt.ylim([0.0, 1.05])\n",
        "      plt.xlabel('False Positive Rate')\n",
        "      plt.ylabel('True Positive Rate')\n",
        "      plt.title('ROC curve  Profondeur maximale des arbres de decisions = ' + str(i))\n",
        "      plt.show()"
      ],
      "id": "operational-sweden",
      "execution_count": null,
      "outputs": []
    },
    {
      "cell_type": "markdown",
      "metadata": {
        "id": "sustained-tutorial"
      },
      "source": [
        "## XGBoost"
      ],
      "id": "sustained-tutorial"
    },
    {
      "cell_type": "markdown",
      "metadata": {
        "id": "affected-director"
      },
      "source": [
        "### Préparation des données"
      ],
      "id": "affected-director"
    },
    {
      "cell_type": "code",
      "metadata": {
        "id": "wooden-provider"
      },
      "source": [
        "from sklearn.model_selection import train_test_split\n",
        "\n",
        "X_train, X_test, y_train, y_test = train_test_split(X, Y, test_size = 0.2,\\\n",
        "                                                    random_state=5)"
      ],
      "id": "wooden-provider",
      "execution_count": null,
      "outputs": []
    },
    {
      "cell_type": "markdown",
      "metadata": {
        "id": "broad-arrest"
      },
      "source": [
        "### Définition des paramétres du modèle\n",
        "\n",
        "On ajoute un poids pour équilibrer les données car dans notre jeu de donnés nous avons 2053 observations qui ont isAttack=1 et 12943 observations qui ont isAttack = 0."
      ],
      "id": "broad-arrest"
    },
    {
      "cell_type": "code",
      "metadata": {
        "id": "brilliant-admission"
      },
      "source": [
        "from xgboost import XGBClassifier\n",
        "# nbr d'observations non attaque divisé par le nombre d'observations lors d'une attaque\n",
        "weights = (Y['isAttack']=='0').sum() / (1.0 * (Y['isAttack']=='1').sum())\n",
        "clf = XGBClassifier(max_depth = 3, scale_pos_weight=weights, n_jobs = 4)\n",
        "xgbTestOutliers = clf.fit(X_train,y_train).predict(X_test)\n",
        "probabilities = clf.predict_proba(X_test)"
      ],
      "id": "brilliant-admission",
      "execution_count": null,
      "outputs": []
    },
    {
      "cell_type": "markdown",
      "metadata": {
        "id": "vanilla-justice"
      },
      "source": [
        "### Evaluation de l'éfficacité d'xgboost"
      ],
      "id": "vanilla-justice"
    },
    {
      "cell_type": "code",
      "metadata": {
        "id": "usual-planner"
      },
      "source": [
        "compTab2 = y_test.copy()\n",
        "compTab2['xgbTestOutliers'] = xgbTestOutliers\n",
        "\n",
        "nbElts = len(y_test)\n",
        "nbAnomaliesTest = len(y_test.loc[y_test['isAttack']=='1'])\n",
        "nbTruePos = len(compTab2.loc[(compTab2['isAttack']=='1') &\\\n",
        "                             (compTab2['xgbTestOutliers']=='1')])\n",
        "print(\"Le nombre d'elements dans y_test est: \" + str(nbElts) +\"\\n\")\n",
        "print(\"Le nombre d'anomalies dans y_test est: \" + str(nbAnomaliesTest) + \"\\n\")\n",
        "print(\"Le nombre d'anomalies detectées par XGBoost: \" + str(nbTruePos) + \"\\n\")"
      ],
      "id": "usual-planner",
      "execution_count": null,
      "outputs": []
    },
    {
      "cell_type": "code",
      "metadata": {
        "id": "bibliographic-underwear"
      },
      "source": [
        "print(\"Pourcentage d'anomalies détectées par XGBoost par rapport au nombre réel d'anomalie : \" + str((nbTruePos/nbAnomaliesTest)*100) + \"%\")"
      ],
      "id": "bibliographic-underwear",
      "execution_count": null,
      "outputs": []
    },
    {
      "cell_type": "markdown",
      "metadata": {
        "id": "moving-anchor"
      },
      "source": [
        "# Visualisation des resultats et interpretation"
      ],
      "id": "moving-anchor"
    },
    {
      "cell_type": "markdown",
      "metadata": {
        "id": "about-shell"
      },
      "source": [
        "### Cover"
      ],
      "id": "about-shell"
    },
    {
      "cell_type": "code",
      "metadata": {
        "id": "offshore-cheese"
      },
      "source": [
        "from xgboost import plot_importance,  plot_tree\n",
        "\n",
        "# Affichage de l'importance des colonnes selon le cover\n",
        "fig = plt.figure(figsize=(14,9))\n",
        "ax = fig.add_subplot(111)\n",
        "\n",
        "colours = plt.cm.Set1(np.linspace(0,1,9))\n",
        "ax = plot_importance(clf, height=1, color=colours, grid=False, \\\n",
        "                     show_values=False, importance_type='cover', ax=ax)\n",
        "\n",
        "for axis in ['top', 'bottom', 'left', 'right']:\n",
        "  ax.spines[axis].set_linewidth(2)\n",
        "\n",
        "ax.set_xlabel('Importance score', size=16);\n",
        "ax.set_ylabel('Features', size=16);\n",
        "ax.set_yticklabels(ax.get_yticklabels(), size=12);\n",
        "ax.set_title('Ordering of features by importance to the model learnt ' \\\n",
        "             'using cover', size=20);"
      ],
      "id": "offshore-cheese",
      "execution_count": null,
      "outputs": []
    },
    {
      "cell_type": "markdown",
      "metadata": {
        "id": "finite-ecology"
      },
      "source": [
        "### Gain"
      ],
      "id": "finite-ecology"
    },
    {
      "cell_type": "code",
      "metadata": {
        "id": "bottom-color"
      },
      "source": [
        "# Affichage de l'importance des colonnes selon le gain\n",
        "fig = plt.figure(figsize=(14,9))\n",
        "ax = fig.add_subplot(111)\n",
        "\n",
        "colours = plt.cm.Set1(np.linspace(0,1,9))\n",
        "ax = plot_importance(clf, height=1, color=colours, grid=False, \\\n",
        "                     show_values=False, importance_type='gain', ax=ax)\n",
        "\n",
        "for axis in ['top', 'bottom', 'left', 'right']:\n",
        "  ax.spines[axis].set_linewidth(2)\n",
        "\n",
        "ax.set_xlabel('Importance score', size=16);\n",
        "ax.set_ylabel('Features', size=16);\n",
        "ax.set_yticklabels(ax.get_yticklabels(), size=12);\n",
        "ax.set_title('Ordering of features by importance to the model learnt ' \\\n",
        "             'using gain', size=20);"
      ],
      "id": "bottom-color",
      "execution_count": null,
      "outputs": []
    },
    {
      "cell_type": "markdown",
      "metadata": {
        "id": "consecutive-event"
      },
      "source": [
        "### Weight"
      ],
      "id": "consecutive-event"
    },
    {
      "cell_type": "code",
      "metadata": {
        "id": "comfortable-packing"
      },
      "source": [
        "# Affichage de l'importance des colonnes selon le weight\n",
        "fig = plt.figure(figsize=(14,9))\n",
        "ax = fig.add_subplot(111)\n",
        "\n",
        "colours = plt.cm.Set1(np.linspace(0,1,9))\n",
        "ax = plot_importance(clf, height=1, color=colours, grid=False, \\\n",
        "                     show_values=False, importance_type='weight', ax=ax)\n",
        "\n",
        "for axis in ['top', 'bottom', 'left', 'right']:\n",
        "  ax.spines[axis].set_linewidth(2)\n",
        "\n",
        "ax.set_xlabel('Importance score', size=16);\n",
        "ax.set_ylabel('Features', size=16);\n",
        "ax.set_yticklabels(ax.get_yticklabels(), size=12);\n",
        "ax.set_title('Ordering of features by importance to the model learnt ' \\\n",
        "             'using weight', size=20);"
      ],
      "id": "comfortable-packing",
      "execution_count": null,
      "outputs": []
    },
    {
      "cell_type": "markdown",
      "metadata": {
        "id": "bright-ethernet"
      },
      "source": [
        "# Arbre du classifieur"
      ],
      "id": "bright-ethernet"
    },
    {
      "cell_type": "code",
      "metadata": {
        "id": "absent-isaac"
      },
      "source": [
        "from xgboost import to_graphviz\n",
        "to_graphviz(clf)"
      ],
      "id": "absent-isaac",
      "execution_count": null,
      "outputs": []
    },
    {
      "cell_type": "markdown",
      "metadata": {
        "id": "reliable-subscriber"
      },
      "source": [
        "## Courbe AUPRC"
      ],
      "id": "reliable-subscriber"
    },
    {
      "cell_type": "code",
      "metadata": {
        "id": "raising-friend"
      },
      "source": [
        "#AUPRC (Area Under the Precision-Recall Curve)\n",
        "from sklearn.metrics import average_precision_score\n",
        "from sklearn.metrics import precision_recall_curve\n",
        "\n",
        "print('AUPRC = {}'.format(average_precision_score(y_true=y_test,\\\n",
        "                                                  y_score=probabilities[:,1],\\\n",
        "                                                  pos_label='1')))\n",
        "print(\"\\n\\n\\n\")\n",
        "precision, recall, thresholds = precision_recall_curve(y_test,\\\n",
        "                                                       probabilities[:,1],\\\n",
        "                                                       pos_label='1')\n",
        "\n",
        "plt.figure(figsize=(9,7))\n",
        "plt.title('Courbe AUPRC pour XGBoost')\n",
        "plt.plot(recall, precision, lw=2.0)"
      ],
      "id": "raising-friend",
      "execution_count": null,
      "outputs": []
    },
    {
      "cell_type": "markdown",
      "metadata": {
        "id": "brown-crash"
      },
      "source": [
        "## Courbe ROC"
      ],
      "id": "brown-crash"
    },
    {
      "cell_type": "code",
      "metadata": {
        "id": "distant-notification"
      },
      "source": [
        "#ROC (Receiver Operating Characteristic)\n",
        "from sklearn.metrics import roc_curve, auc\n",
        "fpr, tpr, thresholds = roc_curve(y_test, probabilities[:,1], pos_label='1')\n",
        "roc_auc = auc(fpr, tpr)\n",
        "# plt.figure(figsize=(9,7))\n",
        "# plt.plot(fpr, tpr, lw=2.0)\n",
        "plt.figure(figsize=(10,7))\n",
        "lw = 2\n",
        "plt.plot(fpr, tpr, color='darkorange', lw=lw)\n",
        "plt.plot([0, 1], [0, 1], color='navy', lw=lw, linestyle='--')\n",
        "plt.xlim([-0.02, 1.0])\n",
        "plt.ylim([0.0, 1.05])\n",
        "plt.xlabel('False Positive Rate')\n",
        "plt.ylabel('True Positive Rate')\n",
        "plt.title('ROC curve')\n",
        "plt.show()\n"
      ],
      "id": "distant-notification",
      "execution_count": null,
      "outputs": []
    },
    {
      "cell_type": "markdown",
      "metadata": {
        "id": "pleased-bleeding"
      },
      "source": [
        "# Interpretations"
      ],
      "id": "pleased-bleeding"
    },
    {
      "cell_type": "markdown",
      "metadata": {
        "id": "printable-ribbon"
      },
      "source": [
        "D'après ces résultats, nous pouvons conclure que l'attribut qui influence le plus grand nombre de prédictions (cover) est AIT 402 qui correspond à l'analyseur de NaHSO3 et de NaOCl dans la partie P4 du système de traitement.\n",
        "\n",
        "L'attribut le plus important et le plus discriminant (gain) pour les prédictions est aussi AIT 402.\n",
        "\n",
        "L'attribut qui est utilisé dans le plus grand nombre de splits dans les arbres de décision crées par XGBoost (weight) est LIT 301, qui correspond au detecteur de niveau d'eau dans le UF feed tank de la partie P3 du système de traitement.\n",
        "\n",
        "Donc pour améliorer la sécurité du système, il faudrait idéalement regarder de plus près et avec plus de soin les attributs AIT 402 et LIT 301."
      ],
      "id": "printable-ribbon"
    },
    {
      "cell_type": "markdown",
      "metadata": {
        "id": "sophisticated-transition"
      },
      "source": [
        "# Plot des données en 3D"
      ],
      "id": "sophisticated-transition"
    },
    {
      "cell_type": "code",
      "metadata": {
        "id": "ordered-consumption"
      },
      "source": [
        "import matplotlib.lines as mlines\n",
        "\n",
        "def show3D_data(X, Y, x_axis_name, y_axis_name, z_axis_name):\n",
        "  x=x_axis_name\n",
        "  y=y_axis_name\n",
        "  z=z_axis_name\n",
        "  zOffset = 0.02\n",
        "  limit=len(X)\n",
        "\n",
        "  sns.reset_orig() \n",
        "\n",
        "  fig = plt.figure(figsize=(10,12))\n",
        "  ax = fig.add_subplot(111,projection='3d')\n",
        "  ax.scatter(X.loc[Y['isAttack']=='0',x][:limit],\\\n",
        "             X.loc[Y['isAttack']=='0',y][:limit], \\\n",
        "             -np.log10(X.loc[Y['isAttack']=='0',z][:limit]+zOffset),\\\n",
        "             c='g', marker='.', s=1, label='genuine')\n",
        "  ax.scatter(X.loc[Y['isAttack']=='1',x][:limit],\\\n",
        "             X.loc[Y['isAttack']=='1',y][:limit],\\\n",
        "             -np.log10(X.loc[Y['isAttack']=='1',z][:limit] + zOffset),\\\n",
        "             c='r', marker='.', s=1, label='anomalies')\n",
        "  ax.set_xlabel(x,size=16);\n",
        "  ax.set_ylabel(y, size=16);\n",
        "  ax.set_zlabel('- log$_{10}$ (' +z+ ')', size=16)\n",
        "  ax.set_title('Plot of genuine data and anomalies base on 3 properties',\\\n",
        "               size=20)\n",
        "\n",
        "  plt.axis('tight')\n",
        "  ax.grid(1)\n",
        "\n",
        "  noAnomalyMaker = mlines.Line2D([], [], linewidth=0, color='g', marker='.',\\\n",
        "                               markersize=10, label='genuine')\n",
        "  anomalyMaker = mlines.Line2D([], [], linewidth=0, color='r', marker='.',\\\n",
        "                             markersize=10, label='anomalies')\n",
        "  \n",
        "  plt.legend(handles=[noAnomalyMaker, anomalyMaker], \\\n",
        "             bbox_to_anchor=(1.20, 0.38), frameon=False, prop={'size':16});"
      ],
      "id": "ordered-consumption",
      "execution_count": null,
      "outputs": []
    },
    {
      "cell_type": "code",
      "metadata": {
        "id": "indonesian-grace"
      },
      "source": [
        "show3D_data(X,Y,'LIT_301','AIT_402', 'P601_Status_1')"
      ],
      "id": "indonesian-grace",
      "execution_count": null,
      "outputs": []
    },
    {
      "cell_type": "markdown",
      "metadata": {
        "id": "chubby-reservation"
      },
      "source": [
        "#### Plot d'autres attributs importants"
      ],
      "id": "chubby-reservation"
    },
    {
      "cell_type": "code",
      "metadata": {
        "id": "monthly-generator"
      },
      "source": [
        "show3D_data(X,Y,'LIT_301','AIT_402', 'AIT_202')"
      ],
      "id": "monthly-generator",
      "execution_count": null,
      "outputs": []
    },
    {
      "cell_type": "markdown",
      "metadata": {
        "id": "artificial-investment"
      },
      "source": [
        "# PCA\n",
        "\n",
        "On créer un nouveau dataframe qui differencie les differentes attaques pour l'affichage."
      ],
      "id": "artificial-investment"
    },
    {
      "cell_type": "code",
      "metadata": {
        "id": "accepted-processing"
      },
      "source": [
        "new_y = pd.DataFrame(columns=['is_attack_detail'])\n",
        "\n",
        "for i in range(len(df)):\n",
        "    if (df.at[i,'FIT401_attack'] == '1'):\n",
        "        new_row = {'is_attack_detail':'1'}\n",
        "        new_y = new_y.append(new_row, ignore_index=True)\n",
        "    elif (df.at[i,'LIT301_attack'] == '1'):\n",
        "        new_row = {'is_attack_detail':'2'}\n",
        "        new_y = new_y.append(new_row, ignore_index=True)\n",
        "    elif (df.at[i,'P601_attack'] == '1'):\n",
        "        new_row = {'is_attack_detail':'3'}\n",
        "        new_y = new_y.append(new_row, ignore_index=True)\n",
        "    elif (df.at[i,'MultiPoint_attack'] == '1'):\n",
        "        new_row = {'is_attack_detail':'4'}\n",
        "        new_y = new_y.append(new_row, ignore_index=True)\n",
        "    elif (df.at[i,'MV501_attack'] == '1'):\n",
        "        new_row = {'is_attack_detail':'5'}\n",
        "        new_y = new_y.append(new_row, ignore_index=True)\n",
        "    elif (df.at[i,'P301_attack'] == '1'):\n",
        "        new_row = {'is_attack_detail':'6'}\n",
        "        new_y = new_y.append(new_row, ignore_index=True)\n",
        "    else:\n",
        "        new_row = {'is_attack_detail':'0'}\n",
        "        new_y = new_y.append(new_row, ignore_index=True)"
      ],
      "id": "accepted-processing",
      "execution_count": null,
      "outputs": []
    },
    {
      "cell_type": "code",
      "metadata": {
        "id": "attractive-wireless"
      },
      "source": [
        "from sklearn.decomposition import PCA\n",
        "\n",
        "pca = PCA(n_components = 2)\n",
        "\n",
        "pca_bis = pca.fit(X)\n",
        "\n",
        "principal_components = pca.fit_transform(X)\n",
        "\n",
        "principalDf = pd.DataFrame(data = principal_components, columns = ['principal component 1', 'principal component 2'])\n",
        "finalDf = pd.concat([principalDf, Y], axis = 1)\n",
        "finalDf = pd.concat([finalDf, new_y], axis = 1)\n",
        "finalDf.head()"
      ],
      "id": "attractive-wireless",
      "execution_count": null,
      "outputs": []
    },
    {
      "cell_type": "markdown",
      "metadata": {
        "id": "quantitative-enforcement"
      },
      "source": [
        "On affiche les données sur le plan de l'ACP en les différenciant selon 2 possibilités (attaque ou non)"
      ],
      "id": "quantitative-enforcement"
    },
    {
      "cell_type": "code",
      "metadata": {
        "id": "numerical-field"
      },
      "source": [
        "fig = plt.figure(figsize = (10,10))\n",
        "ax = fig.add_subplot(1,1,1) \n",
        "ax.set_xlabel('Principal Component 1: '+\"{:.2f}\".format(pca_bis.explained_variance_ratio_[0]*100)+'%', fontsize = 15)\n",
        "ax.set_ylabel('Principal Component 2: '+\"{:.2f}\".format(pca_bis.explained_variance_ratio_[1]*100)+'%', fontsize = 15)\n",
        "ax.set_title('2 component PCA', fontsize = 20)\n",
        "labels = ['0', '1']\n",
        "colors = ['b', 'r']\n",
        "for target, color in zip(labels,colors):\n",
        "    indicesToKeep = finalDf['isAttack'] == target\n",
        "    ax.scatter(finalDf.loc[indicesToKeep, 'principal component 1']\n",
        "               , finalDf.loc[indicesToKeep, 'principal component 2']\n",
        "               , c = color\n",
        "               , s = 10)\n",
        "ax.legend(labels)\n",
        "ax.grid()"
      ],
      "id": "numerical-field",
      "execution_count": null,
      "outputs": []
    },
    {
      "cell_type": "markdown",
      "metadata": {
        "id": "engaged-sharing"
      },
      "source": [
        "Ici on affiche les 6 attaques d'une couleur differente"
      ],
      "id": "engaged-sharing"
    },
    {
      "cell_type": "code",
      "metadata": {
        "id": "yellow-soviet"
      },
      "source": [
        "fig = plt.figure(figsize = (10,10))\n",
        "ax = fig.add_subplot(1,1,1) \n",
        "ax.set_xlabel('Principal Component 1: '+\"{:.2f}\".format(pca_bis.explained_variance_ratio_[0]*100)+'%', fontsize = 15)\n",
        "ax.set_ylabel('Principal Component 2: '+\"{:.2f}\".format(pca_bis.explained_variance_ratio_[1]*100)+'%', fontsize = 15)\n",
        "ax.set_title('2 component PCA + attacks visualisation', fontsize = 20)\n",
        "labels = ['0', '1', '2', '3', '4', '5', '6']\n",
        "colors = ['b', 'r', 'black', 'y', 'g', 'deepskyblue', 'deeppink']\n",
        "for target, color in zip(labels,colors):\n",
        "    indicesToKeep = finalDf['is_attack_detail'] == target\n",
        "    ax.scatter(finalDf.loc[indicesToKeep, 'principal component 1']\n",
        "               , finalDf.loc[indicesToKeep, 'principal component 2']\n",
        "               , c = color\n",
        "               , s = 10)\n",
        "ax.legend(labels)\n",
        "ax.grid()"
      ],
      "id": "yellow-soviet",
      "execution_count": null,
      "outputs": []
    },
    {
      "cell_type": "code",
      "metadata": {
        "id": "better-registrar"
      },
      "source": [
        "print(pca_bis.explained_variance_ratio_)\n",
        "print(str(round(pca_bis.explained_variance_ratio_.sum() * 100, 2)) + ' %')"
      ],
      "id": "better-registrar",
      "execution_count": null,
      "outputs": []
    },
    {
      "cell_type": "markdown",
      "metadata": {
        "id": "measured-cross"
      },
      "source": [
        "On voit que les 2 premieres composantes principales garde 92,94% de l'information ce qui nous semble correcte.\n",
        "\n",
        "### Cercle de correlation"
      ],
      "id": "measured-cross"
    },
    {
      "cell_type": "code",
      "metadata": {
        "id": "critical-requirement"
      },
      "source": [
        "(fig, ax) = plt.subplots(figsize=(8, 8))\n",
        "for i in range(0, pca_bis.components_.shape[1]):\n",
        "    ax.arrow(0,\n",
        "             0,\n",
        "             pca_bis.components_[0, i],\n",
        "             pca_bis.components_[1, i],\n",
        "             head_width=0.05,\n",
        "             head_length=0.05)\n",
        "\n",
        "    plt.text(pca_bis.components_[0, i] + 0.05,\n",
        "             pca_bis.components_[1, i] + 0.05,\n",
        "             X.columns.values[i])\n",
        "\n",
        "\n",
        "an = np.linspace(0, 2 * np.pi, 100)\n",
        "plt.plot(np.cos(an), np.sin(an))\n",
        "plt.axis('equal')\n",
        "ax.set_title('Variable factor map')\n",
        "plt.show()"
      ],
      "id": "critical-requirement",
      "execution_count": null,
      "outputs": []
    },
    {
      "cell_type": "markdown",
      "metadata": {
        "id": "demanding-contributor"
      },
      "source": [
        "# KMeans (2 clusters)"
      ],
      "id": "demanding-contributor"
    },
    {
      "cell_type": "code",
      "metadata": {
        "id": "technological-sheriff"
      },
      "source": [
        "from sklearn.cluster import KMeans\n",
        "\n",
        "kmeans = KMeans(n_clusters=2, random_state=0).fit(X)"
      ],
      "id": "technological-sheriff",
      "execution_count": null,
      "outputs": []
    },
    {
      "cell_type": "code",
      "metadata": {
        "id": "working-president"
      },
      "source": [
        "compTabKmeans = Y.copy()\n",
        "compTabKmeans['kmeansOutliers'] = kmeans.labels_\n",
        "\n",
        "nbElts = len(Y)\n",
        "nbAnomaliesTest = len(Y.loc[Y['isAttack']=='1'])\n",
        "nbTruePos = len(compTabKmeans.loc[(compTabKmeans['isAttack']=='1') &\\\n",
        "                             (compTabKmeans['kmeansOutliers']==0)])\n",
        "print(\"Le nombre d'elements dans Y est: \" + str(nbElts) +\"\\n\")\n",
        "print(\"Le nombre d'anomalies dans Y est: \" + str(nbAnomaliesTest) + \"\\n\")\n",
        "print(\"Le nombre d'anomalies detectées par Kmeans: \" + str(nbTruePos) + \"\\n\")"
      ],
      "id": "working-president",
      "execution_count": null,
      "outputs": []
    },
    {
      "cell_type": "code",
      "metadata": {
        "id": "noted-appraisal"
      },
      "source": [
        "finalDf['Kmeans_2_cluster'] = kmeans.labels_.tolist()\n",
        "finalDf.head()"
      ],
      "id": "noted-appraisal",
      "execution_count": null,
      "outputs": []
    },
    {
      "cell_type": "code",
      "metadata": {
        "id": "municipal-handling"
      },
      "source": [
        "fig = plt.figure(figsize = (10,10))\n",
        "ax = fig.add_subplot(1,1,1) \n",
        "ax.set_xlabel('Principal Component 1: '+\"{:.2f}\".format(pca_bis.explained_variance_ratio_[0]*100)+'%', fontsize = 15)\n",
        "ax.set_ylabel('Principal Component 2: '+\"{:.2f}\".format(pca_bis.explained_variance_ratio_[1]*100)+'%', fontsize = 15)\n",
        "ax.set_title('2 component PCA + kmean 2 cluster', fontsize = 20)\n",
        "labels = [0, 1]\n",
        "colors = ['b', 'r']\n",
        "for target, color in zip(labels,colors):\n",
        "    indicesToKeep = finalDf['Kmeans_2_cluster'] == target\n",
        "    ax.scatter(finalDf.loc[indicesToKeep, 'principal component 1']\n",
        "               , finalDf.loc[indicesToKeep, 'principal component 2']\n",
        "               , c = color\n",
        "               , s = 10)\n",
        "ax.legend(labels)\n",
        "ax.grid()"
      ],
      "id": "municipal-handling",
      "execution_count": null,
      "outputs": []
    },
    {
      "cell_type": "markdown",
      "metadata": {
        "id": "spiritual-multimedia"
      },
      "source": [
        "# KMeans (7 clusters)"
      ],
      "id": "spiritual-multimedia"
    },
    {
      "cell_type": "code",
      "metadata": {
        "id": "figured-preparation"
      },
      "source": [
        "from sklearn.cluster import KMeans\n",
        "\n",
        "kmeans = KMeans(n_clusters=7, random_state=0).fit(X)\n",
        "\n",
        "print(kmeans.labels_)"
      ],
      "id": "figured-preparation",
      "execution_count": null,
      "outputs": []
    },
    {
      "cell_type": "code",
      "metadata": {
        "id": "incoming-matthew"
      },
      "source": [
        "finalDf['Kmeans_7_cluster'] = kmeans.labels_.tolist()\n",
        "finalDf.head()"
      ],
      "id": "incoming-matthew",
      "execution_count": null,
      "outputs": []
    },
    {
      "cell_type": "code",
      "metadata": {
        "id": "severe-pennsylvania"
      },
      "source": [
        "fig = plt.figure(figsize = (10,10))\n",
        "ax = fig.add_subplot(1,1,1) \n",
        "ax.set_xlabel('Principal Component 1: '+\"{:.2f}\".format(pca_bis.explained_variance_ratio_[0]*100)+'%', fontsize = 15)\n",
        "ax.set_ylabel('Principal Component 2: '+\"{:.2f}\".format(pca_bis.explained_variance_ratio_[1]*100)+'%', fontsize = 15)\n",
        "ax.set_title('2 component PCA + kmean 7 clusters', fontsize = 20)\n",
        "labels = [0, 1, 2, 3, 4, 5, 6]\n",
        "colors = ['b', 'r', 'black', 'y', 'g', 'deepskyblue', 'deeppink']\n",
        "for target, color in zip(labels,colors):\n",
        "    indicesToKeep = finalDf['Kmeans_7_cluster'] == target\n",
        "    ax.scatter(finalDf.loc[indicesToKeep, 'principal component 1']\n",
        "               , finalDf.loc[indicesToKeep, 'principal component 2']\n",
        "               , c = color\n",
        "               , s = 10)\n",
        "ax.legend(labels)\n",
        "ax.grid()"
      ],
      "id": "severe-pennsylvania",
      "execution_count": null,
      "outputs": []
    },
    {
      "cell_type": "markdown",
      "metadata": {
        "id": "stuffed-output"
      },
      "source": [
        "# LSTM"
      ],
      "id": "stuffed-output"
    },
    {
      "cell_type": "code",
      "metadata": {
        "id": "improved-bathroom"
      },
      "source": [
        "import plotly.express as px # to plot the time series plot\n",
        "from sklearn import metrics # for the evaluation\n",
        "from sklearn.preprocessing import LabelEncoder,MinMaxScaler\n",
        "import tensorflow as tf "
      ],
      "id": "improved-bathroom",
      "execution_count": null,
      "outputs": []
    },
    {
      "cell_type": "code",
      "metadata": {
        "id": "concerned-origin"
      },
      "source": [
        "data = X.copy()\n",
        "\n",
        "for i in data.select_dtypes('object').columns:\n",
        "    le = LabelEncoder().fit(data[i])\n",
        "    data[i] = le.transform(data[i])"
      ],
      "id": "concerned-origin",
      "execution_count": null,
      "outputs": []
    },
    {
      "cell_type": "code",
      "metadata": {
        "id": "patient-jackson"
      },
      "source": [
        "X_scaler = MinMaxScaler()\n",
        "Y_scaler = MinMaxScaler()\n",
        "\n",
        "X_data = X_scaler.fit_transform(data)\n",
        "Y_data = Y_scaler.fit_transform(Y)"
      ],
      "id": "patient-jackson",
      "execution_count": null,
      "outputs": []
    },
    {
      "cell_type": "code",
      "metadata": {
        "id": "loved-tower"
      },
      "source": [
        "def make_data_for_lstm(dataset, target, window, horizon, nb_train, n):\n",
        "    # nb_test represente le nombre de données qui seront dans le jeu d'entrainement sur n données\n",
        "    # il y aura donc n - nb_train dans le jeu de test sur ces n données\n",
        "    \n",
        "    X_train = []\n",
        "    y_train = []\n",
        "    X_test = []\n",
        "    y_test = []\n",
        "    \n",
        "    cpt = 0\n",
        "    \n",
        "    for i in range(window, len(dataset)-window):\n",
        "        indices = range(i-window, i)\n",
        "        indicey = range(i+1, i+1+horizon)\n",
        "        \n",
        "        if (cpt < nb_train):\n",
        "            X_train.append(dataset[indices])\n",
        "            y_train.append(target[indicey])\n",
        "        else:\n",
        "            X_test.append(dataset[indices])\n",
        "            y_test.append(target[indicey])\n",
        "        \n",
        "        cpt += 1\n",
        "        \n",
        "        if (cpt >= n):\n",
        "            cpt = 0\n",
        "    \n",
        "    return np.array(X_train), np.array(X_test), np.array(y_train), np.array(y_test)"
      ],
      "id": "loved-tower",
      "execution_count": null,
      "outputs": []
    },
    {
      "cell_type": "code",
      "metadata": {
        "id": "antique-canvas"
      },
      "source": [
        "hist_window = 30\n",
        "horizon = 5\n",
        "nb_train = 8\n",
        "n = 10\n",
        "\n",
        "X_train, X_test, y_train, y_test = make_data_for_lstm(X_data, Y_data, hist_window, horizon, nb_train, n)"
      ],
      "id": "antique-canvas",
      "execution_count": null,
      "outputs": []
    },
    {
      "cell_type": "code",
      "metadata": {
        "id": "placed-automation"
      },
      "source": [
        "print(X_train.shape)\n",
        "print(y_train.shape)\n",
        "print(X_test.shape)\n",
        "print(y_test.shape)"
      ],
      "id": "placed-automation",
      "execution_count": null,
      "outputs": []
    },
    {
      "cell_type": "code",
      "metadata": {
        "id": "accepting-middle"
      },
      "source": [
        "batch_size = 256\n",
        "buffer_size = 150\n",
        "train_data = tf.data.Dataset.from_tensor_slices((X_train, y_train))\n",
        "train_data = train_data.cache().shuffle(buffer_size).batch(batch_size).repeat()\n",
        "val_data = tf.data.Dataset.from_tensor_slices((X_test, y_test))\n",
        "val_data = val_data.batch(batch_size).repeat()"
      ],
      "id": "accepting-middle",
      "execution_count": null,
      "outputs": []
    },
    {
      "cell_type": "code",
      "metadata": {
        "id": "further-river"
      },
      "source": [
        "lstm_model = tf.keras.models.Sequential([\n",
        "    tf.keras.layers.Bidirectional(tf.keras.layers.LSTM(200, return_sequences=True), \n",
        "                                input_shape=x_train.shape[-2:]),\n",
        "    tf.keras.layers.Dense(20, activation='tanh'),\n",
        "    tf.keras.layers.Bidirectional(tf.keras.layers.LSTM(150)),\n",
        "    tf.keras.layers.Dense(20, activation='tanh'),\n",
        "    tf.keras.layers.Dense(20, activation='tanh'),\n",
        "    tf.keras.layers.Dropout(0.25),\n",
        "    tf.keras.layers.Dense(units=horizon),\n",
        "])\n",
        "lstm_model.compile(optimizer='adam', loss='mse')\n",
        "lstm_model.summary() "
      ],
      "id": "further-river",
      "execution_count": null,
      "outputs": []
    },
    {
      "cell_type": "code",
      "metadata": {
        "id": "presidential-fisher"
      },
      "source": [
        "model_path = 'Bidirectional_LSTM_Multivariate.h5'\n",
        "early_stopings = tf.keras.callbacks.EarlyStopping(monitor='val_loss', min_delta=0, patience=10, verbose=1, mode='min')\n",
        "checkpoint =  tf.keras.callbacks.ModelCheckpoint(model_path, monitor='val_loss', save_best_only=True, mode='min', verbose=0)\n",
        "callbacks=[early_stopings,checkpoint]"
      ],
      "id": "presidential-fisher",
      "execution_count": null,
      "outputs": []
    },
    {
      "cell_type": "code",
      "metadata": {
        "id": "constant-breed"
      },
      "source": [
        "history = lstm_model.fit(train_data,epochs=50,steps_per_epoch=100,\n",
        "                         validation_data=val_data,validation_steps=50,\n",
        "                         verbose=1,callbacks=callbacks)"
      ],
      "id": "constant-breed",
      "execution_count": null,
      "outputs": []
    },
    {
      "cell_type": "code",
      "metadata": {
        "id": "seventh-baker"
      },
      "source": [
        "plt.figure(figsize=(16,9))\n",
        "plt.plot(history.history['loss'])\n",
        "plt.plot(history.history['val_loss'])\n",
        "plt.title('Model loss')\n",
        "plt.ylabel('loss')\n",
        "plt.xlabel('epoch')\n",
        "plt.legend(['train loss', 'validation loss'])\n",
        "plt.show()"
      ],
      "id": "seventh-baker",
      "execution_count": null,
      "outputs": []
    },
    {
      "cell_type": "code",
      "metadata": {
        "id": "electric-biology"
      },
      "source": [
        "data_val = X_scaler.fit_transform(data[['holiday', 'temp', 'rain_1h', 'snow_1h', 'clouds_all', 'weather_main','weather_description', 'traffic_volume']].tail(48))\n",
        "val_rescaled = data_val.reshape(1, data_val.shape[0], data_val.shape[1])\n",
        "pred = lstm_model.predict(val_rescaled)\n",
        "pred_Inverse = Y_scaler.inverse_transform(pred)\n",
        "\n",
        "print(pred_Inverse)"
      ],
      "id": "electric-biology",
      "execution_count": null,
      "outputs": []
    }
  ]
}